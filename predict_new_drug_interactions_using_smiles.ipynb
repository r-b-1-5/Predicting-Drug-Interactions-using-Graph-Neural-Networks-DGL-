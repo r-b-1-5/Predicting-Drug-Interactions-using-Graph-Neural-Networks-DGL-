{
  "nbformat": 4,
  "nbformat_minor": 5,
  "metadata": {
    "kernelspec": {
      "display_name": "Python 3",
      "language": "python",
      "name": "python3"
    },
    "language_info": {
      "codemirror_mode": {
        "name": "ipython",
        "version": 3
      },
      "file_extension": ".py",
      "mimetype": "text/x-python",
      "name": "python",
      "nbconvert_exporter": "python",
      "pygments_lexer": "ipython3",
      "version": "3.7.10"
    },
    "papermill": {
      "default_parameters": {},
      "duration": 156.905864,
      "end_time": "2021-09-17T05:21:12.575301",
      "environment_variables": {},
      "exception": null,
      "input_path": "__notebook__.ipynb",
      "output_path": "__notebook__.ipynb",
      "parameters": {},
      "start_time": "2021-09-17T05:18:35.669437",
      "version": "2.3.3"
    },
    "colab": {
      "name": "predict-new-drug-interactions-using-smiles.ipynb",
      "provenance": [],
      "collapsed_sections": [],
      "toc_visible": true
    },
    "accelerator": "GPU"
  },
  "cells": [
    {
      "cell_type": "markdown",
      "metadata": {
        "id": "tttX-uFU-51C"
      },
      "source": [
        "## KAGGLE(LOAD FILES)"
      ],
      "id": "tttX-uFU-51C"
    },
    {
      "cell_type": "code",
      "metadata": {
        "_cell_guid": "b1076dfc-b9ad-4769-8c92-a6c4dae69d19",
        "_uuid": "8f2839f25d086af736a60e9eeb907d3b93b6e0e5",
        "execution": {
          "iopub.execute_input": "2021-09-17T05:18:43.993893Z",
          "iopub.status.busy": "2021-09-17T05:18:43.993208Z",
          "iopub.status.idle": "2021-09-17T05:18:44.006616Z",
          "shell.execute_reply": "2021-09-17T05:18:44.007100Z",
          "shell.execute_reply.started": "2021-09-17T04:52:11.622521Z"
        },
        "papermill": {
          "duration": 0.074114,
          "end_time": "2021-09-17T05:18:44.007391",
          "exception": false,
          "start_time": "2021-09-17T05:18:43.933277",
          "status": "completed"
        },
        "tags": [],
        "id": "f5a9e22b",
        "outputId": "354ac4e6-4927-4a1e-d369-fbceb9898253"
      },
      "source": [
        "# This Python 3 environment comes with many helpful analytics libraries installed\n",
        "# It is defined by the kaggle/python Docker image: https://github.com/kaggle/docker-python\n",
        "# For example, here's several helpful packages to load\n",
        "\n",
        "import numpy as np # linear algebra\n",
        "import pandas as pd # data processing, CSV file I/O (e.g. pd.read_csv)\n",
        "\n",
        "# Input data files are available in the read-only \"../input/\" directory\n",
        "# For example, running this (by clicking run or pressing Shift+Enter) will list all files under the input directory\n",
        "\n",
        "import os\n",
        "for dirname, _, filenames in os.walk('/kaggle/input'):\n",
        "    for filename in filenames:\n",
        "        print(os.path.join(dirname, filename))\n",
        "\n",
        "# You can write up to 20GB to the current directory (/kaggle/working/) that gets preserved as output when you create a version using \"Save & Run All\" \n",
        "# You can also write temporary files to /kaggle/temp/, but they won't be saved outside of the current session\n",
        "\n"
      ],
      "id": "f5a9e22b",
      "execution_count": null,
      "outputs": [
        {
          "name": "stdout",
          "output_type": "stream",
          "text": [
            "/kaggle/input/drug-interaction-and-smiles/interaction_list.csv\n",
            "/kaggle/input/drug-interaction-and-smiles/drugIDandSMILES.csv\n"
          ]
        }
      ]
    },
    {
      "cell_type": "markdown",
      "metadata": {
        "id": "p81SQpzCFRQI"
      },
      "source": [
        "## COLAB(UPLOADING FILES)"
      ],
      "id": "p81SQpzCFRQI"
    },
    {
      "cell_type": "code",
      "metadata": {
        "colab": {
          "resources": {
            "http://localhost:8080/nbextensions/google.colab/files.js": {
              "data": "Ly8gQ29weXJpZ2h0IDIwMTcgR29vZ2xlIExMQwovLwovLyBMaWNlbnNlZCB1bmRlciB0aGUgQXBhY2hlIExpY2Vuc2UsIFZlcnNpb24gMi4wICh0aGUgIkxpY2Vuc2UiKTsKLy8geW91IG1heSBub3QgdXNlIHRoaXMgZmlsZSBleGNlcHQgaW4gY29tcGxpYW5jZSB3aXRoIHRoZSBMaWNlbnNlLgovLyBZb3UgbWF5IG9idGFpbiBhIGNvcHkgb2YgdGhlIExpY2Vuc2UgYXQKLy8KLy8gICAgICBodHRwOi8vd3d3LmFwYWNoZS5vcmcvbGljZW5zZXMvTElDRU5TRS0yLjAKLy8KLy8gVW5sZXNzIHJlcXVpcmVkIGJ5IGFwcGxpY2FibGUgbGF3IG9yIGFncmVlZCB0byBpbiB3cml0aW5nLCBzb2Z0d2FyZQovLyBkaXN0cmlidXRlZCB1bmRlciB0aGUgTGljZW5zZSBpcyBkaXN0cmlidXRlZCBvbiBhbiAiQVMgSVMiIEJBU0lTLAovLyBXSVRIT1VUIFdBUlJBTlRJRVMgT1IgQ09ORElUSU9OUyBPRiBBTlkgS0lORCwgZWl0aGVyIGV4cHJlc3Mgb3IgaW1wbGllZC4KLy8gU2VlIHRoZSBMaWNlbnNlIGZvciB0aGUgc3BlY2lmaWMgbGFuZ3VhZ2UgZ292ZXJuaW5nIHBlcm1pc3Npb25zIGFuZAovLyBsaW1pdGF0aW9ucyB1bmRlciB0aGUgTGljZW5zZS4KCi8qKgogKiBAZmlsZW92ZXJ2aWV3IEhlbHBlcnMgZm9yIGdvb2dsZS5jb2xhYiBQeXRob24gbW9kdWxlLgogKi8KKGZ1bmN0aW9uKHNjb3BlKSB7CmZ1bmN0aW9uIHNwYW4odGV4dCwgc3R5bGVBdHRyaWJ1dGVzID0ge30pIHsKICBjb25zdCBlbGVtZW50ID0gZG9jdW1lbnQuY3JlYXRlRWxlbWVudCgnc3BhbicpOwogIGVsZW1lbnQudGV4dENvbnRlbnQgPSB0ZXh0OwogIGZvciAoY29uc3Qga2V5IG9mIE9iamVjdC5rZXlzKHN0eWxlQXR0cmlidXRlcykpIHsKICAgIGVsZW1lbnQuc3R5bGVba2V5XSA9IHN0eWxlQXR0cmlidXRlc1trZXldOwogIH0KICByZXR1cm4gZWxlbWVudDsKfQoKLy8gTWF4IG51bWJlciBvZiBieXRlcyB3aGljaCB3aWxsIGJlIHVwbG9hZGVkIGF0IGEgdGltZS4KY29uc3QgTUFYX1BBWUxPQURfU0laRSA9IDEwMCAqIDEwMjQ7CgpmdW5jdGlvbiBfdXBsb2FkRmlsZXMoaW5wdXRJZCwgb3V0cHV0SWQpIHsKICBjb25zdCBzdGVwcyA9IHVwbG9hZEZpbGVzU3RlcChpbnB1dElkLCBvdXRwdXRJZCk7CiAgY29uc3Qgb3V0cHV0RWxlbWVudCA9IGRvY3VtZW50LmdldEVsZW1lbnRCeUlkKG91dHB1dElkKTsKICAvLyBDYWNoZSBzdGVwcyBvbiB0aGUgb3V0cHV0RWxlbWVudCB0byBtYWtlIGl0IGF2YWlsYWJsZSBmb3IgdGhlIG5leHQgY2FsbAogIC8vIHRvIHVwbG9hZEZpbGVzQ29udGludWUgZnJvbSBQeXRob24uCiAgb3V0cHV0RWxlbWVudC5zdGVwcyA9IHN0ZXBzOwoKICByZXR1cm4gX3VwbG9hZEZpbGVzQ29udGludWUob3V0cHV0SWQpOwp9CgovLyBUaGlzIGlzIHJvdWdobHkgYW4gYXN5bmMgZ2VuZXJhdG9yIChub3Qgc3VwcG9ydGVkIGluIHRoZSBicm93c2VyIHlldCksCi8vIHdoZXJlIHRoZXJlIGFyZSBtdWx0aXBsZSBhc3luY2hyb25vdXMgc3RlcHMgYW5kIHRoZSBQeXRob24gc2lkZSBpcyBnb2luZwovLyB0byBwb2xsIGZvciBjb21wbGV0aW9uIG9mIGVhY2ggc3RlcC4KLy8gVGhpcyB1c2VzIGEgUHJvbWlzZSB0byBibG9jayB0aGUgcHl0aG9uIHNpZGUgb24gY29tcGxldGlvbiBvZiBlYWNoIHN0ZXAsCi8vIHRoZW4gcGFzc2VzIHRoZSByZXN1bHQgb2YgdGhlIHByZXZpb3VzIHN0ZXAgYXMgdGhlIGlucHV0IHRvIHRoZSBuZXh0IHN0ZXAuCmZ1bmN0aW9uIF91cGxvYWRGaWxlc0NvbnRpbnVlKG91dHB1dElkKSB7CiAgY29uc3Qgb3V0cHV0RWxlbWVudCA9IGRvY3VtZW50LmdldEVsZW1lbnRCeUlkKG91dHB1dElkKTsKICBjb25zdCBzdGVwcyA9IG91dHB1dEVsZW1lbnQuc3RlcHM7CgogIGNvbnN0IG5leHQgPSBzdGVwcy5uZXh0KG91dHB1dEVsZW1lbnQubGFzdFByb21pc2VWYWx1ZSk7CiAgcmV0dXJuIFByb21pc2UucmVzb2x2ZShuZXh0LnZhbHVlLnByb21pc2UpLnRoZW4oKHZhbHVlKSA9PiB7CiAgICAvLyBDYWNoZSB0aGUgbGFzdCBwcm9taXNlIHZhbHVlIHRvIG1ha2UgaXQgYXZhaWxhYmxlIHRvIHRoZSBuZXh0CiAgICAvLyBzdGVwIG9mIHRoZSBnZW5lcmF0b3IuCiAgICBvdXRwdXRFbGVtZW50Lmxhc3RQcm9taXNlVmFsdWUgPSB2YWx1ZTsKICAgIHJldHVybiBuZXh0LnZhbHVlLnJlc3BvbnNlOwogIH0pOwp9CgovKioKICogR2VuZXJhdG9yIGZ1bmN0aW9uIHdoaWNoIGlzIGNhbGxlZCBiZXR3ZWVuIGVhY2ggYXN5bmMgc3RlcCBvZiB0aGUgdXBsb2FkCiAqIHByb2Nlc3MuCiAqIEBwYXJhbSB7c3RyaW5nfSBpbnB1dElkIEVsZW1lbnQgSUQgb2YgdGhlIGlucHV0IGZpbGUgcGlja2VyIGVsZW1lbnQuCiAqIEBwYXJhbSB7c3RyaW5nfSBvdXRwdXRJZCBFbGVtZW50IElEIG9mIHRoZSBvdXRwdXQgZGlzcGxheS4KICogQHJldHVybiB7IUl0ZXJhYmxlPCFPYmplY3Q+fSBJdGVyYWJsZSBvZiBuZXh0IHN0ZXBzLgogKi8KZnVuY3Rpb24qIHVwbG9hZEZpbGVzU3RlcChpbnB1dElkLCBvdXRwdXRJZCkgewogIGNvbnN0IGlucHV0RWxlbWVudCA9IGRvY3VtZW50LmdldEVsZW1lbnRCeUlkKGlucHV0SWQpOwogIGlucHV0RWxlbWVudC5kaXNhYmxlZCA9IGZhbHNlOwoKICBjb25zdCBvdXRwdXRFbGVtZW50ID0gZG9jdW1lbnQuZ2V0RWxlbWVudEJ5SWQob3V0cHV0SWQpOwogIG91dHB1dEVsZW1lbnQuaW5uZXJIVE1MID0gJyc7CgogIGNvbnN0IHBpY2tlZFByb21pc2UgPSBuZXcgUHJvbWlzZSgocmVzb2x2ZSkgPT4gewogICAgaW5wdXRFbGVtZW50LmFkZEV2ZW50TGlzdGVuZXIoJ2NoYW5nZScsIChlKSA9PiB7CiAgICAgIHJlc29sdmUoZS50YXJnZXQuZmlsZXMpOwogICAgfSk7CiAgfSk7CgogIGNvbnN0IGNhbmNlbCA9IGRvY3VtZW50LmNyZWF0ZUVsZW1lbnQoJ2J1dHRvbicpOwogIGlucHV0RWxlbWVudC5wYXJlbnRFbGVtZW50LmFwcGVuZENoaWxkKGNhbmNlbCk7CiAgY2FuY2VsLnRleHRDb250ZW50ID0gJ0NhbmNlbCB1cGxvYWQnOwogIGNvbnN0IGNhbmNlbFByb21pc2UgPSBuZXcgUHJvbWlzZSgocmVzb2x2ZSkgPT4gewogICAgY2FuY2VsLm9uY2xpY2sgPSAoKSA9PiB7CiAgICAgIHJlc29sdmUobnVsbCk7CiAgICB9OwogIH0pOwoKICAvLyBXYWl0IGZvciB0aGUgdXNlciB0byBwaWNrIHRoZSBmaWxlcy4KICBjb25zdCBmaWxlcyA9IHlpZWxkIHsKICAgIHByb21pc2U6IFByb21pc2UucmFjZShbcGlja2VkUHJvbWlzZSwgY2FuY2VsUHJvbWlzZV0pLAogICAgcmVzcG9uc2U6IHsKICAgICAgYWN0aW9uOiAnc3RhcnRpbmcnLAogICAgfQogIH07CgogIGNhbmNlbC5yZW1vdmUoKTsKCiAgLy8gRGlzYWJsZSB0aGUgaW5wdXQgZWxlbWVudCBzaW5jZSBmdXJ0aGVyIHBpY2tzIGFyZSBub3QgYWxsb3dlZC4KICBpbnB1dEVsZW1lbnQuZGlzYWJsZWQgPSB0cnVlOwoKICBpZiAoIWZpbGVzKSB7CiAgICByZXR1cm4gewogICAgICByZXNwb25zZTogewogICAgICAgIGFjdGlvbjogJ2NvbXBsZXRlJywKICAgICAgfQogICAgfTsKICB9CgogIGZvciAoY29uc3QgZmlsZSBvZiBmaWxlcykgewogICAgY29uc3QgbGkgPSBkb2N1bWVudC5jcmVhdGVFbGVtZW50KCdsaScpOwogICAgbGkuYXBwZW5kKHNwYW4oZmlsZS5uYW1lLCB7Zm9udFdlaWdodDogJ2JvbGQnfSkpOwogICAgbGkuYXBwZW5kKHNwYW4oCiAgICAgICAgYCgke2ZpbGUudHlwZSB8fCAnbi9hJ30pIC0gJHtmaWxlLnNpemV9IGJ5dGVzLCBgICsKICAgICAgICBgbGFzdCBtb2RpZmllZDogJHsKICAgICAgICAgICAgZmlsZS5sYXN0TW9kaWZpZWREYXRlID8gZmlsZS5sYXN0TW9kaWZpZWREYXRlLnRvTG9jYWxlRGF0ZVN0cmluZygpIDoKICAgICAgICAgICAgICAgICAgICAgICAgICAgICAgICAgICAgJ24vYSd9IC0gYCkpOwogICAgY29uc3QgcGVyY2VudCA9IHNwYW4oJzAlIGRvbmUnKTsKICAgIGxpLmFwcGVuZENoaWxkKHBlcmNlbnQpOwoKICAgIG91dHB1dEVsZW1lbnQuYXBwZW5kQ2hpbGQobGkpOwoKICAgIGNvbnN0IGZpbGVEYXRhUHJvbWlzZSA9IG5ldyBQcm9taXNlKChyZXNvbHZlKSA9PiB7CiAgICAgIGNvbnN0IHJlYWRlciA9IG5ldyBGaWxlUmVhZGVyKCk7CiAgICAgIHJlYWRlci5vbmxvYWQgPSAoZSkgPT4gewogICAgICAgIHJlc29sdmUoZS50YXJnZXQucmVzdWx0KTsKICAgICAgfTsKICAgICAgcmVhZGVyLnJlYWRBc0FycmF5QnVmZmVyKGZpbGUpOwogICAgfSk7CiAgICAvLyBXYWl0IGZvciB0aGUgZGF0YSB0byBiZSByZWFkeS4KICAgIGxldCBmaWxlRGF0YSA9IHlpZWxkIHsKICAgICAgcHJvbWlzZTogZmlsZURhdGFQcm9taXNlLAogICAgICByZXNwb25zZTogewogICAgICAgIGFjdGlvbjogJ2NvbnRpbnVlJywKICAgICAgfQogICAgfTsKCiAgICAvLyBVc2UgYSBjaHVua2VkIHNlbmRpbmcgdG8gYXZvaWQgbWVzc2FnZSBzaXplIGxpbWl0cy4gU2VlIGIvNjIxMTU2NjAuCiAgICBsZXQgcG9zaXRpb24gPSAwOwogICAgZG8gewogICAgICBjb25zdCBsZW5ndGggPSBNYXRoLm1pbihmaWxlRGF0YS5ieXRlTGVuZ3RoIC0gcG9zaXRpb24sIE1BWF9QQVlMT0FEX1NJWkUpOwogICAgICBjb25zdCBjaHVuayA9IG5ldyBVaW50OEFycmF5KGZpbGVEYXRhLCBwb3NpdGlvbiwgbGVuZ3RoKTsKICAgICAgcG9zaXRpb24gKz0gbGVuZ3RoOwoKICAgICAgY29uc3QgYmFzZTY0ID0gYnRvYShTdHJpbmcuZnJvbUNoYXJDb2RlLmFwcGx5KG51bGwsIGNodW5rKSk7CiAgICAgIHlpZWxkIHsKICAgICAgICByZXNwb25zZTogewogICAgICAgICAgYWN0aW9uOiAnYXBwZW5kJywKICAgICAgICAgIGZpbGU6IGZpbGUubmFtZSwKICAgICAgICAgIGRhdGE6IGJhc2U2NCwKICAgICAgICB9LAogICAgICB9OwoKICAgICAgbGV0IHBlcmNlbnREb25lID0gZmlsZURhdGEuYnl0ZUxlbmd0aCA9PT0gMCA/CiAgICAgICAgICAxMDAgOgogICAgICAgICAgTWF0aC5yb3VuZCgocG9zaXRpb24gLyBmaWxlRGF0YS5ieXRlTGVuZ3RoKSAqIDEwMCk7CiAgICAgIHBlcmNlbnQudGV4dENvbnRlbnQgPSBgJHtwZXJjZW50RG9uZX0lIGRvbmVgOwoKICAgIH0gd2hpbGUgKHBvc2l0aW9uIDwgZmlsZURhdGEuYnl0ZUxlbmd0aCk7CiAgfQoKICAvLyBBbGwgZG9uZS4KICB5aWVsZCB7CiAgICByZXNwb25zZTogewogICAgICBhY3Rpb246ICdjb21wbGV0ZScsCiAgICB9CiAgfTsKfQoKc2NvcGUuZ29vZ2xlID0gc2NvcGUuZ29vZ2xlIHx8IHt9OwpzY29wZS5nb29nbGUuY29sYWIgPSBzY29wZS5nb29nbGUuY29sYWIgfHwge307CnNjb3BlLmdvb2dsZS5jb2xhYi5fZmlsZXMgPSB7CiAgX3VwbG9hZEZpbGVzLAogIF91cGxvYWRGaWxlc0NvbnRpbnVlLAp9Owp9KShzZWxmKTsK",
              "ok": true,
              "headers": [
                [
                  "content-type",
                  "application/javascript"
                ]
              ],
              "status": 200,
              "status_text": ""
            }
          },
          "base_uri": "https://localhost:8080/"
        },
        "id": "O_IW8j6iFThx",
        "outputId": "b1b7df34-e36d-4691-c371-a63efa39967d"
      },
      "source": [
        "## UPLOAD THE TWO FILES\n",
        "from google.colab import files\n",
        "uploaded = files.upload()"
      ],
      "id": "O_IW8j6iFThx",
      "execution_count": null,
      "outputs": [
        {
          "output_type": "display_data",
          "data": {
            "text/html": [
              "\n",
              "     <input type=\"file\" id=\"files-7c1b1c0d-e9b7-4c64-ab72-460df06a031e\" name=\"files[]\" multiple disabled\n",
              "        style=\"border:none\" />\n",
              "     <output id=\"result-7c1b1c0d-e9b7-4c64-ab72-460df06a031e\">\n",
              "      Upload widget is only available when the cell has been executed in the\n",
              "      current browser session. Please rerun this cell to enable.\n",
              "      </output>\n",
              "      <script src=\"/nbextensions/google.colab/files.js\"></script> "
            ],
            "text/plain": [
              "<IPython.core.display.HTML object>"
            ]
          },
          "metadata": {}
        },
        {
          "output_type": "stream",
          "name": "stdout",
          "text": [
            "Saving drugIDandSMILES.csv to drugIDandSMILES.csv\n",
            "Saving interaction_list.csv to interaction_list.csv\n"
          ]
        }
      ]
    },
    {
      "cell_type": "markdown",
      "metadata": {
        "id": "XHhHntkGST4u"
      },
      "source": [
        "## Installing the packages\n",
        "\n"
      ],
      "id": "XHhHntkGST4u"
    },
    {
      "cell_type": "code",
      "metadata": {
        "colab": {
          "base_uri": "https://localhost:8080/"
        },
        "id": "I2Bzxm_cSbK0",
        "outputId": "4421fe4e-cde8-42c1-8cbf-f3c93819d77c"
      },
      "source": [
        "! pip install rdkit-pypi\n",
        "! pip install deepchem\n",
        "# ! pip install dgl \n",
        "! pip install ogb"
      ],
      "id": "I2Bzxm_cSbK0",
      "execution_count": 1,
      "outputs": [
        {
          "output_type": "stream",
          "name": "stdout",
          "text": [
            "Collecting rdkit-pypi\n",
            "  Downloading rdkit_pypi-2021.3.5.1-cp37-cp37m-manylinux_2_17_x86_64.manylinux2014_x86_64.whl (19.7 MB)\n",
            "\u001b[K     |████████████████████████████████| 19.7 MB 35.6 MB/s \n",
            "\u001b[?25hRequirement already satisfied: numpy>=1.19 in /usr/local/lib/python3.7/dist-packages (from rdkit-pypi) (1.19.5)\n",
            "Installing collected packages: rdkit-pypi\n",
            "Successfully installed rdkit-pypi-2021.3.5.1\n",
            "Collecting deepchem\n",
            "  Downloading deepchem-2.5.0-py3-none-any.whl (552 kB)\n",
            "\u001b[K     |████████████████████████████████| 552 kB 5.3 MB/s \n",
            "\u001b[?25hRequirement already satisfied: scipy in /usr/local/lib/python3.7/dist-packages (from deepchem) (1.4.1)\n",
            "Requirement already satisfied: joblib in /usr/local/lib/python3.7/dist-packages (from deepchem) (1.0.1)\n",
            "Requirement already satisfied: numpy in /usr/local/lib/python3.7/dist-packages (from deepchem) (1.19.5)\n",
            "Requirement already satisfied: scikit-learn in /usr/local/lib/python3.7/dist-packages (from deepchem) (0.22.2.post1)\n",
            "Requirement already satisfied: pandas in /usr/local/lib/python3.7/dist-packages (from deepchem) (1.1.5)\n",
            "Requirement already satisfied: python-dateutil>=2.7.3 in /usr/local/lib/python3.7/dist-packages (from pandas->deepchem) (2.8.2)\n",
            "Requirement already satisfied: pytz>=2017.2 in /usr/local/lib/python3.7/dist-packages (from pandas->deepchem) (2018.9)\n",
            "Requirement already satisfied: six>=1.5 in /usr/local/lib/python3.7/dist-packages (from python-dateutil>=2.7.3->pandas->deepchem) (1.15.0)\n",
            "Installing collected packages: deepchem\n",
            "Successfully installed deepchem-2.5.0\n",
            "Collecting ogb\n",
            "  Downloading ogb-1.3.2-py3-none-any.whl (78 kB)\n",
            "\u001b[K     |████████████████████████████████| 78 kB 3.5 MB/s \n",
            "\u001b[?25hRequirement already satisfied: pandas>=0.24.0 in /usr/local/lib/python3.7/dist-packages (from ogb) (1.1.5)\n",
            "Collecting outdated>=0.2.0\n",
            "  Downloading outdated-0.2.1-py3-none-any.whl (7.5 kB)\n",
            "Requirement already satisfied: scikit-learn>=0.20.0 in /usr/local/lib/python3.7/dist-packages (from ogb) (0.22.2.post1)\n",
            "Requirement already satisfied: numpy>=1.16.0 in /usr/local/lib/python3.7/dist-packages (from ogb) (1.19.5)\n",
            "Requirement already satisfied: urllib3>=1.24.0 in /usr/local/lib/python3.7/dist-packages (from ogb) (1.24.3)\n",
            "Requirement already satisfied: six>=1.12.0 in /usr/local/lib/python3.7/dist-packages (from ogb) (1.15.0)\n",
            "Requirement already satisfied: tqdm>=4.29.0 in /usr/local/lib/python3.7/dist-packages (from ogb) (4.62.3)\n",
            "Requirement already satisfied: torch>=1.6.0 in /usr/local/lib/python3.7/dist-packages (from ogb) (1.9.0+cu102)\n",
            "Requirement already satisfied: requests in /usr/local/lib/python3.7/dist-packages (from outdated>=0.2.0->ogb) (2.23.0)\n",
            "Collecting littleutils\n",
            "  Downloading littleutils-0.2.2.tar.gz (6.6 kB)\n",
            "Requirement already satisfied: pytz>=2017.2 in /usr/local/lib/python3.7/dist-packages (from pandas>=0.24.0->ogb) (2018.9)\n",
            "Requirement already satisfied: python-dateutil>=2.7.3 in /usr/local/lib/python3.7/dist-packages (from pandas>=0.24.0->ogb) (2.8.2)\n",
            "Requirement already satisfied: joblib>=0.11 in /usr/local/lib/python3.7/dist-packages (from scikit-learn>=0.20.0->ogb) (1.0.1)\n",
            "Requirement already satisfied: scipy>=0.17.0 in /usr/local/lib/python3.7/dist-packages (from scikit-learn>=0.20.0->ogb) (1.4.1)\n",
            "Requirement already satisfied: typing-extensions in /usr/local/lib/python3.7/dist-packages (from torch>=1.6.0->ogb) (3.7.4.3)\n",
            "Requirement already satisfied: certifi>=2017.4.17 in /usr/local/lib/python3.7/dist-packages (from requests->outdated>=0.2.0->ogb) (2021.5.30)\n",
            "Requirement already satisfied: idna<3,>=2.5 in /usr/local/lib/python3.7/dist-packages (from requests->outdated>=0.2.0->ogb) (2.10)\n",
            "Requirement already satisfied: chardet<4,>=3.0.2 in /usr/local/lib/python3.7/dist-packages (from requests->outdated>=0.2.0->ogb) (3.0.4)\n",
            "Building wheels for collected packages: littleutils\n",
            "  Building wheel for littleutils (setup.py) ... \u001b[?25l\u001b[?25hdone\n",
            "  Created wheel for littleutils: filename=littleutils-0.2.2-py3-none-any.whl size=7048 sha256=52ad82f28855148df5bdd6a222ef1e91ccd55d4a97032411408b7e35b786ca13\n",
            "  Stored in directory: /root/.cache/pip/wheels/d6/64/cd/32819b511a488e4993f2fab909a95330289c3f4e0f6ef4676d\n",
            "Successfully built littleutils\n",
            "Installing collected packages: littleutils, outdated, ogb\n",
            "Successfully installed littleutils-0.2.2 ogb-1.3.2 outdated-0.2.1\n"
          ]
        }
      ]
    },
    {
      "cell_type": "code",
      "metadata": {
        "colab": {
          "base_uri": "https://localhost:8080/"
        },
        "id": "spB_u8l55aQ5",
        "outputId": "124ae7f6-ce37-4cdb-f994-aba5b8393bad"
      },
      "source": [
        "!nvcc --version"
      ],
      "id": "spB_u8l55aQ5",
      "execution_count": 2,
      "outputs": [
        {
          "output_type": "stream",
          "name": "stdout",
          "text": [
            "nvcc: NVIDIA (R) Cuda compiler driver\n",
            "Copyright (c) 2005-2020 NVIDIA Corporation\n",
            "Built on Mon_Oct_12_20:09:46_PDT_2020\n",
            "Cuda compilation tools, release 11.1, V11.1.105\n",
            "Build cuda_11.1.TC455_06.29190527_0\n"
          ]
        }
      ]
    },
    {
      "cell_type": "code",
      "metadata": {
        "colab": {
          "base_uri": "https://localhost:8080/"
        },
        "id": "YxfYNtuD6eMJ",
        "outputId": "657b6ec1-e017-4f94-c12b-1cf4af8b0b9e"
      },
      "source": [
        "! pip install dgl-cu111 -f https://data.dgl.ai/wheels/repo.html"
      ],
      "id": "YxfYNtuD6eMJ",
      "execution_count": 3,
      "outputs": [
        {
          "output_type": "stream",
          "name": "stdout",
          "text": [
            "Looking in links: https://data.dgl.ai/wheels/repo.html\n",
            "Collecting dgl-cu111\n",
            "  Downloading https://data.dgl.ai/wheels/dgl_cu111-0.7.1-cp37-cp37m-manylinux1_x86_64.whl (164.7 MB)\n",
            "\u001b[K     |████████████████████████████████| 164.7 MB 11 kB/s \n",
            "\u001b[?25hRequirement already satisfied: requests>=2.19.0 in /usr/local/lib/python3.7/dist-packages (from dgl-cu111) (2.23.0)\n",
            "Requirement already satisfied: numpy>=1.14.0 in /usr/local/lib/python3.7/dist-packages (from dgl-cu111) (1.19.5)\n",
            "Requirement already satisfied: networkx>=2.1 in /usr/local/lib/python3.7/dist-packages (from dgl-cu111) (2.6.3)\n",
            "Requirement already satisfied: scipy>=1.1.0 in /usr/local/lib/python3.7/dist-packages (from dgl-cu111) (1.4.1)\n",
            "Requirement already satisfied: idna<3,>=2.5 in /usr/local/lib/python3.7/dist-packages (from requests>=2.19.0->dgl-cu111) (2.10)\n",
            "Requirement already satisfied: urllib3!=1.25.0,!=1.25.1,<1.26,>=1.21.1 in /usr/local/lib/python3.7/dist-packages (from requests>=2.19.0->dgl-cu111) (1.24.3)\n",
            "Requirement already satisfied: chardet<4,>=3.0.2 in /usr/local/lib/python3.7/dist-packages (from requests>=2.19.0->dgl-cu111) (3.0.4)\n",
            "Requirement already satisfied: certifi>=2017.4.17 in /usr/local/lib/python3.7/dist-packages (from requests>=2.19.0->dgl-cu111) (2021.5.30)\n",
            "Installing collected packages: dgl-cu111\n",
            "Successfully installed dgl-cu111-0.7.1\n"
          ]
        }
      ]
    },
    {
      "cell_type": "markdown",
      "metadata": {
        "id": "Qm-TP2wbS6fB"
      },
      "source": [
        "## Importing the required modules"
      ],
      "id": "Qm-TP2wbS6fB"
    },
    {
      "cell_type": "code",
      "metadata": {
        "id": "zNfhiFiBS8-w"
      },
      "source": [
        "import numpy as np\n",
        "import pandas\n",
        "import time\n",
        "import networkx as nx\n",
        "import itertools\n",
        "import scipy.sparse as sp\n",
        "import random "
      ],
      "id": "zNfhiFiBS8-w",
      "execution_count": 4,
      "outputs": []
    },
    {
      "cell_type": "code",
      "metadata": {
        "id": "tjTrLz-8WeV6"
      },
      "source": [
        "import torch\n",
        "import torch.nn as nn\n",
        "import torch.nn.functional as F"
      ],
      "id": "tjTrLz-8WeV6",
      "execution_count": 5,
      "outputs": []
    },
    {
      "cell_type": "code",
      "metadata": {
        "id": "f_T2Je7g0_lT"
      },
      "source": [
        "from rdkit.Chem import MACCSkeys\n",
        "from rdkit import Chem"
      ],
      "id": "f_T2Je7g0_lT",
      "execution_count": 6,
      "outputs": []
    },
    {
      "cell_type": "code",
      "metadata": {
        "id": "mPe8AThO1RC8",
        "colab": {
          "base_uri": "https://localhost:8080/"
        },
        "outputId": "e461a509-4b65-4e44-bf68-6a0ae10ed217"
      },
      "source": [
        "import dgl\n",
        "from dgl.nn import SAGEConv,GraphConv\n",
        "import dgl.function as fn"
      ],
      "id": "mPe8AThO1RC8",
      "execution_count": 7,
      "outputs": [
        {
          "output_type": "stream",
          "name": "stderr",
          "text": [
            "DGL backend not selected or invalid.  Assuming PyTorch for now.\n"
          ]
        },
        {
          "output_type": "stream",
          "name": "stdout",
          "text": [
            "Setting the default backend to \"pytorch\". You can change it in the ~/.dgl/config.json file or export the DGLBACKEND environment variable.  Valid options are: pytorch, mxnet, tensorflow (all lowercase)\n"
          ]
        },
        {
          "output_type": "stream",
          "name": "stderr",
          "text": [
            "Using backend: pytorch\n"
          ]
        }
      ]
    },
    {
      "cell_type": "code",
      "metadata": {
        "id": "hWJMti881g5R"
      },
      "source": [
        "from sklearn.metrics import roc_auc_score\n",
        "from ogb.linkproppred import Evaluator"
      ],
      "id": "hWJMti881g5R",
      "execution_count": 8,
      "outputs": []
    },
    {
      "cell_type": "code",
      "metadata": {
        "id": "qiWD2YpW-tK0"
      },
      "source": [
        "import copy"
      ],
      "id": "qiWD2YpW-tK0",
      "execution_count": 9,
      "outputs": []
    },
    {
      "cell_type": "markdown",
      "metadata": {
        "id": "ynzOBB4ySXY8"
      },
      "source": [
        "## Reading the files and saving the required columns in variables\n",
        "\n",
        "\n",
        "\n"
      ],
      "id": "ynzOBB4ySXY8"
    },
    {
      "cell_type": "code",
      "metadata": {
        "execution": {
          "iopub.execute_input": "2021-09-17T05:18:44.102582Z",
          "iopub.status.busy": "2021-09-17T05:18:44.101768Z",
          "iopub.status.idle": "2021-09-17T05:18:44.147656Z",
          "shell.execute_reply": "2021-09-17T05:18:44.148290Z",
          "shell.execute_reply.started": "2021-09-17T04:52:16.490607Z"
        },
        "papermill": {
          "duration": 0.095447,
          "end_time": "2021-09-17T05:18:44.148475",
          "exception": false,
          "start_time": "2021-09-17T05:18:44.053028",
          "status": "completed"
        },
        "tags": [],
        "id": "686e079f",
        "colab": {
          "base_uri": "https://localhost:8080/"
        },
        "outputId": "94043ff8-7a25-4121-93da-13d91f66ecf9"
      },
      "source": [
        "csvFile = pandas.read_csv('./drugIDandSMILES.csv')\n",
        " \n",
        "print(len(csvFile))\n",
        "print(csvFile)"
      ],
      "id": "686e079f",
      "execution_count": 10,
      "outputs": [
        {
          "output_type": "stream",
          "name": "stdout",
          "text": [
            "11160\n",
            "       Drug ID                                             SMILES\n",
            "0      DB00006  CC[C@H](C)[C@H](NC(=O)[C@H](CCC(O)=O)NC(=O)[C@...\n",
            "1      DB00007  CCNC(=O)[C@@H]1CCCN1C(=O)[C@H](CCCNC(N)=N)NC(=...\n",
            "2      DB00014  CC(C)C[C@H](NC(=O)[C@@H](COC(C)(C)C)NC(=O)[C@H...\n",
            "3      DB00027  CC(C)C[C@@H](NC(=O)CNC(=O)[C@@H](NC=O)C(C)C)C(...\n",
            "4      DB00035  NC(=O)CC[C@@H]1NC(=O)[C@H](CC2=CC=CC=C2)NC(=O)...\n",
            "...        ...                                                ...\n",
            "11155  DB16400  [H][C@@]1(O[C@H](CO)[C@@H](O)[C@H](O)[C@@H]1O)...\n",
            "11156  DB16403  [H][C@@]1(O[C@@H](OC2=C(OC3=C(C(O)=CC(O)=C3)C2...\n",
            "11157  DB16404                             CC(C)C1=CC(O)=C(C)C=C1\n",
            "11158  DB16406  CC1=C(C=C(S1)C(=O)C1=C(N[C@H]2C[C@H](O)[C@@H](...\n",
            "11159  DB16408  COC1=NC(OC)=C2C(O[C@]3([C@@H]([C@@H](CN(C)C)[C...\n",
            "\n",
            "[11160 rows x 2 columns]\n"
          ]
        }
      ]
    },
    {
      "cell_type": "code",
      "metadata": {
        "execution": {
          "iopub.execute_input": "2021-09-17T05:18:44.244612Z",
          "iopub.status.busy": "2021-09-17T05:18:44.239607Z",
          "iopub.status.idle": "2021-09-17T05:18:44.247246Z",
          "shell.execute_reply": "2021-09-17T05:18:44.247694Z",
          "shell.execute_reply.started": "2021-09-17T04:52:19.348934Z"
        },
        "papermill": {
          "duration": 0.055187,
          "end_time": "2021-09-17T05:18:44.247895",
          "exception": false,
          "start_time": "2021-09-17T05:18:44.192708",
          "status": "completed"
        },
        "tags": [],
        "id": "b033cccc"
      },
      "source": [
        "drug_id = csvFile['Drug ID']\n",
        "smiles = csvFile['SMILES']"
      ],
      "id": "b033cccc",
      "execution_count": 11,
      "outputs": []
    },
    {
      "cell_type": "code",
      "metadata": {
        "execution": {
          "iopub.execute_input": "2021-09-17T05:18:44.341326Z",
          "iopub.status.busy": "2021-09-17T05:18:44.340671Z",
          "iopub.status.idle": "2021-09-17T05:18:44.700993Z",
          "shell.execute_reply": "2021-09-17T05:18:44.700266Z",
          "shell.execute_reply.started": "2021-09-17T04:52:29.684026Z"
        },
        "papermill": {
          "duration": 0.408974,
          "end_time": "2021-09-17T05:18:44.701140",
          "exception": false,
          "start_time": "2021-09-17T05:18:44.292166",
          "status": "completed"
        },
        "tags": [],
        "id": "099cd5fb",
        "colab": {
          "base_uri": "https://localhost:8080/"
        },
        "outputId": "623d69a6-75a6-4dae-e937-ad315d93d5c6"
      },
      "source": [
        "csvFile = pandas.read_csv('./interaction_list.csv')\n",
        " \n",
        "print(len(csvFile))\n",
        "print(csvFile)"
      ],
      "id": "099cd5fb",
      "execution_count": 12,
      "outputs": [
        {
          "output_type": "stream",
          "name": "stdout",
          "text": [
            "658269\n",
            "       Drug1 ID Drug2 ID\n",
            "0       DB00001  DB01323\n",
            "1       DB00001  DB00346\n",
            "2       DB00001  DB13783\n",
            "3       DB00001  DB06605\n",
            "4       DB00001  DB09075\n",
            "...         ...      ...\n",
            "658264  DB13929  DB12749\n",
            "658265  DB13929  DB12771\n",
            "658266  DB13929  DB13036\n",
            "658267  DB13929  DB13400\n",
            "658268  DB13929  DB13510\n",
            "\n",
            "[658269 rows x 2 columns]\n"
          ]
        }
      ]
    },
    {
      "cell_type": "code",
      "metadata": {
        "execution": {
          "iopub.execute_input": "2021-09-17T05:18:44.794104Z",
          "iopub.status.busy": "2021-09-17T05:18:44.793069Z",
          "iopub.status.idle": "2021-09-17T05:18:44.796993Z",
          "shell.execute_reply": "2021-09-17T05:18:44.797437Z",
          "shell.execute_reply.started": "2021-09-17T04:52:32.493901Z"
        },
        "papermill": {
          "duration": 0.052093,
          "end_time": "2021-09-17T05:18:44.797607",
          "exception": false,
          "start_time": "2021-09-17T05:18:44.745514",
          "status": "completed"
        },
        "tags": [],
        "id": "2d7f25d1"
      },
      "source": [
        "interaction_id1 = csvFile['Drug1 ID']\n",
        "interaction_id2 = csvFile['Drug2 ID']"
      ],
      "id": "2d7f25d1",
      "execution_count": 13,
      "outputs": []
    },
    {
      "cell_type": "code",
      "metadata": {
        "execution": {
          "iopub.execute_input": "2021-09-17T05:18:44.890820Z",
          "iopub.status.busy": "2021-09-17T05:18:44.889787Z",
          "iopub.status.idle": "2021-09-17T05:18:44.895075Z",
          "shell.execute_reply": "2021-09-17T05:18:44.895629Z",
          "shell.execute_reply.started": "2021-09-17T04:52:34.645844Z"
        },
        "papermill": {
          "duration": 0.053471,
          "end_time": "2021-09-17T05:18:44.895805",
          "exception": false,
          "start_time": "2021-09-17T05:18:44.842334",
          "status": "completed"
        },
        "tags": [],
        "id": "4fe65486"
      },
      "source": [
        "# print(smiles[0])"
      ],
      "id": "4fe65486",
      "execution_count": 14,
      "outputs": []
    },
    {
      "cell_type": "markdown",
      "metadata": {
        "id": "WurHX2meUA2c"
      },
      "source": [
        "## Checking the USE of MACCS keys for encoding the SMILES "
      ],
      "id": "WurHX2meUA2c"
    },
    {
      "cell_type": "code",
      "metadata": {
        "execution": {
          "iopub.execute_input": "2021-09-17T05:19:07.549512Z",
          "iopub.status.busy": "2021-09-17T05:19:07.548872Z",
          "iopub.status.idle": "2021-09-17T05:19:07.555323Z",
          "shell.execute_reply": "2021-09-17T05:19:07.554673Z",
          "shell.execute_reply.started": "2021-09-17T05:16:40.672308Z"
        },
        "papermill": {
          "duration": 0.068021,
          "end_time": "2021-09-17T05:19:07.555475",
          "exception": false,
          "start_time": "2021-09-17T05:19:07.487454",
          "status": "completed"
        },
        "tags": [],
        "id": "1f2398c5"
      },
      "source": [
        "# # Paper on MACCS keys: https://www.biorxiv.org/content/10.1101/853762v1.full.pdf\n",
        "\n",
        "# molecular access system : (MACCS)\n",
        "\n",
        "# MACCS keys are 166-bit 2D structure fingerprints that are commonly used for the \n",
        "# measure of molecular similarity. Because each bit is either on (i.e., 1) or \n",
        "# off (i.e., 0), MACCS 166 keys can represent more than 9.3 × 1049 distinct \n",
        "# fingerprint vectors\n",
        "\n",
        "# CODE LINK: https://github.com/rdkit/rdkit-orig/blob/master/rdkit/Chem/MACCSkeys.py\n",
        "# help(MACCSkeys.GenMACCSKeys)"
      ],
      "id": "1f2398c5",
      "execution_count": 15,
      "outputs": []
    },
    {
      "cell_type": "code",
      "metadata": {
        "execution": {
          "iopub.execute_input": "2021-09-17T05:19:07.309294Z",
          "iopub.status.busy": "2021-09-17T05:19:07.308584Z",
          "iopub.status.idle": "2021-09-17T05:19:07.425453Z",
          "shell.execute_reply": "2021-09-17T05:19:07.424458Z",
          "shell.execute_reply.started": "2021-09-17T05:16:38.334796Z"
        },
        "papermill": {
          "duration": 0.185684,
          "end_time": "2021-09-17T05:19:07.425604",
          "exception": false,
          "start_time": "2021-09-17T05:19:07.239920",
          "status": "completed"
        },
        "tags": [],
        "id": "2ac3d863",
        "colab": {
          "base_uri": "https://localhost:8080/"
        },
        "outputId": "cbf67d3a-46c6-4b48-aff3-beef97529003"
      },
      "source": [
        "# CHECKING THE MACCS ENCODINGS OF DIFFERENT MOLECULES\n",
        "\n",
        "mol = Chem.MolFromSmiles(smiles[0])\n",
        "# print(MACCSkeys.GenMACCSKeys(mol)) --> rdkit.DataStructs.cDataStructs.ExplicitBitVect object\n",
        "print(list(MACCSkeys.GenMACCSKeys(mol)))\n",
        "print(len(list(MACCSkeys.GenMACCSKeys(mol))))\n",
        "\n",
        "mol2 = Chem.MolFromSmiles(smiles[1])\n",
        "print(list(MACCSkeys.GenMACCSKeys(mol2)))\n",
        "print(len(list(MACCSkeys.GenMACCSKeys(mol2))))\n",
        "\n",
        "mol3 = Chem.MolFromSmiles(smiles[2])\n",
        "print(list(MACCSkeys.GenMACCSKeys(mol3)))\n",
        "print(len(list(MACCSkeys.GenMACCSKeys(mol3))))"
      ],
      "id": "2ac3d863",
      "execution_count": 16,
      "outputs": [
        {
          "output_type": "stream",
          "name": "stdout",
          "text": [
            "[0, 0, 0, 0, 0, 0, 0, 0, 0, 0, 0, 0, 0, 0, 0, 0, 0, 0, 0, 0, 0, 0, 0, 0, 0, 1, 0, 0, 0, 0, 0, 0, 0, 0, 0, 0, 0, 0, 0, 0, 0, 0, 0, 1, 0, 0, 0, 0, 0, 0, 0, 0, 0, 1, 1, 0, 0, 0, 0, 0, 0, 0, 0, 0, 0, 0, 0, 0, 0, 0, 0, 0, 0, 0, 1, 1, 0, 1, 1, 1, 1, 0, 1, 1, 1, 1, 0, 0, 0, 0, 1, 1, 1, 0, 0, 1, 1, 1, 0, 0, 1, 0, 0, 0, 1, 0, 1, 0, 0, 0, 1, 1, 0, 1, 1, 1, 0, 1, 1, 1, 1, 1, 1, 1, 0, 1, 0, 1, 1, 1, 0, 1, 1, 0, 0, 0, 1, 1, 1, 1, 1, 1, 1, 1, 0, 1, 1, 1, 1, 1, 1, 1, 1, 1, 1, 1, 1, 1, 1, 1, 1, 1, 1, 1, 1, 1, 0]\n",
            "167\n",
            "[0, 0, 0, 0, 0, 0, 0, 0, 0, 0, 0, 0, 0, 0, 0, 0, 0, 0, 0, 0, 0, 0, 0, 0, 0, 1, 0, 0, 0, 0, 0, 0, 0, 0, 0, 0, 0, 0, 0, 0, 0, 0, 0, 1, 0, 0, 0, 0, 0, 0, 0, 0, 0, 1, 1, 0, 0, 0, 0, 0, 0, 0, 0, 0, 0, 1, 0, 0, 0, 0, 0, 0, 0, 0, 1, 1, 0, 1, 1, 1, 1, 0, 1, 1, 1, 1, 0, 0, 0, 1, 1, 1, 1, 0, 0, 1, 1, 1, 0, 0, 1, 1, 0, 0, 1, 1, 1, 0, 0, 1, 1, 1, 0, 1, 1, 1, 0, 1, 1, 1, 1, 1, 1, 0, 0, 1, 0, 1, 1, 1, 0, 1, 1, 0, 0, 0, 1, 1, 1, 1, 1, 1, 1, 1, 0, 1, 1, 1, 1, 1, 1, 1, 1, 1, 1, 1, 1, 1, 1, 1, 1, 1, 1, 1, 1, 1, 0]\n",
            "167\n",
            "[0, 0, 0, 0, 0, 0, 0, 0, 0, 0, 0, 0, 0, 0, 0, 0, 0, 0, 0, 0, 0, 0, 0, 0, 0, 1, 0, 0, 0, 0, 0, 0, 0, 0, 0, 0, 0, 1, 0, 0, 0, 0, 0, 1, 0, 0, 0, 0, 0, 0, 0, 0, 1, 1, 1, 0, 0, 0, 0, 0, 0, 0, 0, 0, 0, 1, 1, 0, 1, 1, 0, 0, 0, 0, 1, 1, 0, 1, 1, 1, 1, 0, 1, 1, 1, 1, 0, 0, 0, 1, 1, 1, 1, 0, 1, 1, 1, 1, 0, 0, 1, 1, 0, 0, 1, 1, 1, 0, 0, 1, 1, 1, 1, 1, 0, 1, 1, 1, 1, 1, 1, 1, 1, 0, 1, 1, 1, 1, 1, 1, 0, 1, 1, 0, 0, 0, 1, 1, 1, 1, 1, 1, 1, 1, 0, 1, 1, 1, 1, 1, 1, 1, 1, 1, 1, 1, 1, 1, 1, 1, 1, 1, 1, 1, 1, 1, 0]\n",
            "167\n"
          ]
        }
      ]
    },
    {
      "cell_type": "code",
      "metadata": {
        "execution": {
          "iopub.execute_input": "2021-09-17T05:19:24.207327Z",
          "iopub.status.busy": "2021-09-17T05:19:24.206674Z",
          "iopub.status.idle": "2021-09-17T05:19:24.209836Z",
          "shell.execute_reply": "2021-09-17T05:19:24.209242Z",
          "shell.execute_reply.started": "2021-09-17T05:17:01.976414Z"
        },
        "papermill": {
          "duration": 0.071711,
          "end_time": "2021-09-17T05:19:24.209999",
          "exception": false,
          "start_time": "2021-09-17T05:19:24.138288",
          "status": "completed"
        },
        "tags": [],
        "id": "43c77313"
      },
      "source": [
        "# print(smiles[0])\n",
        "# print(list(smiles[0]))\n",
        "# x=[]\n",
        "# x.append(smiles[0])\n",
        "# print(x)"
      ],
      "id": "43c77313",
      "execution_count": 17,
      "outputs": []
    },
    {
      "cell_type": "markdown",
      "metadata": {
        "id": "rArsn2SAcDGP"
      },
      "source": [
        "## Common variable(s) and function(s) for all models"
      ],
      "id": "rArsn2SAcDGP"
    },
    {
      "cell_type": "code",
      "metadata": {
        "id": "ZHKKoe-ocEw1"
      },
      "source": [
        "def set_seed(seed=0):\n",
        "    random.seed(seed)\n",
        "    np.random.seed(seed)\n",
        "    torch.manual_seed(seed)\n",
        "    if torch.cuda.is_available():\n",
        "        torch.cuda.manual_seed(seed)"
      ],
      "id": "ZHKKoe-ocEw1",
      "execution_count": 18,
      "outputs": []
    },
    {
      "cell_type": "code",
      "metadata": {
        "id": "ysBJ6J_FAoRS",
        "colab": {
          "base_uri": "https://localhost:8080/"
        },
        "outputId": "6a31f47d-0980-4651-fab0-3f6868efc1c2"
      },
      "source": [
        "device = torch.device(\"cuda\" if torch.cuda.is_available() else \"cpu\")\n",
        "print(device)"
      ],
      "id": "ysBJ6J_FAoRS",
      "execution_count": 19,
      "outputs": [
        {
          "output_type": "stream",
          "name": "stdout",
          "text": [
            "cuda\n"
          ]
        }
      ]
    },
    {
      "cell_type": "markdown",
      "metadata": {
        "id": "QSTvoiB7VdGs"
      },
      "source": [
        "## FORMING THE GRAPH USING THE INTERACTIONS AS EDGES AND ENCODING THE SMILES AS FEATURES FOR THE NODES"
      ],
      "id": "QSTvoiB7VdGs"
    },
    {
      "cell_type": "code",
      "metadata": {
        "execution": {
          "iopub.execute_input": "2021-09-17T05:19:55.841419Z",
          "iopub.status.busy": "2021-09-17T05:19:55.839751Z",
          "iopub.status.idle": "2021-09-17T05:19:55.844386Z",
          "shell.execute_reply": "2021-09-17T05:19:55.843707Z",
          "shell.execute_reply.started": "2021-09-17T04:55:02.838407Z"
        },
        "papermill": {
          "duration": 0.086697,
          "end_time": "2021-09-17T05:19:55.844538",
          "exception": false,
          "start_time": "2021-09-17T05:19:55.757841",
          "status": "completed"
        },
        "tags": [],
        "id": "4644c8de"
      },
      "source": [
        "drugbank_id_to_graph_node_id_map = {}\n",
        "graph_node_id_to_drugbank_id_map = {}\n",
        "\n",
        "drugs_with_smiles_list = set()\n",
        "\n",
        "# to maintain the count of nodes in the graph\n",
        "count = 0 \n",
        "\n",
        "for x in drug_id:\n",
        "#     print(x)\n",
        "    drugbank_id_to_graph_node_id_map[x] = count\n",
        "    graph_node_id_to_drugbank_id_map[count] = x\n",
        "    drugs_with_smiles_list.add(x)\n",
        "    count = count + 1\n",
        "#     break"
      ],
      "id": "4644c8de",
      "execution_count": 20,
      "outputs": []
    },
    {
      "cell_type": "code",
      "metadata": {
        "execution": {
          "iopub.execute_input": "2021-09-17T05:19:55.984064Z",
          "iopub.status.busy": "2021-09-17T05:19:55.983400Z",
          "iopub.status.idle": "2021-09-17T05:19:55.990257Z",
          "shell.execute_reply": "2021-09-17T05:19:55.990730Z",
          "shell.execute_reply.started": "2021-09-17T04:55:50.752011Z"
        },
        "papermill": {
          "duration": 0.078187,
          "end_time": "2021-09-17T05:19:55.990916",
          "exception": false,
          "start_time": "2021-09-17T05:19:55.912729",
          "status": "completed"
        },
        "tags": [],
        "id": "19b59e7d",
        "colab": {
          "base_uri": "https://localhost:8080/"
        },
        "outputId": "3960f84f-9911-40cc-dd3b-c05680690f8c"
      },
      "source": [
        "print(len(drugbank_id_to_graph_node_id_map))\n",
        "print(len(graph_node_id_to_drugbank_id_map))\n",
        "print(len(drugs_with_smiles_list))\n",
        "print(len(smiles))"
      ],
      "id": "19b59e7d",
      "execution_count": 21,
      "outputs": [
        {
          "output_type": "stream",
          "name": "stdout",
          "text": [
            "11160\n",
            "11160\n",
            "11160\n",
            "11160\n"
          ]
        }
      ]
    },
    {
      "cell_type": "code",
      "metadata": {
        "execution": {
          "iopub.execute_input": "2021-09-17T05:19:56.315282Z",
          "iopub.status.busy": "2021-09-17T05:19:56.294526Z",
          "iopub.status.idle": "2021-09-17T05:20:07.232044Z",
          "shell.execute_reply": "2021-09-17T05:20:07.231462Z",
          "shell.execute_reply.started": "2021-09-17T04:55:57.784970Z"
        },
        "papermill": {
          "duration": 11.029027,
          "end_time": "2021-09-17T05:20:07.232188",
          "exception": false,
          "start_time": "2021-09-17T05:19:56.203161",
          "status": "completed"
        },
        "tags": [],
        "id": "d0b4f597",
        "colab": {
          "base_uri": "https://localhost:8080/"
        },
        "outputId": "54147ad7-836b-40ea-a817-2263d32e3b55"
      },
      "source": [
        "%%time \n",
        "# For the drugs_with_smiles_list, using the set(set()) inplace of list([])\n",
        "# reduces the time consumed from 2 min 9 sec to 10.9 sec\n",
        "num_interactions = len(interaction_id1)\n",
        "# print(num_interactions)\n",
        "u = []\n",
        "v = []\n",
        "for i in range(num_interactions):\n",
        "    if interaction_id1[i] in drugs_with_smiles_list and interaction_id2[i] in drugs_with_smiles_list:\n",
        "#         print(interaction_id1[i], interaction_id2[i])\n",
        "#         break\n",
        "        u.append(drugbank_id_to_graph_node_id_map[interaction_id1[i]])\n",
        "        v.append(drugbank_id_to_graph_node_id_map[interaction_id2[i]])"
      ],
      "id": "d0b4f597",
      "execution_count": 22,
      "outputs": [
        {
          "output_type": "stream",
          "name": "stdout",
          "text": [
            "CPU times: user 9.53 s, sys: 21.9 ms, total: 9.55 s\n",
            "Wall time: 9.58 s\n"
          ]
        }
      ]
    },
    {
      "cell_type": "code",
      "metadata": {
        "execution": {
          "iopub.execute_input": "2021-09-17T05:20:07.374073Z",
          "iopub.status.busy": "2021-09-17T05:20:07.373381Z",
          "iopub.status.idle": "2021-09-17T05:20:07.378076Z",
          "shell.execute_reply": "2021-09-17T05:20:07.378657Z",
          "shell.execute_reply.started": "2021-09-17T04:56:31.220499Z"
        },
        "papermill": {
          "duration": 0.077754,
          "end_time": "2021-09-17T05:20:07.378824",
          "exception": false,
          "start_time": "2021-09-17T05:20:07.301070",
          "status": "completed"
        },
        "tags": [],
        "id": "a3781b0b",
        "colab": {
          "base_uri": "https://localhost:8080/"
        },
        "outputId": "183f7413-4e9a-4d12-d8bd-327f14abb002"
      },
      "source": [
        "print(len(interaction_id1))\n",
        "print(len(u))\n",
        "print(len(v))"
      ],
      "id": "a3781b0b",
      "execution_count": 23,
      "outputs": [
        {
          "output_type": "stream",
          "name": "stdout",
          "text": [
            "658269\n",
            "583548\n",
            "583548\n"
          ]
        }
      ]
    },
    {
      "cell_type": "code",
      "metadata": {
        "execution": {
          "iopub.execute_input": "2021-09-17T05:20:17.499655Z",
          "iopub.status.busy": "2021-09-17T05:20:17.498729Z",
          "iopub.status.idle": "2021-09-17T05:20:17.502140Z",
          "shell.execute_reply": "2021-09-17T05:20:17.502624Z",
          "shell.execute_reply.started": "2021-09-17T04:57:06.434722Z"
        },
        "papermill": {
          "duration": 0.083646,
          "end_time": "2021-09-17T05:20:17.502804",
          "exception": false,
          "start_time": "2021-09-17T05:20:17.419158",
          "status": "completed"
        },
        "tags": [],
        "id": "39e5b217",
        "colab": {
          "base_uri": "https://localhost:8080/"
        },
        "outputId": "61b7259a-aff0-4114-ceb3-a03dea0b55d7"
      },
      "source": [
        "print(len(drugs_with_smiles_list))\n",
        "no_nodes = len(drugs_with_smiles_list)"
      ],
      "id": "39e5b217",
      "execution_count": 24,
      "outputs": [
        {
          "output_type": "stream",
          "name": "stdout",
          "text": [
            "11160\n"
          ]
        }
      ]
    },
    {
      "cell_type": "code",
      "metadata": {
        "execution": {
          "iopub.execute_input": "2021-09-17T05:20:17.659241Z",
          "iopub.status.busy": "2021-09-17T05:20:17.654632Z",
          "iopub.status.idle": "2021-09-17T05:20:18.438582Z",
          "shell.execute_reply": "2021-09-17T05:20:18.437809Z",
          "shell.execute_reply.started": "2021-09-17T04:57:14.224431Z"
        },
        "papermill": {
          "duration": 0.860677,
          "end_time": "2021-09-17T05:20:18.438743",
          "exception": false,
          "start_time": "2021-09-17T05:20:17.578066",
          "status": "completed"
        },
        "tags": [],
        "id": "4c7822c8",
        "colab": {
          "base_uri": "https://localhost:8080/"
        },
        "outputId": "8f0a93fe-0d21-4572-edfa-81e9aa68c120"
      },
      "source": [
        "g = dgl.DGLGraph()\n",
        "g.add_nodes(no_nodes)"
      ],
      "id": "4c7822c8",
      "execution_count": 25,
      "outputs": [
        {
          "output_type": "stream",
          "name": "stderr",
          "text": [
            "/usr/local/lib/python3.7/dist-packages/dgl/base.py:45: DGLWarning: Recommend creating graphs by `dgl.graph(data)` instead of `dgl.DGLGraph(data)`.\n",
            "  return warnings.warn(message, category=category, stacklevel=1)\n"
          ]
        }
      ]
    },
    {
      "cell_type": "code",
      "metadata": {
        "execution": {
          "iopub.execute_input": "2021-09-17T05:20:18.740098Z",
          "iopub.status.busy": "2021-09-17T05:20:18.666508Z",
          "iopub.status.idle": "2021-09-17T05:20:18.779344Z",
          "shell.execute_reply": "2021-09-17T05:20:18.778711Z",
          "shell.execute_reply.started": "2021-09-17T04:57:23.292526Z"
        },
        "papermill": {
          "duration": 0.265243,
          "end_time": "2021-09-17T05:20:18.779522",
          "exception": false,
          "start_time": "2021-09-17T05:20:18.514279",
          "status": "completed"
        },
        "tags": [],
        "id": "bc26265a"
      },
      "source": [
        "g.add_edges(u,v)"
      ],
      "id": "bc26265a",
      "execution_count": 26,
      "outputs": []
    },
    {
      "cell_type": "code",
      "metadata": {
        "colab": {
          "base_uri": "https://localhost:8080/"
        },
        "id": "2NBfC_SUDfP7",
        "outputId": "c04a5dc8-6251-4fbb-bc6a-2f946cedc06f"
      },
      "source": [
        "print(g)\n",
        "print(u[0], v[0])\n",
        "for t1,t2 in zip(u,v):\n",
        "  if t1 == v[0] and t2 == u[0]:\n",
        "    print(t1,t2)\n",
        "    print(\"found\")\n",
        "    break"
      ],
      "id": "2NBfC_SUDfP7",
      "execution_count": 27,
      "outputs": [
        {
          "output_type": "stream",
          "name": "stdout",
          "text": [
            "Graph(num_nodes=11160, num_edges=583548,\n",
            "      ndata_schemes={}\n",
            "      edata_schemes={})\n",
            "0 240\n",
            "240 0\n",
            "found\n"
          ]
        }
      ]
    },
    {
      "cell_type": "code",
      "metadata": {
        "id": "YbrsrttUJ97t",
        "colab": {
          "base_uri": "https://localhost:8080/"
        },
        "outputId": "cc7115fb-6cb3-47a6-d45d-6566c6a94d7a"
      },
      "source": [
        "%%time\n",
        "# to find out if there are unidirectional edges(and, the edges themselves)\n",
        "edges_as_set = set()\n",
        "new_edges_to_be_added = 0\n",
        "for _ in zip(u,v):\n",
        "  edges_as_set.add(_)\n",
        "for (t2,t1) in zip(v,u):\n",
        "  flag = 0\n",
        "  if (t2,t1) not in edges_as_set:\n",
        "    print(t2,t1)\n",
        "    # g.add_edges([t2],[t1])\n",
        "    new_edges_to_be_added+=1\n",
        "    ## REMOVE THE break STATEMENT NEXT LINE TO FIND TOTAL EDGES TO BE ADDED\n",
        "    break\n",
        "\n",
        "# print(new_edges_to_be_added)\n",
        "\n",
        "# A more time consuming approach for the same task\n",
        "# index_count = 0\n",
        "# new_edges_added = 0\n",
        "# for t1,t2 in zip(u,v):\n",
        "#   flag = 0\n",
        "#   for t3,t4 in zip(u,v):\n",
        "#     if t3 == t2 and t4 == t1:\n",
        "#       flag =1\n",
        "#       break\n",
        "#   if flag == 0:\n",
        "#     g.add_edges([t2],[t1])\n",
        "#     new_edges_added+=1\n",
        "\n",
        "# print(new_edges_added)"
      ],
      "id": "YbrsrttUJ97t",
      "execution_count": 28,
      "outputs": [
        {
          "output_type": "stream",
          "name": "stdout",
          "text": [
            "7815 0\n",
            "CPU times: user 175 ms, sys: 37.2 ms, total: 212 ms\n",
            "Wall time: 212 ms\n"
          ]
        }
      ]
    },
    {
      "cell_type": "code",
      "metadata": {
        "execution": {
          "iopub.execute_input": "2021-09-17T05:20:19.102552Z",
          "iopub.status.busy": "2021-09-17T05:20:19.101390Z",
          "iopub.status.idle": "2021-09-17T05:20:19.121425Z",
          "shell.execute_reply": "2021-09-17T05:20:19.120795Z",
          "shell.execute_reply.started": "2021-09-17T04:58:30.826746Z"
        },
        "papermill": {
          "duration": 0.103372,
          "end_time": "2021-09-17T05:20:19.121582",
          "exception": false,
          "start_time": "2021-09-17T05:20:19.018210",
          "status": "completed"
        },
        "tags": [],
        "id": "79525f39",
        "colab": {
          "base_uri": "https://localhost:8080/"
        },
        "outputId": "7fb54d32-7c0d-4f7c-ee87-1219a5556d42"
      },
      "source": [
        "# MAKING THE GRAPH A BIDIRECTIONAL ONE BY ADDING REVERSE EDGES \n",
        "# # g.add_edges(v,u)\n",
        "print(g.num_edges())\n",
        "print(g.num_nodes())\n",
        "n1 = g.num_edges()\n",
        "g = dgl.add_reverse_edges(g)\n",
        "n2 = g.num_edges()\n",
        "print(n2/n1)\n",
        "print(g.num_edges())\n",
        "print(g.num_nodes())"
      ],
      "id": "79525f39",
      "execution_count": 29,
      "outputs": [
        {
          "output_type": "stream",
          "name": "stdout",
          "text": [
            "583548\n",
            "11160\n",
            "2.0\n",
            "1167096\n",
            "11160\n"
          ]
        }
      ]
    },
    {
      "cell_type": "code",
      "metadata": {
        "execution": {
          "iopub.execute_input": "2021-09-17T05:20:19.441910Z",
          "iopub.status.busy": "2021-09-17T05:20:19.441242Z",
          "iopub.status.idle": "2021-09-17T05:20:19.454855Z",
          "shell.execute_reply": "2021-09-17T05:20:19.455382Z",
          "shell.execute_reply.started": "2021-09-17T04:59:01.158636Z"
        },
        "papermill": {
          "duration": 0.094038,
          "end_time": "2021-09-17T05:20:19.455560",
          "exception": false,
          "start_time": "2021-09-17T05:20:19.361522",
          "status": "completed"
        },
        "tags": [],
        "id": "e4627f16",
        "colab": {
          "base_uri": "https://localhost:8080/"
        },
        "outputId": "899b60c6-7d0f-46c1-f658-1e0fe1355f99"
      },
      "source": [
        "# CHECK A FEW EDGES TO VERIFY THAT THE EDGES ARE EXTRACTED \n",
        "# PROPERLY FROM THE CSV FILE TO THE DGL GRAPH\n",
        "print(u[0], v[0])\n",
        "# print(v[0])\n",
        "print(u[1], v[1])\n",
        "print(graph_node_id_to_drugbank_id_map[u[0]], graph_node_id_to_drugbank_id_map[v[0]])\n",
        "print(graph_node_id_to_drugbank_id_map[u[1]], graph_node_id_to_drugbank_id_map[v[1]])\n",
        "temp_count = 0\n",
        "for i in range(num_interactions):\n",
        "    if interaction_id1[i] in drugs_with_smiles_list and interaction_id2[i] in drugs_with_smiles_list:\n",
        "        print(interaction_id1[i], interaction_id2[i])\n",
        "        temp_count = temp_count + 1\n",
        "        if temp_count == 2:\n",
        "            break"
      ],
      "id": "e4627f16",
      "execution_count": 30,
      "outputs": [
        {
          "output_type": "stream",
          "name": "stdout",
          "text": [
            "0 240\n",
            "0 9715\n",
            "DB00006 DB00346\n",
            "DB00006 DB13783\n",
            "DB00006 DB00346\n",
            "DB00006 DB13783\n"
          ]
        }
      ]
    },
    {
      "cell_type": "code",
      "metadata": {
        "execution": {
          "iopub.execute_input": "2021-09-17T05:20:19.958293Z",
          "iopub.status.busy": "2021-09-17T05:20:19.957321Z",
          "iopub.status.idle": "2021-09-17T05:20:20.173906Z",
          "shell.execute_reply": "2021-09-17T05:20:20.173221Z",
          "shell.execute_reply.started": "2021-09-17T04:59:14.191055Z"
        },
        "papermill": {
          "duration": 0.29653,
          "end_time": "2021-09-17T05:20:20.174060",
          "exception": false,
          "start_time": "2021-09-17T05:20:19.877530",
          "status": "completed"
        },
        "tags": [],
        "id": "29da7d72",
        "colab": {
          "base_uri": "https://localhost:8080/",
          "height": 319
        },
        "outputId": "07a87e7b-e850-4b08-ca57-0fc92f23ac62"
      },
      "source": [
        "# Extract a sub graph and view it\n",
        "sg1 = g.subgraph([0,1,2,3,4,5,6,7,8,9,10,15,67,89,90])\n",
        "# using networkx to view it \n",
        "# Since the actual graph is undirected, we convert it for visualization purpose\n",
        "nx_G = sg1.to_networkx().to_undirected()\n",
        "pos = nx.kamada_kawai_layout(nx_G)\n",
        "nx.draw(nx_G, pos, with_labels=True, node_color=[[.7, .7, .7]])"
      ],
      "id": "29da7d72",
      "execution_count": 31,
      "outputs": [
        {
          "output_type": "display_data",
          "data": {
            "image/png": "[encoded data removed]",
            "text/plain": [
              "<Figure size 432x288 with 1 Axes>"
            ]
          },
          "metadata": {}
        }
      ]
    },
    {
      "cell_type": "code",
      "metadata": {
        "execution": {
          "iopub.execute_input": "2021-09-17T05:20:20.344661Z",
          "iopub.status.busy": "2021-09-17T05:20:20.343977Z",
          "iopub.status.idle": "2021-09-17T05:20:20.357230Z",
          "shell.execute_reply": "2021-09-17T05:20:20.356661Z",
          "shell.execute_reply.started": "2021-09-17T04:59:20.210986Z"
        },
        "papermill": {
          "duration": 0.10257,
          "end_time": "2021-09-17T05:20:20.357376",
          "exception": false,
          "start_time": "2021-09-17T05:20:20.254806",
          "status": "completed"
        },
        "tags": [],
        "id": "50b40f2d",
        "colab": {
          "base_uri": "https://localhost:8080/"
        },
        "outputId": "5777cd7e-12c4-4014-9dda-ce0c2ef74740"
      },
      "source": [
        "# from rdkit.Chem import MACCSkeys\n",
        "# from rdkit import Chem\n",
        "\n",
        "mol = Chem.MolFromSmiles(smiles[0])\n",
        "print(list(MACCSkeys.GenMACCSKeys(mol)))\n",
        "MACCSkeys_length = len(list(MACCSkeys.GenMACCSKeys(mol)))\n",
        "print(MACCSkeys_length)"
      ],
      "id": "50b40f2d",
      "execution_count": 32,
      "outputs": [
        {
          "output_type": "stream",
          "name": "stdout",
          "text": [
            "[0, 0, 0, 0, 0, 0, 0, 0, 0, 0, 0, 0, 0, 0, 0, 0, 0, 0, 0, 0, 0, 0, 0, 0, 0, 1, 0, 0, 0, 0, 0, 0, 0, 0, 0, 0, 0, 0, 0, 0, 0, 0, 0, 1, 0, 0, 0, 0, 0, 0, 0, 0, 0, 1, 1, 0, 0, 0, 0, 0, 0, 0, 0, 0, 0, 0, 0, 0, 0, 0, 0, 0, 0, 0, 1, 1, 0, 1, 1, 1, 1, 0, 1, 1, 1, 1, 0, 0, 0, 0, 1, 1, 1, 0, 0, 1, 1, 1, 0, 0, 1, 0, 0, 0, 1, 0, 1, 0, 0, 0, 1, 1, 0, 1, 1, 1, 0, 1, 1, 1, 1, 1, 1, 1, 0, 1, 0, 1, 1, 1, 0, 1, 1, 0, 0, 0, 1, 1, 1, 1, 1, 1, 1, 1, 0, 1, 1, 1, 1, 1, 1, 1, 1, 1, 1, 1, 1, 1, 1, 1, 1, 1, 1, 1, 1, 1, 0]\n",
            "167\n"
          ]
        }
      ]
    },
    {
      "cell_type": "code",
      "metadata": {
        "execution": {
          "iopub.execute_input": "2021-09-17T05:20:20.519550Z",
          "iopub.status.busy": "2021-09-17T05:20:20.518818Z",
          "iopub.status.idle": "2021-09-17T05:20:20.558813Z",
          "shell.execute_reply": "2021-09-17T05:20:20.558227Z",
          "shell.execute_reply.started": "2021-09-17T04:59:25.697261Z"
        },
        "papermill": {
          "duration": 0.123053,
          "end_time": "2021-09-17T05:20:20.558977",
          "exception": false,
          "start_time": "2021-09-17T05:20:20.435924",
          "status": "completed"
        },
        "tags": [],
        "id": "706a04f7"
      },
      "source": [
        "# tensor1 = torch.zeros(3,3)\n",
        "# print(tensor1[0])\n",
        "# tensor1[0] = torch.Tensor([1,2,3])\n",
        "# print(tensor1)"
      ],
      "id": "706a04f7",
      "execution_count": 33,
      "outputs": []
    },
    {
      "cell_type": "code",
      "metadata": {
        "execution": {
          "iopub.execute_input": "2021-09-17T05:20:20.719241Z",
          "iopub.status.busy": "2021-09-17T05:20:20.718537Z",
          "iopub.status.idle": "2021-09-17T05:20:42.842436Z",
          "shell.execute_reply": "2021-09-17T05:20:42.843027Z",
          "shell.execute_reply.started": "2021-09-17T05:01:07.565515Z"
        },
        "papermill": {
          "duration": 22.206033,
          "end_time": "2021-09-17T05:20:42.843217",
          "exception": false,
          "start_time": "2021-09-17T05:20:20.637184",
          "status": "completed"
        },
        "tags": [],
        "id": "b7d1fe59",
        "colab": {
          "base_uri": "https://localhost:8080/"
        },
        "outputId": "8debace9-01dc-4525-aa2c-ddd8dd772517"
      },
      "source": [
        "%%time\n",
        "# CREATING THE NODE EMBEDDINGS\n",
        "\n",
        "MACCSkeys_features = torch.zeros(g.num_nodes(), MACCSkeys_length)\n",
        "# LIST TO CAPTURE THE MOLECULES THAT ARE NOT BEING ABLE TO ENCODED AS MACCS_KEYS\n",
        "molecules_with_no_MACCS_keys = []\n",
        "\n",
        "for i in range(g.num_nodes()):\n",
        "    mol = Chem.MolFromSmiles(smiles[i])\n",
        "    try:\n",
        "        MACCSkeys__ = list(MACCSkeys.GenMACCSKeys(mol))\n",
        "        MACCSkeys_features[i] = torch.Tensor(MACCSkeys__)\n",
        "    except:\n",
        "        print(drug_id[i])\n",
        "        molecules_with_no_MACCS_keys.append(drug_id[i])"
      ],
      "id": "b7d1fe59",
      "execution_count": 34,
      "outputs": [
        {
          "output_type": "stream",
          "name": "stdout",
          "text": [
            "DB00515\n",
            "DB00526\n",
            "DB00958\n",
            "DB01999\n",
            "DB11630\n",
            "DB13145\n",
            "CPU times: user 18.1 s, sys: 851 ms, total: 18.9 s\n",
            "Wall time: 18.6 s\n"
          ]
        }
      ]
    },
    {
      "cell_type": "code",
      "metadata": {
        "execution": {
          "iopub.execute_input": "2021-09-17T05:20:43.200355Z",
          "iopub.status.busy": "2021-09-17T05:20:43.199703Z",
          "iopub.status.idle": "2021-09-17T05:20:43.202801Z",
          "shell.execute_reply": "2021-09-17T05:20:43.202291Z",
          "shell.execute_reply.started": "2021-09-17T05:02:30.759847Z"
        },
        "papermill": {
          "duration": 0.097911,
          "end_time": "2021-09-17T05:20:43.202964",
          "exception": false,
          "start_time": "2021-09-17T05:20:43.105053",
          "status": "completed"
        },
        "tags": [],
        "id": "4f0a5267"
      },
      "source": [
        "g.ndata['feat'] = MACCSkeys_features"
      ],
      "id": "4f0a5267",
      "execution_count": 35,
      "outputs": []
    },
    {
      "cell_type": "code",
      "metadata": {
        "execution": {
          "iopub.execute_input": "2021-09-17T05:20:43.373329Z",
          "iopub.status.busy": "2021-09-17T05:20:43.372521Z",
          "iopub.status.idle": "2021-09-17T05:20:43.388610Z",
          "shell.execute_reply": "2021-09-17T05:20:43.387986Z",
          "shell.execute_reply.started": "2021-09-17T05:12:15.845250Z"
        },
        "papermill": {
          "duration": 0.103119,
          "end_time": "2021-09-17T05:20:43.388786",
          "exception": false,
          "start_time": "2021-09-17T05:20:43.285667",
          "status": "completed"
        },
        "tags": [],
        "id": "fe3d60f1"
      },
      "source": [
        "### SELF LOOPS ARE ESSENTIAL TO ENSURE THAT NODES WITH NO INCOMING EDGES \n",
        "### FROM OTHER NODES DO NOT LOSE THEIR FEATURES\n",
        "\n",
        "### SKIP THIS CELL\n",
        "\n",
        "# If you don't add self loops for all the nodes, atleast do it \n",
        "# for the last node, to maintain parity in dimensions. \n",
        "# For the last node, there is no edge arising from it for the interactions, \n",
        "# and, hence, it goes missing, in the nodes with edges list. \n",
        "# print(g.num_edges())\n",
        "# g.add_edges([no_nodes-1],[no_nodes-1])\n",
        "# print(g.num_edges())"
      ],
      "id": "fe3d60f1",
      "execution_count": 36,
      "outputs": []
    },
    {
      "cell_type": "code",
      "metadata": {
        "papermill": {
          "duration": 0.082448,
          "end_time": "2021-09-17T05:20:43.556462",
          "exception": false,
          "start_time": "2021-09-17T05:20:43.474014",
          "status": "completed"
        },
        "tags": [],
        "id": "4fda355e",
        "colab": {
          "base_uri": "https://localhost:8080/"
        },
        "outputId": "58148dd7-94f5-48bb-ad5d-2ed569d381e6"
      },
      "source": [
        "# ADDING SELF LOOPS FOR EACH OF THE NODES \n",
        "# TO ENSURE THAT THE FEATURES ARE NOT LOST FOR THE NODES WITH NO EDGES \n",
        "# ENTERING IT\n",
        "print(g)\n",
        "n1 = g.num_edges()\n",
        "l1 = [i for i in range(no_nodes)]\n",
        "g.add_edges(l1,l1)\n",
        "# for i in range(no_nodes):\n",
        "#   g.add_edge([i], [i])\n",
        "n2 = g.num_edges()\n",
        "print(n2 - n1)\n",
        "print(g)"
      ],
      "id": "4fda355e",
      "execution_count": 37,
      "outputs": [
        {
          "output_type": "stream",
          "name": "stdout",
          "text": [
            "Graph(num_nodes=11160, num_edges=1167096,\n",
            "      ndata_schemes={'feat': Scheme(shape=(167,), dtype=torch.float32)}\n",
            "      edata_schemes={})\n",
            "11160\n",
            "Graph(num_nodes=11160, num_edges=1178256,\n",
            "      ndata_schemes={'feat': Scheme(shape=(167,), dtype=torch.float32)}\n",
            "      edata_schemes={})\n"
          ]
        }
      ]
    },
    {
      "cell_type": "code",
      "metadata": {
        "id": "PwTbY4mTowzy"
      },
      "source": [
        "# g = g.to(device)"
      ],
      "id": "PwTbY4mTowzy",
      "execution_count": 38,
      "outputs": []
    },
    {
      "cell_type": "markdown",
      "metadata": {
        "papermill": {
          "duration": 0.082269,
          "end_time": "2021-09-17T05:20:43.894445",
          "exception": false,
          "start_time": "2021-09-17T05:20:43.812176",
          "status": "completed"
        },
        "tags": [],
        "id": "ed6274cf"
      },
      "source": [
        "## Training, Evaluation and Testing sets in the ratio of 70:10:20"
      ],
      "id": "ed6274cf"
    },
    {
      "cell_type": "code",
      "metadata": {
        "execution": {
          "iopub.execute_input": "2021-09-17T05:20:44.073652Z",
          "iopub.status.busy": "2021-09-17T05:20:44.070995Z",
          "iopub.status.idle": "2021-09-17T05:20:44.159779Z",
          "shell.execute_reply": "2021-09-17T05:20:44.160307Z",
          "shell.execute_reply.started": "2021-09-17T05:12:19.521965Z"
        },
        "papermill": {
          "duration": 0.18311,
          "end_time": "2021-09-17T05:20:44.160487",
          "exception": false,
          "start_time": "2021-09-17T05:20:43.977377",
          "status": "completed"
        },
        "tags": [],
        "id": "7560b88f",
        "colab": {
          "base_uri": "https://localhost:8080/"
        },
        "outputId": "75729441-88e1-43f4-a08d-f544d1724c25"
      },
      "source": [
        "u, v = g.edges()\n",
        "\n",
        "print(len(u))\n",
        "\n",
        "eids = np.arange(g.number_of_edges())\n",
        "eids = np.random.permutation(eids)\n",
        "test_size = int(len(eids) * 0.2)\n",
        "val_size = int(len(eids) * 0.1)\n",
        "train_size = g.number_of_edges() - test_size - val_size\n",
        "test_pos_u, test_pos_v = u[eids[:test_size]], v[eids[:test_size]]\n",
        "val_pos_u, val_pos_v = u[eids[test_size:(test_size+val_size)]], v[eids[test_size:(test_size+val_size)]]\n",
        "train_pos_u, train_pos_v = u[eids[(test_size+val_size):]], v[eids[(test_size+val_size):]]\n",
        "\n",
        "print(test_size, val_size, train_size)\n",
        "print(len(test_pos_u), len(test_pos_v))\n",
        "print(len(val_pos_u), len(val_pos_v))\n",
        "print(len(train_pos_u), len(train_pos_v))"
      ],
      "id": "7560b88f",
      "execution_count": 39,
      "outputs": [
        {
          "output_type": "stream",
          "name": "stdout",
          "text": [
            "1178256\n",
            "235651 117825 824780\n",
            "235651 235651\n",
            "117825 117825\n",
            "824780 824780\n"
          ]
        }
      ]
    },
    {
      "cell_type": "code",
      "metadata": {
        "execution": {
          "iopub.execute_input": "2021-09-17T05:20:44.334307Z",
          "iopub.status.busy": "2021-09-17T05:20:44.333264Z",
          "iopub.status.idle": "2021-09-17T05:20:44.349314Z",
          "shell.execute_reply": "2021-09-17T05:20:44.349821Z",
          "shell.execute_reply.started": "2021-09-17T05:12:35.208903Z"
        },
        "papermill": {
          "duration": 0.10684,
          "end_time": "2021-09-17T05:20:44.350094",
          "exception": false,
          "start_time": "2021-09-17T05:20:44.243254",
          "status": "completed"
        },
        "tags": [],
        "id": "599ea957",
        "colab": {
          "base_uri": "https://localhost:8080/"
        },
        "outputId": "4384e59a-d891-4acc-81ca-32dda21a8956"
      },
      "source": [
        "# Find all negative edges and split them for training and testing\n",
        "adj = sp.coo_matrix((np.ones(len(u)), (u.numpy(), v.numpy())))\n",
        "print(adj.shape)\n",
        "adj_dense = adj.todense()\n",
        "# REMOVE THE DUPLICATE EDGES\n",
        "adj_dense = np.clip(adj_dense, a_min = 0, a_max = 1)"
      ],
      "id": "599ea957",
      "execution_count": 40,
      "outputs": [
        {
          "output_type": "stream",
          "name": "stdout",
          "text": [
            "(11160, 11160)\n"
          ]
        }
      ]
    },
    {
      "cell_type": "code",
      "metadata": {
        "execution": {
          "iopub.execute_input": "2021-09-17T05:20:44.523832Z",
          "iopub.status.busy": "2021-09-17T05:20:44.523179Z",
          "iopub.status.idle": "2021-09-17T05:20:45.978730Z",
          "shell.execute_reply": "2021-09-17T05:20:45.978169Z",
          "shell.execute_reply.started": "2021-09-17T05:12:37.484410Z"
        },
        "papermill": {
          "duration": 1.544702,
          "end_time": "2021-09-17T05:20:45.978891",
          "exception": false,
          "start_time": "2021-09-17T05:20:44.434189",
          "status": "completed"
        },
        "tags": [],
        "id": "9be60b6b",
        "colab": {
          "base_uri": "https://localhost:8080/"
        },
        "outputId": "1339d601-244f-4dea-fb6f-2273d8ba2134"
      },
      "source": [
        "# SINCE SELF LOOPS ARE ADDED, TO CREATE THE adj_neg, WE NO LONGER NEED \n",
        "# TO SUBTRACT THE np.eye(g.num_nodes()) in the next STATEMENT\n",
        "# adj_neg = 1 - adj.todense() - np.eye(g.number_of_nodes())\n",
        "adj_neg = 1 - adj_dense \n",
        "print(np.where(adj_dense>1))\n",
        "print(np.where(adj_neg<0))\n",
        "print(np.where(adj_neg>1))"
      ],
      "id": "9be60b6b",
      "execution_count": 41,
      "outputs": [
        {
          "output_type": "stream",
          "name": "stdout",
          "text": [
            "(array([], dtype=int64), array([], dtype=int64))\n",
            "(array([], dtype=int64), array([], dtype=int64))\n",
            "(array([], dtype=int64), array([], dtype=int64))\n"
          ]
        }
      ]
    },
    {
      "cell_type": "code",
      "metadata": {
        "id": "2UB8xfo3cQDK"
      },
      "source": [
        "neg_u, neg_v = np.where(adj_neg != 0)\n",
        "\n",
        "neg_eids = np.random.choice(len(neg_u), g.number_of_edges())\n",
        "test_neg_u, test_neg_v = neg_u[neg_eids[:test_size]], neg_v[neg_eids[:test_size]]\n",
        "val_neg_u, val_neg_v = neg_u[neg_eids[test_size:(test_size + val_size)]], neg_v[neg_eids[test_size:(test_size + val_size)]]\n",
        "train_neg_u, train_neg_v = neg_u[neg_eids[(test_size + val_size):(test_size + val_size+ train_size)]], neg_v[neg_eids[(test_size + val_size):(test_size + val_size+ train_size)]]\n"
      ],
      "id": "2UB8xfo3cQDK",
      "execution_count": 42,
      "outputs": []
    },
    {
      "cell_type": "code",
      "metadata": {
        "execution": {
          "iopub.execute_input": "2021-09-17T05:20:47.766787Z",
          "iopub.status.busy": "2021-09-17T05:20:47.765718Z",
          "iopub.status.idle": "2021-09-17T05:20:47.830750Z",
          "shell.execute_reply": "2021-09-17T05:20:47.831328Z",
          "shell.execute_reply.started": "2021-09-17T05:12:59.038530Z"
        },
        "papermill": {
          "duration": 0.155417,
          "end_time": "2021-09-17T05:20:47.831507",
          "exception": false,
          "start_time": "2021-09-17T05:20:47.676090",
          "status": "completed"
        },
        "tags": [],
        "id": "510224ea"
      },
      "source": [
        "train_g = dgl.remove_edges(g, eids[:(test_size+val_size)])"
      ],
      "id": "510224ea",
      "execution_count": 43,
      "outputs": []
    },
    {
      "cell_type": "code",
      "metadata": {
        "id": "jYJzQ9OmpPVK"
      },
      "source": [
        "train_g = train_g.to(device)"
      ],
      "id": "jYJzQ9OmpPVK",
      "execution_count": 44,
      "outputs": []
    },
    {
      "cell_type": "code",
      "metadata": {
        "colab": {
          "base_uri": "https://localhost:8080/"
        },
        "id": "JRzmhlx4b7Kz",
        "outputId": "722efcb2-971a-4cba-f3b2-f1a4ac9273f4"
      },
      "source": [
        "print(train_g)\n",
        "print(train_g.ndata['feat'])"
      ],
      "id": "JRzmhlx4b7Kz",
      "execution_count": 52,
      "outputs": [
        {
          "output_type": "stream",
          "name": "stdout",
          "text": [
            "Graph(num_nodes=11160, num_edges=824780,\n",
            "      ndata_schemes={'feat': Scheme(shape=(167,), dtype=torch.float32)}\n",
            "      edata_schemes={})\n",
            "tensor([[0., 0., 0.,  ..., 1., 1., 0.],\n",
            "        [0., 0., 0.,  ..., 1., 1., 0.],\n",
            "        [0., 0., 0.,  ..., 1., 1., 0.],\n",
            "        ...,\n",
            "        [0., 0., 0.,  ..., 1., 1., 0.],\n",
            "        [0., 0., 0.,  ..., 1., 1., 0.],\n",
            "        [0., 0., 0.,  ..., 1., 1., 0.]], device='cuda:0')\n"
          ]
        }
      ]
    },
    {
      "cell_type": "code",
      "metadata": {
        "id": "xaN0TAIfOSrq"
      },
      "source": [
        "# adding self loops \n",
        "# (THIS PROCESS IS REDUNDANT for the nodes in train_g that\n",
        "# already have self loops, and hence, it introduces duplicacies, if we \n",
        "# reintroduce self loops)\n",
        "\n",
        "# print(train_g)\n",
        "# new_train_g_with_self_loops = dgl.add_self_loop(train_g)\n",
        "# print(new_train_g_with_self_loops)\n",
        "# print(new_train_g_with_self_loops.num_edges() - train_g.num_edges())"
      ],
      "id": "xaN0TAIfOSrq",
      "execution_count": 45,
      "outputs": []
    },
    {
      "cell_type": "markdown",
      "metadata": {
        "papermill": {
          "duration": 0.0833,
          "end_time": "2021-09-17T05:20:48.166067",
          "exception": false,
          "start_time": "2021-09-17T05:20:48.082767",
          "status": "completed"
        },
        "tags": [],
        "id": "vF12wZ1u5EhB"
      },
      "source": [
        "## MODEL: GRAPHSAGE **(Optimized the setup)**, METRIC: AUC, HITS"
      ],
      "id": "vF12wZ1u5EhB"
    },
    {
      "cell_type": "markdown",
      "metadata": {
        "id": "-3WmidMd5EhC"
      },
      "source": [
        "### MODEL AND PREDICTOR"
      ],
      "id": "-3WmidMd5EhC"
    },
    {
      "cell_type": "code",
      "metadata": {
        "execution": {
          "iopub.execute_input": "2021-09-17T05:20:48.336168Z",
          "iopub.status.busy": "2021-09-17T05:20:48.335498Z",
          "iopub.status.idle": "2021-09-17T05:20:48.341328Z",
          "shell.execute_reply": "2021-09-17T05:20:48.341868Z",
          "shell.execute_reply.started": "2021-09-17T05:13:27.979053Z"
        },
        "papermill": {
          "duration": 0.092783,
          "end_time": "2021-09-17T05:20:48.342064",
          "exception": false,
          "start_time": "2021-09-17T05:20:48.249281",
          "status": "completed"
        },
        "tags": [],
        "id": "Mq3qgKGV5EhC"
      },
      "source": [
        "class GraphSAGE(nn.Module):\n",
        "    def __init__(self, in_feats, h_feats):\n",
        "        super(GraphSAGE, self).__init__()\n",
        "        self.conv1 = SAGEConv(in_feats, h_feats, 'mean')\n",
        "        self.conv2 = SAGEConv(h_feats, h_feats, 'mean')\n",
        "\n",
        "    def forward(self, g, in_feat):\n",
        "        h = self.conv1(g, in_feat)\n",
        "        h = F.relu(h)\n",
        "        h = self.conv2(g, h)\n",
        "        return h"
      ],
      "id": "Mq3qgKGV5EhC",
      "execution_count": 46,
      "outputs": []
    },
    {
      "cell_type": "code",
      "metadata": {
        "execution": {
          "iopub.execute_input": "2021-09-17T05:20:48.701576Z",
          "iopub.status.busy": "2021-09-17T05:20:48.700850Z",
          "iopub.status.idle": "2021-09-17T05:20:48.706029Z",
          "shell.execute_reply": "2021-09-17T05:20:48.706549Z",
          "shell.execute_reply.started": "2021-09-17T05:13:58.880511Z"
        },
        "papermill": {
          "duration": 0.092799,
          "end_time": "2021-09-17T05:20:48.706718",
          "exception": false,
          "start_time": "2021-09-17T05:20:48.613919",
          "status": "completed"
        },
        "tags": [],
        "id": "XAnfLKns5EhD"
      },
      "source": [
        "class DotPredictor(nn.Module):\n",
        "    def forward(self, g, h):\n",
        "        with g.local_scope():\n",
        "            g.ndata['h'] = h\n",
        "            g.apply_edges(fn.u_dot_v('h', 'h', 'score'))\n",
        "            return g.edata['score'][:, 0]\n",
        "\n",
        "class MLPPredictor(nn.Module):\n",
        "    def __init__(self, h_feats):\n",
        "        super().__init__()\n",
        "        self.W1 = nn.Linear(h_feats * 2, h_feats)\n",
        "        self.W2 = nn.Linear(h_feats, 1)\n",
        "\n",
        "    def apply_edges(self, edges):\n",
        "        h = torch.cat([edges.src['h'], edges.dst['h']], 1)\n",
        "        return {'score': self.W2(F.relu(self.W1(h))).squeeze(1)}\n",
        "\n",
        "    def forward(self, g, h):\n",
        "        with g.local_scope():\n",
        "            g.ndata['h'] = h\n",
        "            g.apply_edges(self.apply_edges)\n",
        "            return g.edata['score']"
      ],
      "id": "XAnfLKns5EhD",
      "execution_count": 47,
      "outputs": []
    },
    {
      "cell_type": "markdown",
      "metadata": {
        "id": "HPWfSRUU5EhD"
      },
      "source": [
        "### TRAIN, VAL and TEST Graphs (POS AND NEG)"
      ],
      "id": "HPWfSRUU5EhD"
    },
    {
      "cell_type": "code",
      "metadata": {
        "execution": {
          "iopub.execute_input": "2021-09-17T05:20:48.515152Z",
          "iopub.status.busy": "2021-09-17T05:20:48.514373Z",
          "iopub.status.idle": "2021-09-17T05:20:48.528398Z",
          "shell.execute_reply": "2021-09-17T05:20:48.528950Z",
          "shell.execute_reply.started": "2021-09-17T05:13:44.690163Z"
        },
        "papermill": {
          "duration": 0.101705,
          "end_time": "2021-09-17T05:20:48.529132",
          "exception": false,
          "start_time": "2021-09-17T05:20:48.427427",
          "status": "completed"
        },
        "tags": [],
        "id": "IwIbxrUp5EhE"
      },
      "source": [
        "train_pos_g = dgl.graph((train_pos_u, train_pos_v), num_nodes=g.number_of_nodes()).to(device)\n",
        "train_neg_g = dgl.graph((train_neg_u, train_neg_v), num_nodes=g.number_of_nodes()).to(device)\n",
        "\n",
        "val_pos_g = dgl.graph((val_pos_u, val_pos_v), num_nodes=g.number_of_nodes()).to(device)\n",
        "val_neg_g = dgl.graph((val_neg_u, val_neg_v), num_nodes=g.number_of_nodes()).to(device)\n",
        "\n",
        "test_pos_g = dgl.graph((test_pos_u, test_pos_v), num_nodes=g.number_of_nodes()).to(device)\n",
        "test_neg_g = dgl.graph((test_neg_u, test_neg_v), num_nodes=g.number_of_nodes()).to(device)"
      ],
      "id": "IwIbxrUp5EhE",
      "execution_count": 48,
      "outputs": []
    },
    {
      "cell_type": "markdown",
      "metadata": {
        "id": "YuzY8ndh5EhE"
      },
      "source": [
        "### LOSS: BCE , METRIC: AUC, TRAIN THE GRAPH AND TEST"
      ],
      "id": "YuzY8ndh5EhE"
    },
    {
      "cell_type": "code",
      "metadata": {
        "execution": {
          "iopub.execute_input": "2021-09-17T05:20:49.058595Z",
          "iopub.status.busy": "2021-09-17T05:20:49.057614Z",
          "iopub.status.idle": "2021-09-17T05:20:49.072469Z",
          "shell.execute_reply": "2021-09-17T05:20:49.071845Z",
          "shell.execute_reply.started": "2021-09-17T05:14:28.110922Z"
        },
        "papermill": {
          "duration": 0.101065,
          "end_time": "2021-09-17T05:20:49.072602",
          "exception": false,
          "start_time": "2021-09-17T05:20:48.971537",
          "status": "completed"
        },
        "tags": [],
        "id": "fyq__zGb5EhE"
      },
      "source": [
        "def compute_loss(pos_score, neg_score):\n",
        "    scores = torch.cat([pos_score, neg_score])\n",
        "    labels = torch.cat([torch.ones(pos_score.shape[0]), torch.zeros(neg_score.shape[0])]).to(device)\n",
        "    return F.binary_cross_entropy_with_logits(scores, labels)\n",
        "\n",
        "def compute_auc(pos_score, neg_score):\n",
        "    scores = torch.cat([pos_score, neg_score]).cpu().numpy()\n",
        "    labels = torch.cat(\n",
        "        [torch.ones(pos_score.shape[0]), torch.zeros(neg_score.shape[0])]).numpy()\n",
        "    return roc_auc_score(labels, scores)"
      ],
      "id": "fyq__zGb5EhE",
      "execution_count": 66,
      "outputs": []
    },
    {
      "cell_type": "code",
      "metadata": {
        "id": "h8sx1jAE5EhF"
      },
      "source": [
        "set_seed()\n",
        "\n",
        "model = GraphSAGE(train_g.ndata['feat'].shape[1], 16).to(device)\n",
        "\n",
        "#pred = MLPPredictor(16).to(device)\n",
        "pred = DotPredictor().to(device)"
      ],
      "id": "h8sx1jAE5EhF",
      "execution_count": 67,
      "outputs": []
    },
    {
      "cell_type": "code",
      "metadata": {
        "execution": {
          "iopub.execute_input": "2021-09-17T05:20:49.250050Z",
          "iopub.status.busy": "2021-09-17T05:20:49.249313Z",
          "iopub.status.idle": "2021-09-17T05:21:09.631825Z",
          "shell.execute_reply": "2021-09-17T05:21:09.631321Z",
          "shell.execute_reply.started": "2021-09-17T05:14:46.098811Z"
        },
        "papermill": {
          "duration": 20.476082,
          "end_time": "2021-09-17T05:21:09.632016",
          "exception": false,
          "start_time": "2021-09-17T05:20:49.155934",
          "status": "completed"
        },
        "tags": [],
        "colab": {
          "base_uri": "https://localhost:8080/"
        },
        "id": "kRe_aSB_5EhF",
        "outputId": "87528e07-0126-4997-bcc7-ef66386f932c"
      },
      "source": [
        "optimizer = torch.optim.Adam(itertools.chain(model.parameters(), pred.parameters()), lr=0.01)\n",
        "\n",
        "best_val_auc = 0\n",
        "\n",
        "all_logits = []\n",
        "for e in range(200):\n",
        "    # forward\n",
        "    h = model(train_g, train_g.ndata['feat'])\n",
        "    pos_score = pred(train_pos_g, h)\n",
        "    neg_score = pred(train_neg_g, h)\n",
        "    loss = compute_loss(pos_score, neg_score)\n",
        "\n",
        "    # backward\n",
        "    optimizer.zero_grad()\n",
        "    loss.backward()\n",
        "    optimizer.step()\n",
        "\n",
        "    with torch.no_grad():\n",
        "        pos_score = pred(val_pos_g, h)\n",
        "        neg_score = pred(val_neg_g, h)\n",
        "        val_auc = compute_auc(pos_score, neg_score)\n",
        "    \n",
        "    if best_val_auc < val_auc:\n",
        "        best_val_auc = val_auc\n",
        "\n",
        "    if e % 5 == 0:\n",
        "        print('In epoch {}, loss: {:.3f}, val_auc: {:.3f}, best_val_auc: {:.3f}'.format(\n",
        "            e, loss, val_auc, best_val_auc))\n",
        "        \n",
        "    # if e % 100 == 0:\n",
        "    #     optimizer = torch.optim.Adam(itertools.chain(model.parameters(), pred.parameters()), lr=0.01)\n",
        "        "
      ],
      "id": "kRe_aSB_5EhF",
      "execution_count": 68,
      "outputs": [
        {
          "output_type": "stream",
          "name": "stdout",
          "text": [
            "In epoch 0, loss: 20.142, val_auc: 0.773, best_val_auc: 0.773\n",
            "In epoch 5, loss: 0.750, val_auc: 0.775, best_val_auc: 0.775\n",
            "In epoch 10, loss: 0.697, val_auc: 0.627, best_val_auc: 0.775\n",
            "In epoch 15, loss: 0.697, val_auc: 0.667, best_val_auc: 0.775\n",
            "In epoch 20, loss: 0.696, val_auc: 0.602, best_val_auc: 0.775\n",
            "In epoch 25, loss: 0.696, val_auc: 0.578, best_val_auc: 0.775\n",
            "In epoch 30, loss: 0.696, val_auc: 0.586, best_val_auc: 0.775\n",
            "In epoch 35, loss: 0.695, val_auc: 0.462, best_val_auc: 0.775\n",
            "In epoch 40, loss: 0.695, val_auc: 0.441, best_val_auc: 0.775\n",
            "In epoch 45, loss: 0.695, val_auc: 0.445, best_val_auc: 0.775\n",
            "In epoch 50, loss: 0.695, val_auc: 0.448, best_val_auc: 0.775\n",
            "In epoch 55, loss: 0.695, val_auc: 0.450, best_val_auc: 0.775\n",
            "In epoch 60, loss: 0.694, val_auc: 0.451, best_val_auc: 0.775\n",
            "In epoch 65, loss: 0.694, val_auc: 0.449, best_val_auc: 0.775\n",
            "In epoch 70, loss: 0.694, val_auc: 0.450, best_val_auc: 0.775\n",
            "In epoch 75, loss: 0.694, val_auc: 0.452, best_val_auc: 0.775\n",
            "In epoch 80, loss: 0.694, val_auc: 0.453, best_val_auc: 0.775\n",
            "In epoch 85, loss: 0.694, val_auc: 0.454, best_val_auc: 0.775\n",
            "In epoch 90, loss: 0.694, val_auc: 0.455, best_val_auc: 0.775\n",
            "In epoch 95, loss: 0.694, val_auc: 0.455, best_val_auc: 0.775\n",
            "In epoch 100, loss: 0.694, val_auc: 0.456, best_val_auc: 0.775\n",
            "In epoch 105, loss: 0.694, val_auc: 0.456, best_val_auc: 0.775\n",
            "In epoch 110, loss: 0.694, val_auc: 0.458, best_val_auc: 0.775\n",
            "In epoch 115, loss: 0.694, val_auc: 0.459, best_val_auc: 0.775\n",
            "In epoch 120, loss: 0.694, val_auc: 0.471, best_val_auc: 0.775\n",
            "In epoch 125, loss: 0.694, val_auc: 0.473, best_val_auc: 0.775\n",
            "In epoch 130, loss: 0.694, val_auc: 0.473, best_val_auc: 0.775\n",
            "In epoch 135, loss: 0.693, val_auc: 0.476, best_val_auc: 0.775\n",
            "In epoch 140, loss: 0.693, val_auc: 0.485, best_val_auc: 0.775\n",
            "In epoch 145, loss: 0.693, val_auc: 0.486, best_val_auc: 0.775\n",
            "In epoch 150, loss: 0.693, val_auc: 0.486, best_val_auc: 0.775\n",
            "In epoch 155, loss: 0.693, val_auc: 0.487, best_val_auc: 0.775\n",
            "In epoch 160, loss: 0.693, val_auc: 0.517, best_val_auc: 0.775\n",
            "In epoch 165, loss: 0.693, val_auc: 0.519, best_val_auc: 0.775\n",
            "In epoch 170, loss: 0.693, val_auc: 0.520, best_val_auc: 0.775\n",
            "In epoch 175, loss: 0.693, val_auc: 0.522, best_val_auc: 0.775\n",
            "In epoch 180, loss: 0.693, val_auc: 0.522, best_val_auc: 0.775\n",
            "In epoch 185, loss: 0.693, val_auc: 0.523, best_val_auc: 0.775\n",
            "In epoch 190, loss: 0.693, val_auc: 0.523, best_val_auc: 0.775\n",
            "In epoch 195, loss: 0.693, val_auc: 0.528, best_val_auc: 0.775\n"
          ]
        }
      ]
    },
    {
      "cell_type": "code",
      "metadata": {
        "colab": {
          "base_uri": "https://localhost:8080/"
        },
        "id": "BkTZenq75EhG",
        "outputId": "f09e7350-84ee-48a4-e4c1-25803c132f47"
      },
      "source": [
        "with torch.no_grad():\n",
        "    pos_score = pred(test_pos_g, h)\n",
        "    neg_score = pred(test_neg_g, h)\n",
        "    test_auc = compute_auc(pos_score, neg_score)\n",
        "\n",
        "print(test_auc)"
      ],
      "id": "BkTZenq75EhG",
      "execution_count": 69,
      "outputs": [
        {
          "output_type": "stream",
          "name": "stdout",
          "text": [
            "0.5380549744451388\n"
          ]
        }
      ]
    },
    {
      "cell_type": "markdown",
      "metadata": {
        "papermill": {
          "duration": 0.0833,
          "end_time": "2021-09-17T05:20:48.166067",
          "exception": false,
          "start_time": "2021-09-17T05:20:48.082767",
          "status": "completed"
        },
        "tags": [],
        "id": "NXRo0R9l5EhG"
      },
      "source": [
        "### LOSS: BCE, METRIC: HITS@K, TRAIN THE GRAPH AND TEST"
      ],
      "id": "NXRo0R9l5EhG"
    },
    {
      "cell_type": "code",
      "metadata": {
        "execution": {
          "iopub.execute_input": "2021-09-17T05:20:49.058595Z",
          "iopub.status.busy": "2021-09-17T05:20:49.057614Z",
          "iopub.status.idle": "2021-09-17T05:20:49.072469Z",
          "shell.execute_reply": "2021-09-17T05:20:49.071845Z",
          "shell.execute_reply.started": "2021-09-17T05:14:28.110922Z"
        },
        "papermill": {
          "duration": 0.101065,
          "end_time": "2021-09-17T05:20:49.072602",
          "exception": false,
          "start_time": "2021-09-17T05:20:48.971537",
          "status": "completed"
        },
        "tags": [],
        "id": "ylVUsga85EhH"
      },
      "source": [
        "\n",
        "def compute_loss(pos_score, neg_score):\n",
        "    scores = torch.cat([pos_score, neg_score])\n",
        "    labels = torch.cat([torch.ones(pos_score.shape[0]), torch.zeros(neg_score.shape[0])]).to(device)\n",
        "    return F.binary_cross_entropy_with_logits(scores, labels)\n",
        "\n",
        "def compute_hits_k(pos_score, neg_score, K):\n",
        "    y_pred_neg = neg_score\n",
        "    y_pred_pos = pos_score\n",
        "    if len(y_pred_neg) < K:\n",
        "        return 1.\n",
        "\n",
        "    kth_score_in_negative_edges = torch.topk(y_pred_neg, K)[0][-1]\n",
        "    hitsK = float(torch.sum(y_pred_pos > kth_score_in_negative_edges).cpu()) / len(y_pred_pos)\n",
        "    return hitsK"
      ],
      "id": "ylVUsga85EhH",
      "execution_count": 70,
      "outputs": []
    },
    {
      "cell_type": "code",
      "metadata": {
        "id": "g4cQ7HgK5EhH"
      },
      "source": [
        "set_seed()\n",
        "\n",
        "model = GraphSAGE(train_g.ndata['feat'].shape[1], 16).to(device)\n",
        "\n",
        "#pred = MLPPredictor(16).to(device)\n",
        "pred = DotPredictor().to(device)"
      ],
      "id": "g4cQ7HgK5EhH",
      "execution_count": 71,
      "outputs": []
    },
    {
      "cell_type": "code",
      "metadata": {
        "execution": {
          "iopub.execute_input": "2021-09-17T05:20:49.250050Z",
          "iopub.status.busy": "2021-09-17T05:20:49.249313Z",
          "iopub.status.idle": "2021-09-17T05:21:09.631825Z",
          "shell.execute_reply": "2021-09-17T05:21:09.631321Z",
          "shell.execute_reply.started": "2021-09-17T05:14:46.098811Z"
        },
        "papermill": {
          "duration": 20.476082,
          "end_time": "2021-09-17T05:21:09.632016",
          "exception": false,
          "start_time": "2021-09-17T05:20:49.155934",
          "status": "completed"
        },
        "tags": [],
        "colab": {
          "base_uri": "https://localhost:8080/"
        },
        "id": "4oRgLnYI5EhH",
        "outputId": "aaf0500a-2956-4869-be07-d507aa78e9df"
      },
      "source": [
        "optimizer = torch.optim.Adam(itertools.chain(model.parameters(), pred.parameters()), lr=0.01)\n",
        "\n",
        "best_val_hits_k = -float('inf')\n",
        "\n",
        "k_hits = 20\n",
        "\n",
        "all_logits = []\n",
        "for e in range(200):\n",
        "    # forward\n",
        "    h = model(train_g, train_g.ndata['feat'])\n",
        "    pos_score = pred(train_pos_g, h)\n",
        "    neg_score = pred(train_neg_g, h)\n",
        "    loss = compute_loss(pos_score, neg_score)\n",
        "\n",
        "    # backward\n",
        "    optimizer.zero_grad()\n",
        "    loss.backward()\n",
        "    optimizer.step()\n",
        "\n",
        "    with torch.no_grad():\n",
        "        pos_score = pred(val_pos_g, h)\n",
        "        neg_score = pred(val_neg_g, h)\n",
        "        val_hits_k = compute_hits_k(pos_score, neg_score, k_hits)\n",
        "    \n",
        "    if best_val_hits_k < val_hits_k:\n",
        "        best_val_hits_k = val_hits_k\n",
        "    \n",
        "    # break \n",
        "\n",
        "    if e % 5 == 0:\n",
        "        print('In epoch {}, loss: {:.3f}, val_hits_k: {:.6f}, best_val_hits_k: {:.6f}'.format(\n",
        "            e, loss, val_hits_k, best_val_hits_k))\n",
        "    \n",
        "    # if e % 100 == 0:\n",
        "    #     optimizer = torch.optim.Adam(itertools.chain(model.parameters(), pred.parameters()), lr=0.01)"
      ],
      "id": "4oRgLnYI5EhH",
      "execution_count": 72,
      "outputs": [
        {
          "output_type": "stream",
          "name": "stdout",
          "text": [
            "In epoch 0, loss: 20.142, val_hits_k: 0.000000, best_val_hits_k: 0.000000\n",
            "In epoch 5, loss: 0.750, val_hits_k: 0.000000, best_val_hits_k: 0.000000\n",
            "In epoch 10, loss: 0.697, val_hits_k: 0.000059, best_val_hits_k: 0.000059\n",
            "In epoch 15, loss: 0.697, val_hits_k: 0.000161, best_val_hits_k: 0.000161\n",
            "In epoch 20, loss: 0.696, val_hits_k: 0.000204, best_val_hits_k: 0.000204\n",
            "In epoch 25, loss: 0.696, val_hits_k: 0.000221, best_val_hits_k: 0.000221\n",
            "In epoch 30, loss: 0.696, val_hits_k: 0.000263, best_val_hits_k: 0.000263\n",
            "In epoch 35, loss: 0.695, val_hits_k: 0.000263, best_val_hits_k: 0.000263\n",
            "In epoch 40, loss: 0.695, val_hits_k: 0.000246, best_val_hits_k: 0.000263\n",
            "In epoch 45, loss: 0.695, val_hits_k: 0.000263, best_val_hits_k: 0.000263\n",
            "In epoch 50, loss: 0.695, val_hits_k: 0.000255, best_val_hits_k: 0.000263\n",
            "In epoch 55, loss: 0.695, val_hits_k: 0.000263, best_val_hits_k: 0.000263\n",
            "In epoch 60, loss: 0.694, val_hits_k: 0.000263, best_val_hits_k: 0.000263\n",
            "In epoch 65, loss: 0.694, val_hits_k: 0.000263, best_val_hits_k: 0.000263\n",
            "In epoch 70, loss: 0.694, val_hits_k: 0.000272, best_val_hits_k: 0.000272\n",
            "In epoch 75, loss: 0.694, val_hits_k: 0.000263, best_val_hits_k: 0.000280\n",
            "In epoch 80, loss: 0.694, val_hits_k: 0.000272, best_val_hits_k: 0.000280\n",
            "In epoch 85, loss: 0.694, val_hits_k: 0.000272, best_val_hits_k: 0.000280\n",
            "In epoch 90, loss: 0.694, val_hits_k: 0.000272, best_val_hits_k: 0.000280\n",
            "In epoch 95, loss: 0.694, val_hits_k: 0.000280, best_val_hits_k: 0.000280\n",
            "In epoch 100, loss: 0.694, val_hits_k: 0.000280, best_val_hits_k: 0.000280\n",
            "In epoch 105, loss: 0.694, val_hits_k: 0.000280, best_val_hits_k: 0.000280\n",
            "In epoch 110, loss: 0.694, val_hits_k: 0.000289, best_val_hits_k: 0.000289\n",
            "In epoch 115, loss: 0.694, val_hits_k: 0.000289, best_val_hits_k: 0.000289\n",
            "In epoch 120, loss: 0.694, val_hits_k: 0.000289, best_val_hits_k: 0.000289\n",
            "In epoch 125, loss: 0.694, val_hits_k: 0.000289, best_val_hits_k: 0.000289\n",
            "In epoch 130, loss: 0.694, val_hits_k: 0.000289, best_val_hits_k: 0.000289\n",
            "In epoch 135, loss: 0.693, val_hits_k: 0.000297, best_val_hits_k: 0.000297\n",
            "In epoch 140, loss: 0.693, val_hits_k: 0.000297, best_val_hits_k: 0.000297\n",
            "In epoch 145, loss: 0.693, val_hits_k: 0.000297, best_val_hits_k: 0.000297\n",
            "In epoch 150, loss: 0.693, val_hits_k: 0.000297, best_val_hits_k: 0.000297\n",
            "In epoch 155, loss: 0.693, val_hits_k: 0.000306, best_val_hits_k: 0.000306\n",
            "In epoch 160, loss: 0.693, val_hits_k: 0.000306, best_val_hits_k: 0.000306\n",
            "In epoch 165, loss: 0.693, val_hits_k: 0.000306, best_val_hits_k: 0.000306\n",
            "In epoch 170, loss: 0.693, val_hits_k: 0.000306, best_val_hits_k: 0.000306\n",
            "In epoch 175, loss: 0.693, val_hits_k: 0.000306, best_val_hits_k: 0.000306\n",
            "In epoch 180, loss: 0.693, val_hits_k: 0.000306, best_val_hits_k: 0.000306\n",
            "In epoch 185, loss: 0.693, val_hits_k: 0.000306, best_val_hits_k: 0.000306\n",
            "In epoch 190, loss: 0.693, val_hits_k: 0.000306, best_val_hits_k: 0.000306\n",
            "In epoch 195, loss: 0.693, val_hits_k: 0.000306, best_val_hits_k: 0.000306\n"
          ]
        }
      ]
    },
    {
      "cell_type": "code",
      "metadata": {
        "colab": {
          "base_uri": "https://localhost:8080/"
        },
        "id": "EkuyXj8k5EhI",
        "outputId": "bca1d431-1fca-47f6-a891-a98497551f76"
      },
      "source": [
        "with torch.no_grad():\n",
        "    pos_score = pred(test_pos_g, h)\n",
        "    neg_score = pred(test_neg_g, h)\n",
        "    test_hits_k = compute_hits_k(pos_score, neg_score, k_hits)\n",
        "\n",
        "print(test_hits_k)"
      ],
      "id": "EkuyXj8k5EhI",
      "execution_count": 73,
      "outputs": [
        {
          "output_type": "stream",
          "name": "stdout",
          "text": [
            "0.0002546138144968619\n"
          ]
        }
      ]
    },
    {
      "cell_type": "markdown",
      "metadata": {
        "papermill": {
          "duration": 0.0833,
          "end_time": "2021-09-17T05:20:48.166067",
          "exception": false,
          "start_time": "2021-09-17T05:20:48.082767",
          "status": "completed"
        },
        "tags": [],
        "id": "uEkwBaeU2ca_"
      },
      "source": [
        "## MODEL: GCN , METRIC: AUC, HITS"
      ],
      "id": "uEkwBaeU2ca_"
    },
    {
      "cell_type": "markdown",
      "metadata": {
        "id": "vkhtx-8o2cbO"
      },
      "source": [
        "### MODEL AND PREDICTOR"
      ],
      "id": "vkhtx-8o2cbO"
    },
    {
      "cell_type": "code",
      "metadata": {
        "id": "EwlJShyBdm_g"
      },
      "source": [
        "# help(GraphConv)"
      ],
      "id": "EwlJShyBdm_g",
      "execution_count": 74,
      "outputs": []
    },
    {
      "cell_type": "code",
      "metadata": {
        "execution": {
          "iopub.execute_input": "2021-09-17T05:20:48.336168Z",
          "iopub.status.busy": "2021-09-17T05:20:48.335498Z",
          "iopub.status.idle": "2021-09-17T05:20:48.341328Z",
          "shell.execute_reply": "2021-09-17T05:20:48.341868Z",
          "shell.execute_reply.started": "2021-09-17T05:13:27.979053Z"
        },
        "papermill": {
          "duration": 0.092783,
          "end_time": "2021-09-17T05:20:48.342064",
          "exception": false,
          "start_time": "2021-09-17T05:20:48.249281",
          "status": "completed"
        },
        "tags": [],
        "id": "UZyoeuVf2cbP"
      },
      "source": [
        "class GCN(nn.Module):\n",
        "    def __init__(self, in_feats, h_feats, out_feats):\n",
        "        super(GCN, self).__init__()\n",
        "        self.conv1 = GraphConv(in_feats, h_feats, allow_zero_in_degree= True)\n",
        "        self.conv2 = GraphConv(h_feats, out_feats, allow_zero_in_degree= True)\n",
        "\n",
        "    def forward(self, g, in_feat):\n",
        "        h = self.conv1(g, in_feat)\n",
        "        h = F.relu(h)\n",
        "        h = self.conv2(g, h)\n",
        "        return h"
      ],
      "id": "UZyoeuVf2cbP",
      "execution_count": 75,
      "outputs": []
    },
    {
      "cell_type": "code",
      "metadata": {
        "execution": {
          "iopub.execute_input": "2021-09-17T05:20:48.701576Z",
          "iopub.status.busy": "2021-09-17T05:20:48.700850Z",
          "iopub.status.idle": "2021-09-17T05:20:48.706029Z",
          "shell.execute_reply": "2021-09-17T05:20:48.706549Z",
          "shell.execute_reply.started": "2021-09-17T05:13:58.880511Z"
        },
        "papermill": {
          "duration": 0.092799,
          "end_time": "2021-09-17T05:20:48.706718",
          "exception": false,
          "start_time": "2021-09-17T05:20:48.613919",
          "status": "completed"
        },
        "tags": [],
        "id": "7UstjS892cbP"
      },
      "source": [
        "class DotPredictor(nn.Module):\n",
        "    def forward(self, g, h):\n",
        "        with g.local_scope():\n",
        "            g.ndata['h'] = h\n",
        "            g.apply_edges(fn.u_dot_v('h', 'h', 'score'))\n",
        "            return g.edata['score'][:, 0]\n",
        "\n",
        "class MLPPredictor(nn.Module):\n",
        "    def __init__(self, h_feats):\n",
        "        super().__init__()\n",
        "        self.W1 = nn.Linear(h_feats * 2, h_feats)\n",
        "        self.W2 = nn.Linear(h_feats, 1)\n",
        "\n",
        "    def apply_edges(self, edges):\n",
        "        h = torch.cat([edges.src['h'], edges.dst['h']], 1)\n",
        "        return {'score': self.W2(F.relu(self.W1(h))).squeeze(1)}\n",
        "\n",
        "    def forward(self, g, h):\n",
        "        with g.local_scope():\n",
        "            g.ndata['h'] = h\n",
        "            g.apply_edges(self.apply_edges)\n",
        "            return g.edata['score']"
      ],
      "id": "7UstjS892cbP",
      "execution_count": 76,
      "outputs": []
    },
    {
      "cell_type": "markdown",
      "metadata": {
        "id": "irzHOKX32cbQ"
      },
      "source": [
        "### TRAIN, VAL and TEST Graphs (POS AND NEG)"
      ],
      "id": "irzHOKX32cbQ"
    },
    {
      "cell_type": "code",
      "metadata": {
        "execution": {
          "iopub.execute_input": "2021-09-17T05:20:48.515152Z",
          "iopub.status.busy": "2021-09-17T05:20:48.514373Z",
          "iopub.status.idle": "2021-09-17T05:20:48.528398Z",
          "shell.execute_reply": "2021-09-17T05:20:48.528950Z",
          "shell.execute_reply.started": "2021-09-17T05:13:44.690163Z"
        },
        "papermill": {
          "duration": 0.101705,
          "end_time": "2021-09-17T05:20:48.529132",
          "exception": false,
          "start_time": "2021-09-17T05:20:48.427427",
          "status": "completed"
        },
        "tags": [],
        "id": "pQDij2fw2cbQ"
      },
      "source": [
        "train_pos_g = dgl.graph((train_pos_u, train_pos_v), num_nodes=g.number_of_nodes()).to(device)\n",
        "train_neg_g = dgl.graph((train_neg_u, train_neg_v), num_nodes=g.number_of_nodes()).to(device)\n",
        "\n",
        "val_pos_g = dgl.graph((val_pos_u, val_pos_v), num_nodes=g.number_of_nodes()).to(device)\n",
        "val_neg_g = dgl.graph((val_neg_u, val_neg_v), num_nodes=g.number_of_nodes()).to(device)\n",
        "\n",
        "test_pos_g = dgl.graph((test_pos_u, test_pos_v), num_nodes=g.number_of_nodes()).to(device)\n",
        "test_neg_g = dgl.graph((test_neg_u, test_neg_v), num_nodes=g.number_of_nodes()).to(device)"
      ],
      "id": "pQDij2fw2cbQ",
      "execution_count": 77,
      "outputs": []
    },
    {
      "cell_type": "markdown",
      "metadata": {
        "id": "rOWn9PwY2cbR"
      },
      "source": [
        "### LOSS: BCE , METRIC: AUC, TRAIN THE GRAPH AND TEST"
      ],
      "id": "rOWn9PwY2cbR"
    },
    {
      "cell_type": "code",
      "metadata": {
        "execution": {
          "iopub.execute_input": "2021-09-17T05:20:49.058595Z",
          "iopub.status.busy": "2021-09-17T05:20:49.057614Z",
          "iopub.status.idle": "2021-09-17T05:20:49.072469Z",
          "shell.execute_reply": "2021-09-17T05:20:49.071845Z",
          "shell.execute_reply.started": "2021-09-17T05:14:28.110922Z"
        },
        "papermill": {
          "duration": 0.101065,
          "end_time": "2021-09-17T05:20:49.072602",
          "exception": false,
          "start_time": "2021-09-17T05:20:48.971537",
          "status": "completed"
        },
        "tags": [],
        "id": "lToHC2002cbS"
      },
      "source": [
        "def compute_loss(pos_score, neg_score):\n",
        "    scores = torch.cat([pos_score, neg_score])\n",
        "    labels = torch.cat([torch.ones(pos_score.shape[0]), torch.zeros(neg_score.shape[0])]).to(device)\n",
        "    return F.binary_cross_entropy_with_logits(scores, labels)\n",
        "\n",
        "def compute_auc(pos_score, neg_score):\n",
        "    scores = torch.cat([pos_score, neg_score]).cpu().numpy()\n",
        "    labels = torch.cat(\n",
        "        [torch.ones(pos_score.shape[0]), torch.zeros(neg_score.shape[0])]).numpy()\n",
        "    return roc_auc_score(labels, scores)"
      ],
      "id": "lToHC2002cbS",
      "execution_count": 78,
      "outputs": []
    },
    {
      "cell_type": "code",
      "metadata": {
        "id": "NHpwt3yq4zC7"
      },
      "source": [
        "set_seed()\n",
        "\n",
        "model = GCN(train_g.ndata['feat'].shape[1], 32, 16).to(device)\n",
        "\n",
        "#pred = MLPPredictor(16).to(device)\n",
        "pred = DotPredictor().to(device)"
      ],
      "id": "NHpwt3yq4zC7",
      "execution_count": 79,
      "outputs": []
    },
    {
      "cell_type": "code",
      "metadata": {
        "execution": {
          "iopub.execute_input": "2021-09-17T05:20:49.250050Z",
          "iopub.status.busy": "2021-09-17T05:20:49.249313Z",
          "iopub.status.idle": "2021-09-17T05:21:09.631825Z",
          "shell.execute_reply": "2021-09-17T05:21:09.631321Z",
          "shell.execute_reply.started": "2021-09-17T05:14:46.098811Z"
        },
        "papermill": {
          "duration": 20.476082,
          "end_time": "2021-09-17T05:21:09.632016",
          "exception": false,
          "start_time": "2021-09-17T05:20:49.155934",
          "status": "completed"
        },
        "tags": [],
        "colab": {
          "base_uri": "https://localhost:8080/"
        },
        "id": "2JxzL6qw2cbT",
        "outputId": "f51f05eb-cc65-4bfd-df14-4d0c67b73431"
      },
      "source": [
        "optimizer = torch.optim.Adam(itertools.chain(model.parameters(), pred.parameters()), lr=0.01)\n",
        "\n",
        "best_val_auc = 0\n",
        "\n",
        "all_logits = []\n",
        "for e in range(200):\n",
        "    # forward\n",
        "    h = model(train_g, train_g.ndata['feat'])\n",
        "    pos_score = pred(train_pos_g, h)\n",
        "    neg_score = pred(train_neg_g, h)\n",
        "    loss = compute_loss(pos_score, neg_score)\n",
        "\n",
        "    # backward\n",
        "    optimizer.zero_grad()\n",
        "    loss.backward()\n",
        "    optimizer.step()\n",
        "\n",
        "    with torch.no_grad():\n",
        "        pos_score = pred(val_pos_g, h)\n",
        "        neg_score = pred(val_neg_g, h)\n",
        "        val_auc = compute_auc(pos_score, neg_score)\n",
        "    \n",
        "    if best_val_auc < val_auc:\n",
        "        best_val_auc = val_auc\n",
        "\n",
        "    if e % 5 == 0:\n",
        "        print('In epoch {}, loss: {:.3f}, val_auc: {:.3f}, best_val_auc: {:.3f}'.format(\n",
        "            e, loss, val_auc, best_val_auc))\n",
        "        \n",
        "    # if e % 100 == 0:\n",
        "    #     optimizer = torch.optim.Adam(itertools.chain(model.parameters(), pred.parameters()), lr=0.01)\n",
        "        "
      ],
      "id": "2JxzL6qw2cbT",
      "execution_count": 80,
      "outputs": [
        {
          "output_type": "stream",
          "name": "stdout",
          "text": [
            "In epoch 0, loss: 1.095, val_auc: 0.744, best_val_auc: 0.744\n",
            "In epoch 5, loss: 0.503, val_auc: 0.959, best_val_auc: 0.959\n",
            "In epoch 10, loss: 0.444, val_auc: 0.974, best_val_auc: 0.974\n",
            "In epoch 15, loss: 0.429, val_auc: 0.980, best_val_auc: 0.980\n",
            "In epoch 20, loss: 0.413, val_auc: 0.984, best_val_auc: 0.984\n",
            "In epoch 25, loss: 0.402, val_auc: 0.987, best_val_auc: 0.987\n",
            "In epoch 30, loss: 0.398, val_auc: 0.989, best_val_auc: 0.989\n",
            "In epoch 35, loss: 0.395, val_auc: 0.989, best_val_auc: 0.989\n",
            "In epoch 40, loss: 0.392, val_auc: 0.990, best_val_auc: 0.990\n",
            "In epoch 45, loss: 0.390, val_auc: 0.990, best_val_auc: 0.990\n",
            "In epoch 50, loss: 0.388, val_auc: 0.991, best_val_auc: 0.991\n",
            "In epoch 55, loss: 0.387, val_auc: 0.991, best_val_auc: 0.991\n",
            "In epoch 60, loss: 0.386, val_auc: 0.991, best_val_auc: 0.991\n",
            "In epoch 65, loss: 0.385, val_auc: 0.991, best_val_auc: 0.991\n",
            "In epoch 70, loss: 0.385, val_auc: 0.991, best_val_auc: 0.991\n",
            "In epoch 75, loss: 0.389, val_auc: 0.990, best_val_auc: 0.991\n",
            "In epoch 80, loss: 0.384, val_auc: 0.991, best_val_auc: 0.991\n",
            "In epoch 85, loss: 0.387, val_auc: 0.991, best_val_auc: 0.991\n",
            "In epoch 90, loss: 0.385, val_auc: 0.990, best_val_auc: 0.991\n",
            "In epoch 95, loss: 0.384, val_auc: 0.991, best_val_auc: 0.991\n",
            "In epoch 100, loss: 0.383, val_auc: 0.991, best_val_auc: 0.991\n",
            "In epoch 105, loss: 0.460, val_auc: 0.970, best_val_auc: 0.991\n",
            "In epoch 110, loss: 0.480, val_auc: 0.972, best_val_auc: 0.991\n",
            "In epoch 115, loss: 0.479, val_auc: 0.977, best_val_auc: 0.991\n",
            "In epoch 120, loss: 0.449, val_auc: 0.980, best_val_auc: 0.991\n",
            "In epoch 125, loss: 0.418, val_auc: 0.985, best_val_auc: 0.991\n",
            "In epoch 130, loss: 0.408, val_auc: 0.986, best_val_auc: 0.991\n",
            "In epoch 135, loss: 0.404, val_auc: 0.987, best_val_auc: 0.991\n",
            "In epoch 140, loss: 0.398, val_auc: 0.988, best_val_auc: 0.991\n",
            "In epoch 145, loss: 0.394, val_auc: 0.989, best_val_auc: 0.991\n",
            "In epoch 150, loss: 0.392, val_auc: 0.990, best_val_auc: 0.991\n",
            "In epoch 155, loss: 0.390, val_auc: 0.990, best_val_auc: 0.991\n",
            "In epoch 160, loss: 0.389, val_auc: 0.990, best_val_auc: 0.991\n",
            "In epoch 165, loss: 0.388, val_auc: 0.990, best_val_auc: 0.991\n",
            "In epoch 170, loss: 0.387, val_auc: 0.990, best_val_auc: 0.991\n",
            "In epoch 175, loss: 0.386, val_auc: 0.990, best_val_auc: 0.991\n",
            "In epoch 180, loss: 0.386, val_auc: 0.991, best_val_auc: 0.991\n",
            "In epoch 185, loss: 0.385, val_auc: 0.991, best_val_auc: 0.991\n",
            "In epoch 190, loss: 0.385, val_auc: 0.991, best_val_auc: 0.991\n",
            "In epoch 195, loss: 0.385, val_auc: 0.991, best_val_auc: 0.991\n"
          ]
        }
      ]
    },
    {
      "cell_type": "code",
      "metadata": {
        "colab": {
          "base_uri": "https://localhost:8080/"
        },
        "id": "jl4y-IRP2cbV",
        "outputId": "d38853ac-b03c-436c-be0c-90176ab1e67e"
      },
      "source": [
        "with torch.no_grad():\n",
        "    pos_score = pred(test_pos_g, h)\n",
        "    neg_score = pred(test_neg_g, h)\n",
        "    test_auc = compute_auc(pos_score, neg_score)\n",
        "\n",
        "print(test_auc)"
      ],
      "id": "jl4y-IRP2cbV",
      "execution_count": 81,
      "outputs": [
        {
          "output_type": "stream",
          "name": "stdout",
          "text": [
            "0.990677210644933\n"
          ]
        }
      ]
    },
    {
      "cell_type": "markdown",
      "metadata": {
        "papermill": {
          "duration": 0.0833,
          "end_time": "2021-09-17T05:20:48.166067",
          "exception": false,
          "start_time": "2021-09-17T05:20:48.082767",
          "status": "completed"
        },
        "tags": [],
        "id": "xqdtR2F62cbW"
      },
      "source": [
        "### LOSS: BCE, METRIC: HITS@K, TRAIN THE GRAPH AND TEST"
      ],
      "id": "xqdtR2F62cbW"
    },
    {
      "cell_type": "code",
      "metadata": {
        "execution": {
          "iopub.execute_input": "2021-09-17T05:20:49.058595Z",
          "iopub.status.busy": "2021-09-17T05:20:49.057614Z",
          "iopub.status.idle": "2021-09-17T05:20:49.072469Z",
          "shell.execute_reply": "2021-09-17T05:20:49.071845Z",
          "shell.execute_reply.started": "2021-09-17T05:14:28.110922Z"
        },
        "papermill": {
          "duration": 0.101065,
          "end_time": "2021-09-17T05:20:49.072602",
          "exception": false,
          "start_time": "2021-09-17T05:20:48.971537",
          "status": "completed"
        },
        "tags": [],
        "id": "XFVLbPi_2cbW"
      },
      "source": [
        "def compute_loss(pos_score, neg_score):\n",
        "    scores = torch.cat([pos_score, neg_score])\n",
        "    labels = torch.cat([torch.ones(pos_score.shape[0]), torch.zeros(neg_score.shape[0])]).to(device)\n",
        "    return F.binary_cross_entropy_with_logits(scores, labels)\n",
        "\n",
        "def compute_hits_k(pos_score, neg_score, K):\n",
        "    y_pred_neg = neg_score\n",
        "    y_pred_pos = pos_score\n",
        "    if len(y_pred_neg) < K:\n",
        "        return 1.\n",
        "\n",
        "    kth_score_in_negative_edges = torch.topk(y_pred_neg, K)[0][-1]\n",
        "    hitsK = float(torch.sum(y_pred_pos > kth_score_in_negative_edges).cpu()) / len(y_pred_pos)\n",
        "    return hitsK"
      ],
      "id": "XFVLbPi_2cbW",
      "execution_count": 82,
      "outputs": []
    },
    {
      "cell_type": "code",
      "metadata": {
        "id": "N9kfpbGH44u6"
      },
      "source": [
        "set_seed()\n",
        "\n",
        "model = GCN(train_g.ndata['feat'].shape[1], 32, 16).to(device)\n",
        "\n",
        "#pred = MLPPredictor(16).to(device)\n",
        "pred = DotPredictor().to(device)"
      ],
      "id": "N9kfpbGH44u6",
      "execution_count": 83,
      "outputs": []
    },
    {
      "cell_type": "code",
      "metadata": {
        "execution": {
          "iopub.execute_input": "2021-09-17T05:20:49.250050Z",
          "iopub.status.busy": "2021-09-17T05:20:49.249313Z",
          "iopub.status.idle": "2021-09-17T05:21:09.631825Z",
          "shell.execute_reply": "2021-09-17T05:21:09.631321Z",
          "shell.execute_reply.started": "2021-09-17T05:14:46.098811Z"
        },
        "papermill": {
          "duration": 20.476082,
          "end_time": "2021-09-17T05:21:09.632016",
          "exception": false,
          "start_time": "2021-09-17T05:20:49.155934",
          "status": "completed"
        },
        "tags": [],
        "colab": {
          "base_uri": "https://localhost:8080/"
        },
        "id": "bbJQg-8u2cbY",
        "outputId": "54cd05c1-f51a-453a-d92a-fd6113e1559a"
      },
      "source": [
        "optimizer = torch.optim.Adam(itertools.chain(model.parameters(), pred.parameters()), lr=0.01)\n",
        "\n",
        "best_val_hits_k = -float('inf')\n",
        "\n",
        "k_hits = 20\n",
        "\n",
        "all_logits = []\n",
        "for e in range(200):\n",
        "    # forward\n",
        "    h = model(train_g, train_g.ndata['feat'])\n",
        "    pos_score = pred(train_pos_g, h)\n",
        "    neg_score = pred(train_neg_g, h)\n",
        "    loss = compute_loss(pos_score, neg_score)\n",
        "\n",
        "    # backward\n",
        "    optimizer.zero_grad()\n",
        "    loss.backward()\n",
        "    optimizer.step()\n",
        "\n",
        "    with torch.no_grad():\n",
        "        pos_score = pred(val_pos_g, h)\n",
        "        neg_score = pred(val_neg_g, h)\n",
        "        val_hits_k = compute_hits_k(pos_score, neg_score, k_hits)\n",
        "    \n",
        "    if best_val_hits_k < val_hits_k:\n",
        "        best_val_hits_k = val_hits_k\n",
        "    \n",
        "    # break \n",
        "\n",
        "    if e % 5 == 0:\n",
        "        print('In epoch {}, loss: {:.3f}, val_hits_k: {:.6f}, best_val_hits_k: {:.6f}'.format(\n",
        "            e, loss, val_hits_k, best_val_hits_k))\n",
        "    \n",
        "    if e % 100 == 0:\n",
        "        optimizer = torch.optim.Adam(itertools.chain(model.parameters(), pred.parameters()), lr=0.01)"
      ],
      "id": "bbJQg-8u2cbY",
      "execution_count": 84,
      "outputs": [
        {
          "output_type": "stream",
          "name": "stdout",
          "text": [
            "In epoch 0, loss: 1.095, val_hits_k: 0.000000, best_val_hits_k: 0.000000\n",
            "In epoch 5, loss: 0.503, val_hits_k: 0.010762, best_val_hits_k: 0.010762\n",
            "In epoch 10, loss: 0.444, val_hits_k: 0.019801, best_val_hits_k: 0.019801\n",
            "In epoch 15, loss: 0.429, val_hits_k: 0.059232, best_val_hits_k: 0.059232\n",
            "In epoch 20, loss: 0.413, val_hits_k: 0.101473, best_val_hits_k: 0.101473\n",
            "In epoch 25, loss: 0.402, val_hits_k: 0.101634, best_val_hits_k: 0.107397\n",
            "In epoch 30, loss: 0.398, val_hits_k: 0.104036, best_val_hits_k: 0.107397\n",
            "In epoch 35, loss: 0.395, val_hits_k: 0.109612, best_val_hits_k: 0.109612\n",
            "In epoch 40, loss: 0.392, val_hits_k: 0.116393, best_val_hits_k: 0.117708\n",
            "In epoch 45, loss: 0.390, val_hits_k: 0.112939, best_val_hits_k: 0.117708\n",
            "In epoch 50, loss: 0.388, val_hits_k: 0.111301, best_val_hits_k: 0.117708\n",
            "In epoch 55, loss: 0.387, val_hits_k: 0.108721, best_val_hits_k: 0.117708\n",
            "In epoch 60, loss: 0.386, val_hits_k: 0.110197, best_val_hits_k: 0.117708\n",
            "In epoch 65, loss: 0.385, val_hits_k: 0.112124, best_val_hits_k: 0.117708\n",
            "In epoch 70, loss: 0.385, val_hits_k: 0.113745, best_val_hits_k: 0.117708\n",
            "In epoch 75, loss: 0.389, val_hits_k: 0.111776, best_val_hits_k: 0.117708\n",
            "In epoch 80, loss: 0.384, val_hits_k: 0.110393, best_val_hits_k: 0.117708\n",
            "In epoch 85, loss: 0.387, val_hits_k: 0.113618, best_val_hits_k: 0.117708\n",
            "In epoch 90, loss: 0.387, val_hits_k: 0.110460, best_val_hits_k: 0.117708\n",
            "In epoch 95, loss: 0.385, val_hits_k: 0.115137, best_val_hits_k: 0.117708\n",
            "In epoch 100, loss: 0.384, val_hits_k: 0.110333, best_val_hits_k: 0.117708\n",
            "In epoch 105, loss: 0.918, val_hits_k: 0.088419, best_val_hits_k: 0.117708\n",
            "In epoch 110, loss: 0.510, val_hits_k: 0.015710, best_val_hits_k: 0.117708\n",
            "In epoch 115, loss: 0.631, val_hits_k: 0.000025, best_val_hits_k: 0.117708\n",
            "In epoch 120, loss: 0.619, val_hits_k: 0.000068, best_val_hits_k: 0.117708\n",
            "In epoch 125, loss: 0.519, val_hits_k: 0.015184, best_val_hits_k: 0.117708\n",
            "In epoch 130, loss: 0.525, val_hits_k: 0.027303, best_val_hits_k: 0.117708\n",
            "In epoch 135, loss: 0.493, val_hits_k: 0.013537, best_val_hits_k: 0.117708\n",
            "In epoch 140, loss: 0.463, val_hits_k: 0.034653, best_val_hits_k: 0.117708\n",
            "In epoch 145, loss: 0.454, val_hits_k: 0.050261, best_val_hits_k: 0.117708\n",
            "In epoch 150, loss: 0.438, val_hits_k: 0.066777, best_val_hits_k: 0.117708\n",
            "In epoch 155, loss: 0.423, val_hits_k: 0.079465, best_val_hits_k: 0.117708\n",
            "In epoch 160, loss: 0.418, val_hits_k: 0.081655, best_val_hits_k: 0.117708\n",
            "In epoch 165, loss: 0.412, val_hits_k: 0.082673, best_val_hits_k: 0.117708\n",
            "In epoch 170, loss: 0.407, val_hits_k: 0.092230, best_val_hits_k: 0.117708\n",
            "In epoch 175, loss: 0.402, val_hits_k: 0.101566, best_val_hits_k: 0.117708\n",
            "In epoch 180, loss: 0.398, val_hits_k: 0.111097, best_val_hits_k: 0.117708\n",
            "In epoch 185, loss: 0.395, val_hits_k: 0.111004, best_val_hits_k: 0.117708\n",
            "In epoch 190, loss: 0.393, val_hits_k: 0.111275, best_val_hits_k: 0.117708\n",
            "In epoch 195, loss: 0.392, val_hits_k: 0.108992, best_val_hits_k: 0.117708\n"
          ]
        }
      ]
    },
    {
      "cell_type": "code",
      "metadata": {
        "colab": {
          "base_uri": "https://localhost:8080/"
        },
        "id": "iclQ0fFF2cbZ",
        "outputId": "c67b707d-dd9c-4420-fc98-a95eec890689"
      },
      "source": [
        "with torch.no_grad():\n",
        "    pos_score = pred(test_pos_g, h)\n",
        "    neg_score = pred(test_neg_g, h)\n",
        "    test_hits_k = compute_hits_k(pos_score, neg_score, k_hits)\n",
        "\n",
        "print(test_hits_k)"
      ],
      "id": "iclQ0fFF2cbZ",
      "execution_count": 85,
      "outputs": [
        {
          "output_type": "stream",
          "name": "stdout",
          "text": [
            "0.06513870087544717\n"
          ]
        }
      ]
    },
    {
      "cell_type": "markdown",
      "metadata": {
        "papermill": {
          "duration": 0.0833,
          "end_time": "2021-09-17T05:20:48.166067",
          "exception": false,
          "start_time": "2021-09-17T05:20:48.082767",
          "status": "completed"
        },
        "tags": [],
        "id": "1avZ8rW5O2R-"
      },
      "source": [
        "## MODEL: JKNET with GCNs(cat, max, lstm) , METRIC: AUC, HITS"
      ],
      "id": "1avZ8rW5O2R-"
    },
    {
      "cell_type": "markdown",
      "metadata": {
        "id": "UxdvrcAhO2SB"
      },
      "source": [
        "### MODEL AND PREDICTOR"
      ],
      "id": "UxdvrcAhO2SB"
    },
    {
      "cell_type": "code",
      "metadata": {
        "execution": {
          "iopub.execute_input": "2021-09-17T05:20:48.336168Z",
          "iopub.status.busy": "2021-09-17T05:20:48.335498Z",
          "iopub.status.idle": "2021-09-17T05:20:48.341328Z",
          "shell.execute_reply": "2021-09-17T05:20:48.341868Z",
          "shell.execute_reply.started": "2021-09-17T05:13:27.979053Z"
        },
        "papermill": {
          "duration": 0.092783,
          "end_time": "2021-09-17T05:20:48.342064",
          "exception": false,
          "start_time": "2021-09-17T05:20:48.249281",
          "status": "completed"
        },
        "tags": [],
        "id": "0K4ORrNkO2SC"
      },
      "source": [
        "class JKNet(nn.Module):\n",
        "    def __init__(self, in_dim, hid_dim, out_dim, num_layers=5, mode='cat', dropout=0.):\n",
        "        super(JKNet, self).__init__()\n",
        "        \n",
        "        self.mode = mode\n",
        "        self.dropout = nn.Dropout(dropout)\n",
        "        self.layers = nn.ModuleList()\n",
        "        self.layers.append(GraphConv(in_dim, hid_dim, activation=F.relu, allow_zero_in_degree= True))\n",
        "        for _ in range(num_layers):\n",
        "            self.layers.append(GraphConv(hid_dim, hid_dim, activation=F.relu, allow_zero_in_degree= True))\n",
        "\n",
        "        if self.mode == 'cat':\n",
        "            hid_dim = hid_dim * (num_layers + 1)\n",
        "        elif self.mode == 'lstm':\n",
        "            self.lstm = nn.LSTM(hid_dim, (num_layers * hid_dim) // 2, bidirectional=True, batch_first=True)\n",
        "            self.attn = nn.Linear(2 * ((num_layers * hid_dim) // 2), 1)\n",
        "\n",
        "        self.output = nn.Linear(hid_dim, out_dim)\n",
        "        self.reset_params()\n",
        "\n",
        "    def reset_params(self):\n",
        "        self.output.reset_parameters()\n",
        "        for layers in self.layers:\n",
        "            layers.reset_parameters()\n",
        "        if self.mode == 'lstm':\n",
        "            self.lstm.reset_parameters()\n",
        "            self.attn.reset_parameters()\n",
        "\n",
        "    def forward(self, g, feats):\n",
        "        feat_lst = []\n",
        "        for layer in self.layers:\n",
        "            feats = self.dropout(layer(g, feats))\n",
        "            feat_lst.append(feats)\n",
        "        \n",
        "        if self.mode == 'cat':\n",
        "            out = torch.cat(feat_lst, dim=-1)\n",
        "        elif self.mode == 'max':\n",
        "            out = torch.stack(feat_lst, dim=-1).max(dim=-1)[0]\n",
        "        else:\n",
        "            # lstm\n",
        "            x = torch.stack(feat_lst, dim=1)\n",
        "            alpha, _ = self.lstm(x)\n",
        "            alpha = self.attn(alpha).squeeze(-1)\n",
        "            alpha = torch.softmax(alpha, dim=-1).unsqueeze(-1)\n",
        "            out = (x * alpha).sum(dim=1)\n",
        "        \n",
        "        g.ndata['h'] = out\n",
        "        g.update_all(fn.copy_u('h', 'm'), fn.sum('m', 'h'))\n",
        "\n",
        "        return self.output(g.ndata['h'])"
      ],
      "id": "0K4ORrNkO2SC",
      "execution_count": 86,
      "outputs": []
    },
    {
      "cell_type": "code",
      "metadata": {
        "execution": {
          "iopub.execute_input": "2021-09-17T05:20:48.701576Z",
          "iopub.status.busy": "2021-09-17T05:20:48.700850Z",
          "iopub.status.idle": "2021-09-17T05:20:48.706029Z",
          "shell.execute_reply": "2021-09-17T05:20:48.706549Z",
          "shell.execute_reply.started": "2021-09-17T05:13:58.880511Z"
        },
        "papermill": {
          "duration": 0.092799,
          "end_time": "2021-09-17T05:20:48.706718",
          "exception": false,
          "start_time": "2021-09-17T05:20:48.613919",
          "status": "completed"
        },
        "tags": [],
        "id": "vD-jyjqOO2SC"
      },
      "source": [
        "class DotPredictor(nn.Module):\n",
        "    def forward(self, g, h):\n",
        "        with g.local_scope():\n",
        "            g.ndata['h'] = h\n",
        "            g.apply_edges(fn.u_dot_v('h', 'h', 'score'))\n",
        "            return g.edata['score'][:, 0]\n",
        "\n",
        "class MLPPredictor(nn.Module):\n",
        "    def __init__(self, h_feats):\n",
        "        super().__init__()\n",
        "        self.W1 = nn.Linear(h_feats * 2, h_feats)\n",
        "        self.W2 = nn.Linear(h_feats, 1)\n",
        "\n",
        "    def apply_edges(self, edges):\n",
        "        h = torch.cat([edges.src['h'], edges.dst['h']], 1)\n",
        "        return {'score': self.W2(F.relu(self.W1(h))).squeeze(1)}\n",
        "\n",
        "    def forward(self, g, h):\n",
        "        with g.local_scope():\n",
        "            g.ndata['h'] = h\n",
        "            g.apply_edges(self.apply_edges)\n",
        "            return g.edata['score']"
      ],
      "id": "vD-jyjqOO2SC",
      "execution_count": 87,
      "outputs": []
    },
    {
      "cell_type": "markdown",
      "metadata": {
        "id": "eaTe6nzTO2SC"
      },
      "source": [
        "### TRAIN, VAL and TEST Graphs (POS AND NEG)"
      ],
      "id": "eaTe6nzTO2SC"
    },
    {
      "cell_type": "code",
      "metadata": {
        "execution": {
          "iopub.execute_input": "2021-09-17T05:20:48.515152Z",
          "iopub.status.busy": "2021-09-17T05:20:48.514373Z",
          "iopub.status.idle": "2021-09-17T05:20:48.528398Z",
          "shell.execute_reply": "2021-09-17T05:20:48.528950Z",
          "shell.execute_reply.started": "2021-09-17T05:13:44.690163Z"
        },
        "papermill": {
          "duration": 0.101705,
          "end_time": "2021-09-17T05:20:48.529132",
          "exception": false,
          "start_time": "2021-09-17T05:20:48.427427",
          "status": "completed"
        },
        "tags": [],
        "id": "A6FIwOqgO2SC"
      },
      "source": [
        "train_pos_g = dgl.graph((train_pos_u, train_pos_v), num_nodes=g.number_of_nodes()).to(device)\n",
        "train_neg_g = dgl.graph((train_neg_u, train_neg_v), num_nodes=g.number_of_nodes()).to(device)\n",
        "\n",
        "val_pos_g = dgl.graph((val_pos_u, val_pos_v), num_nodes=g.number_of_nodes()).to(device)\n",
        "val_neg_g = dgl.graph((val_neg_u, val_neg_v), num_nodes=g.number_of_nodes()).to(device)\n",
        "\n",
        "test_pos_g = dgl.graph((test_pos_u, test_pos_v), num_nodes=g.number_of_nodes()).to(device)\n",
        "test_neg_g = dgl.graph((test_neg_u, test_neg_v), num_nodes=g.number_of_nodes()).to(device)"
      ],
      "id": "A6FIwOqgO2SC",
      "execution_count": 88,
      "outputs": []
    },
    {
      "cell_type": "markdown",
      "metadata": {
        "id": "hUcXO7GtO2SC"
      },
      "source": [
        "### LOSS: BCE , METRIC: AUC, TRAIN THE GRAPH AND TEST"
      ],
      "id": "hUcXO7GtO2SC"
    },
    {
      "cell_type": "code",
      "metadata": {
        "execution": {
          "iopub.execute_input": "2021-09-17T05:20:49.058595Z",
          "iopub.status.busy": "2021-09-17T05:20:49.057614Z",
          "iopub.status.idle": "2021-09-17T05:20:49.072469Z",
          "shell.execute_reply": "2021-09-17T05:20:49.071845Z",
          "shell.execute_reply.started": "2021-09-17T05:14:28.110922Z"
        },
        "papermill": {
          "duration": 0.101065,
          "end_time": "2021-09-17T05:20:49.072602",
          "exception": false,
          "start_time": "2021-09-17T05:20:48.971537",
          "status": "completed"
        },
        "tags": [],
        "id": "GGyh9XvqO2SD"
      },
      "source": [
        "def compute_loss(pos_score, neg_score):\n",
        "    scores = torch.cat([pos_score, neg_score])\n",
        "    labels = torch.cat([torch.ones(pos_score.shape[0]), torch.zeros(neg_score.shape[0])]).to(device)\n",
        "    return F.binary_cross_entropy_with_logits(scores, labels)\n",
        "\n",
        "def compute_auc(pos_score, neg_score):\n",
        "    scores = torch.cat([pos_score, neg_score]).cpu().numpy()\n",
        "    labels = torch.cat(\n",
        "        [torch.ones(pos_score.shape[0]), torch.zeros(neg_score.shape[0])]).numpy()\n",
        "    return roc_auc_score(labels, scores)"
      ],
      "id": "GGyh9XvqO2SD",
      "execution_count": 89,
      "outputs": []
    },
    {
      "cell_type": "code",
      "metadata": {
        "id": "MIeUyfrvO2SE"
      },
      "source": [
        "set_seed()\n",
        "\n",
        "model = JKNet(train_g.ndata['feat'].shape[1], 32, 16).to(device)\n",
        "# model = JKNet(train_g.ndata['feat'].shape[1], 32, 16, mode = 'max').to(device)\n",
        "# model = JKNet(train_g.ndata['feat'].shape[1], 32, 16, mode = 'lstm').to(device)\n",
        "\n",
        "#pred = MLPPredictor(16).to(device)\n",
        "pred = DotPredictor().to(device)"
      ],
      "id": "MIeUyfrvO2SE",
      "execution_count": 90,
      "outputs": []
    },
    {
      "cell_type": "code",
      "metadata": {
        "execution": {
          "iopub.execute_input": "2021-09-17T05:20:49.250050Z",
          "iopub.status.busy": "2021-09-17T05:20:49.249313Z",
          "iopub.status.idle": "2021-09-17T05:21:09.631825Z",
          "shell.execute_reply": "2021-09-17T05:21:09.631321Z",
          "shell.execute_reply.started": "2021-09-17T05:14:46.098811Z"
        },
        "papermill": {
          "duration": 20.476082,
          "end_time": "2021-09-17T05:21:09.632016",
          "exception": false,
          "start_time": "2021-09-17T05:20:49.155934",
          "status": "completed"
        },
        "tags": [],
        "colab": {
          "base_uri": "https://localhost:8080/"
        },
        "id": "aJzh86iLO2SE",
        "outputId": "41c2f7cb-2338-436a-ddbd-dc8f3924dfc4"
      },
      "source": [
        "optimizer = torch.optim.Adam(itertools.chain(model.parameters(), pred.parameters()), lr=0.01)\n",
        "\n",
        "best_val_auc = 0\n",
        "\n",
        "all_logits = []\n",
        "for e in range(200):\n",
        "    # forward\n",
        "    h = model(train_g, train_g.ndata['feat'])\n",
        "    pos_score = pred(train_pos_g, h)\n",
        "    neg_score = pred(train_neg_g, h)\n",
        "    loss = compute_loss(pos_score, neg_score)\n",
        "\n",
        "    # backward\n",
        "    optimizer.zero_grad()\n",
        "    loss.backward()\n",
        "    optimizer.step()\n",
        "\n",
        "    with torch.no_grad():\n",
        "        pos_score = pred(val_pos_g, h)\n",
        "        neg_score = pred(val_neg_g, h)\n",
        "        val_auc = compute_auc(pos_score, neg_score)\n",
        "    \n",
        "    if best_val_auc < val_auc:\n",
        "        best_val_auc = val_auc\n",
        "\n",
        "    if e % 5 == 0:\n",
        "        print('In epoch {}, loss: {:.3f}, val_auc: {:.3f}, best_val_auc: {:.3f}'.format(\n",
        "            e, loss, val_auc, best_val_auc))\n",
        "        \n",
        "    # if e % 100 == 0:\n",
        "    #     optimizer = torch.optim.Adam(itertools.chain(model.parameters(), pred.parameters()), lr=0.01)\n",
        "        "
      ],
      "id": "aJzh86iLO2SE",
      "execution_count": 91,
      "outputs": [
        {
          "output_type": "stream",
          "name": "stdout",
          "text": [
            "In epoch 0, loss: 710.120, val_auc: 0.988, best_val_auc: 0.988\n",
            "In epoch 5, loss: 1.186, val_auc: 0.989, best_val_auc: 0.989\n",
            "In epoch 10, loss: 1.076, val_auc: 0.989, best_val_auc: 0.989\n",
            "In epoch 15, loss: 0.692, val_auc: 0.993, best_val_auc: 0.993\n",
            "In epoch 20, loss: 0.419, val_auc: 0.989, best_val_auc: 0.993\n",
            "In epoch 25, loss: 0.446, val_auc: 0.983, best_val_auc: 0.993\n",
            "In epoch 30, loss: 0.405, val_auc: 0.980, best_val_auc: 0.993\n",
            "In epoch 35, loss: 0.415, val_auc: 0.989, best_val_auc: 0.993\n",
            "In epoch 40, loss: 0.406, val_auc: 0.974, best_val_auc: 0.993\n",
            "In epoch 45, loss: 0.402, val_auc: 0.976, best_val_auc: 0.993\n",
            "In epoch 50, loss: 0.402, val_auc: 0.977, best_val_auc: 0.993\n",
            "In epoch 55, loss: 0.403, val_auc: 0.979, best_val_auc: 0.993\n",
            "In epoch 60, loss: 0.401, val_auc: 0.976, best_val_auc: 0.993\n",
            "In epoch 65, loss: 0.401, val_auc: 0.975, best_val_auc: 0.993\n",
            "In epoch 70, loss: 0.400, val_auc: 0.975, best_val_auc: 0.993\n",
            "In epoch 75, loss: 0.400, val_auc: 0.975, best_val_auc: 0.993\n",
            "In epoch 80, loss: 0.400, val_auc: 0.976, best_val_auc: 0.993\n",
            "In epoch 85, loss: 0.399, val_auc: 0.976, best_val_auc: 0.993\n",
            "In epoch 90, loss: 0.399, val_auc: 0.976, best_val_auc: 0.993\n",
            "In epoch 95, loss: 0.399, val_auc: 0.976, best_val_auc: 0.993\n",
            "In epoch 100, loss: 0.399, val_auc: 0.976, best_val_auc: 0.993\n",
            "In epoch 105, loss: 0.399, val_auc: 0.976, best_val_auc: 0.993\n",
            "In epoch 110, loss: 0.399, val_auc: 0.976, best_val_auc: 0.993\n",
            "In epoch 115, loss: 0.399, val_auc: 0.977, best_val_auc: 0.993\n",
            "In epoch 120, loss: 0.399, val_auc: 0.976, best_val_auc: 0.993\n",
            "In epoch 125, loss: 0.399, val_auc: 0.977, best_val_auc: 0.993\n",
            "In epoch 130, loss: 0.399, val_auc: 0.977, best_val_auc: 0.993\n",
            "In epoch 135, loss: 0.399, val_auc: 0.977, best_val_auc: 0.993\n",
            "In epoch 140, loss: 0.399, val_auc: 0.977, best_val_auc: 0.993\n",
            "In epoch 145, loss: 0.399, val_auc: 0.977, best_val_auc: 0.993\n",
            "In epoch 150, loss: 0.398, val_auc: 0.977, best_val_auc: 0.993\n",
            "In epoch 155, loss: 0.398, val_auc: 0.978, best_val_auc: 0.993\n",
            "In epoch 160, loss: 0.398, val_auc: 0.978, best_val_auc: 0.993\n",
            "In epoch 165, loss: 0.398, val_auc: 0.978, best_val_auc: 0.993\n",
            "In epoch 170, loss: 0.398, val_auc: 0.978, best_val_auc: 0.993\n",
            "In epoch 175, loss: 0.398, val_auc: 0.978, best_val_auc: 0.993\n",
            "In epoch 180, loss: 0.398, val_auc: 0.979, best_val_auc: 0.993\n",
            "In epoch 185, loss: 0.398, val_auc: 0.979, best_val_auc: 0.993\n",
            "In epoch 190, loss: 0.398, val_auc: 0.979, best_val_auc: 0.993\n",
            "In epoch 195, loss: 0.398, val_auc: 0.979, best_val_auc: 0.993\n"
          ]
        }
      ]
    },
    {
      "cell_type": "code",
      "metadata": {
        "colab": {
          "base_uri": "https://localhost:8080/"
        },
        "id": "D536P1mDO2SE",
        "outputId": "78d8ab89-8da9-42f6-984b-302aa512d6b7"
      },
      "source": [
        "with torch.no_grad():\n",
        "    pos_score = pred(test_pos_g, h)\n",
        "    neg_score = pred(test_neg_g, h)\n",
        "    test_auc = compute_auc(pos_score, neg_score)\n",
        "\n",
        "print(test_auc)"
      ],
      "id": "D536P1mDO2SE",
      "execution_count": 92,
      "outputs": [
        {
          "output_type": "stream",
          "name": "stdout",
          "text": [
            "0.9788192828507967\n"
          ]
        }
      ]
    },
    {
      "cell_type": "markdown",
      "metadata": {
        "papermill": {
          "duration": 0.0833,
          "end_time": "2021-09-17T05:20:48.166067",
          "exception": false,
          "start_time": "2021-09-17T05:20:48.082767",
          "status": "completed"
        },
        "tags": [],
        "id": "eA1M3bjnO2SF"
      },
      "source": [
        "### LOSS: BCE, METRIC: HITS@K, TRAIN THE GRAPH AND TEST"
      ],
      "id": "eA1M3bjnO2SF"
    },
    {
      "cell_type": "code",
      "metadata": {
        "execution": {
          "iopub.execute_input": "2021-09-17T05:20:49.058595Z",
          "iopub.status.busy": "2021-09-17T05:20:49.057614Z",
          "iopub.status.idle": "2021-09-17T05:20:49.072469Z",
          "shell.execute_reply": "2021-09-17T05:20:49.071845Z",
          "shell.execute_reply.started": "2021-09-17T05:14:28.110922Z"
        },
        "papermill": {
          "duration": 0.101065,
          "end_time": "2021-09-17T05:20:49.072602",
          "exception": false,
          "start_time": "2021-09-17T05:20:48.971537",
          "status": "completed"
        },
        "tags": [],
        "id": "wiR99Uz5O2SF"
      },
      "source": [
        "def compute_loss(pos_score, neg_score):\n",
        "    scores = torch.cat([pos_score, neg_score])\n",
        "    labels = torch.cat([torch.ones(pos_score.shape[0]), torch.zeros(neg_score.shape[0])]).to(device)\n",
        "    return F.binary_cross_entropy_with_logits(scores, labels)\n",
        "\n",
        "def compute_hits_k(pos_score, neg_score, K):\n",
        "    y_pred_neg = neg_score\n",
        "    y_pred_pos = pos_score\n",
        "    if len(y_pred_neg) < K:\n",
        "        return 1.\n",
        "\n",
        "    kth_score_in_negative_edges = torch.topk(y_pred_neg, K)[0][-1]\n",
        "    hitsK = float(torch.sum(y_pred_pos > kth_score_in_negative_edges).cpu()) / len(y_pred_pos)\n",
        "    return hitsK"
      ],
      "id": "wiR99Uz5O2SF",
      "execution_count": 93,
      "outputs": []
    },
    {
      "cell_type": "code",
      "metadata": {
        "id": "oioYMXc8O2SF"
      },
      "source": [
        "set_seed()\n",
        "\n",
        "model = JKNet(train_g.ndata['feat'].shape[1], 32, 16).to(device)\n",
        "# model = JKNet(train_g.ndata['feat'].shape[1], 32, 16, mode = 'max').to(device)\n",
        "# model = JKNet(train_g.ndata['feat'].shape[1], 32, 16, mode = 'lstm').to(device)\n",
        "\n",
        "#pred = MLPPredictor(16).to(device)\n",
        "pred = DotPredictor().to(device)"
      ],
      "id": "oioYMXc8O2SF",
      "execution_count": 94,
      "outputs": []
    },
    {
      "cell_type": "code",
      "metadata": {
        "execution": {
          "iopub.execute_input": "2021-09-17T05:20:49.250050Z",
          "iopub.status.busy": "2021-09-17T05:20:49.249313Z",
          "iopub.status.idle": "2021-09-17T05:21:09.631825Z",
          "shell.execute_reply": "2021-09-17T05:21:09.631321Z",
          "shell.execute_reply.started": "2021-09-17T05:14:46.098811Z"
        },
        "papermill": {
          "duration": 20.476082,
          "end_time": "2021-09-17T05:21:09.632016",
          "exception": false,
          "start_time": "2021-09-17T05:20:49.155934",
          "status": "completed"
        },
        "tags": [],
        "colab": {
          "base_uri": "https://localhost:8080/"
        },
        "id": "OatZBadPO2SF",
        "outputId": "e2198df8-ffa5-4ad9-f1b4-1656e96d15e9"
      },
      "source": [
        "optimizer = torch.optim.Adam(itertools.chain(model.parameters(), pred.parameters()), lr=0.01)\n",
        "\n",
        "best_val_hits_k = -float('inf')\n",
        "\n",
        "k_hits = 20\n",
        "\n",
        "all_logits = []\n",
        "for e in range(200):\n",
        "    # forward\n",
        "    h = model(train_g, train_g.ndata['feat'])\n",
        "    pos_score = pred(train_pos_g, h)\n",
        "    neg_score = pred(train_neg_g, h)\n",
        "    loss = compute_loss(pos_score, neg_score)\n",
        "\n",
        "    # backward\n",
        "    optimizer.zero_grad()\n",
        "    loss.backward()\n",
        "    optimizer.step()\n",
        "\n",
        "    with torch.no_grad():\n",
        "        pos_score = pred(val_pos_g, h)\n",
        "        neg_score = pred(val_neg_g, h)\n",
        "        val_hits_k = compute_hits_k(pos_score, neg_score, k_hits)\n",
        "    \n",
        "    if best_val_hits_k < val_hits_k:\n",
        "        best_val_hits_k = val_hits_k\n",
        "    \n",
        "    # break \n",
        "\n",
        "    if e % 5 == 0:\n",
        "        print('In epoch {}, loss: {:.3f}, val_hits_k: {:.6f}, best_val_hits_k: {:.6f}'.format(\n",
        "            e, loss, val_hits_k, best_val_hits_k))\n",
        "    \n",
        "    # if e % 100 == 0:\n",
        "    #     optimizer = torch.optim.Adam(itertools.chain(model.parameters(), pred.parameters()), lr=0.01)"
      ],
      "id": "OatZBadPO2SF",
      "execution_count": 95,
      "outputs": [
        {
          "output_type": "stream",
          "name": "stdout",
          "text": [
            "In epoch 0, loss: 710.120, val_hits_k: 0.120908, best_val_hits_k: 0.120908\n",
            "In epoch 5, loss: 1.186, val_hits_k: 0.115799, best_val_hits_k: 0.134437\n",
            "In epoch 10, loss: 1.076, val_hits_k: 0.117785, best_val_hits_k: 0.134437\n",
            "In epoch 15, loss: 0.692, val_hits_k: 0.119389, best_val_hits_k: 0.134437\n",
            "In epoch 20, loss: 0.419, val_hits_k: 0.117675, best_val_hits_k: 0.134437\n",
            "In epoch 25, loss: 0.446, val_hits_k: 0.117980, best_val_hits_k: 0.134437\n",
            "In epoch 30, loss: 0.405, val_hits_k: 0.114993, best_val_hits_k: 0.134437\n",
            "In epoch 35, loss: 0.415, val_hits_k: 0.118065, best_val_hits_k: 0.134437\n",
            "In epoch 40, loss: 0.406, val_hits_k: 0.115544, best_val_hits_k: 0.134437\n",
            "In epoch 45, loss: 0.402, val_hits_k: 0.116189, best_val_hits_k: 0.134437\n",
            "In epoch 50, loss: 0.402, val_hits_k: 0.115935, best_val_hits_k: 0.134437\n",
            "In epoch 55, loss: 0.403, val_hits_k: 0.116011, best_val_hits_k: 0.134437\n",
            "In epoch 60, loss: 0.401, val_hits_k: 0.117013, best_val_hits_k: 0.134437\n",
            "In epoch 65, loss: 0.401, val_hits_k: 0.118175, best_val_hits_k: 0.134437\n",
            "In epoch 70, loss: 0.400, val_hits_k: 0.117751, best_val_hits_k: 0.134437\n",
            "In epoch 75, loss: 0.400, val_hits_k: 0.116885, best_val_hits_k: 0.134437\n",
            "In epoch 80, loss: 0.400, val_hits_k: 0.116020, best_val_hits_k: 0.134437\n",
            "In epoch 85, loss: 0.399, val_hits_k: 0.115841, best_val_hits_k: 0.134437\n",
            "In epoch 90, loss: 0.399, val_hits_k: 0.116181, best_val_hits_k: 0.134437\n",
            "In epoch 95, loss: 0.399, val_hits_k: 0.116444, best_val_hits_k: 0.134437\n",
            "In epoch 100, loss: 0.399, val_hits_k: 0.116393, best_val_hits_k: 0.134437\n",
            "In epoch 105, loss: 0.399, val_hits_k: 0.116070, best_val_hits_k: 0.134437\n",
            "In epoch 110, loss: 0.399, val_hits_k: 0.115824, best_val_hits_k: 0.134437\n",
            "In epoch 115, loss: 0.399, val_hits_k: 0.115748, best_val_hits_k: 0.134437\n",
            "In epoch 120, loss: 0.399, val_hits_k: 0.115722, best_val_hits_k: 0.134437\n",
            "In epoch 125, loss: 0.399, val_hits_k: 0.115697, best_val_hits_k: 0.134437\n",
            "In epoch 130, loss: 0.399, val_hits_k: 0.116257, best_val_hits_k: 0.134437\n",
            "In epoch 135, loss: 0.399, val_hits_k: 0.117360, best_val_hits_k: 0.134437\n",
            "In epoch 140, loss: 0.399, val_hits_k: 0.118387, best_val_hits_k: 0.134437\n",
            "In epoch 145, loss: 0.399, val_hits_k: 0.119330, best_val_hits_k: 0.134437\n",
            "In epoch 150, loss: 0.398, val_hits_k: 0.118931, best_val_hits_k: 0.134437\n",
            "In epoch 155, loss: 0.398, val_hits_k: 0.118744, best_val_hits_k: 0.134437\n",
            "In epoch 160, loss: 0.398, val_hits_k: 0.118430, best_val_hits_k: 0.134437\n",
            "In epoch 165, loss: 0.398, val_hits_k: 0.118133, best_val_hits_k: 0.134437\n",
            "In epoch 170, loss: 0.398, val_hits_k: 0.117878, best_val_hits_k: 0.134437\n",
            "In epoch 175, loss: 0.398, val_hits_k: 0.117488, best_val_hits_k: 0.134437\n",
            "In epoch 180, loss: 0.398, val_hits_k: 0.117072, best_val_hits_k: 0.134437\n",
            "In epoch 185, loss: 0.398, val_hits_k: 0.116554, best_val_hits_k: 0.134437\n",
            "In epoch 190, loss: 0.398, val_hits_k: 0.116172, best_val_hits_k: 0.134437\n",
            "In epoch 195, loss: 0.398, val_hits_k: 0.115578, best_val_hits_k: 0.134437\n"
          ]
        }
      ]
    },
    {
      "cell_type": "code",
      "metadata": {
        "colab": {
          "base_uri": "https://localhost:8080/"
        },
        "id": "eSNXiwIqO2SF",
        "outputId": "16e437e8-1efc-4e6b-c38d-e4fe5c1f7b04"
      },
      "source": [
        "with torch.no_grad():\n",
        "    pos_score = pred(test_pos_g, h)\n",
        "    neg_score = pred(test_neg_g, h)\n",
        "    test_hits_k = compute_hits_k(pos_score, neg_score, k_hits)\n",
        "\n",
        "print(test_hits_k)"
      ],
      "id": "eSNXiwIqO2SF",
      "execution_count": 96,
      "outputs": [
        {
          "output_type": "stream",
          "name": "stdout",
          "text": [
            "0.07332453501152128\n"
          ]
        }
      ]
    },
    {
      "cell_type": "markdown",
      "metadata": {
        "papermill": {
          "duration": 0.0833,
          "end_time": "2021-09-17T05:20:48.166067",
          "exception": false,
          "start_time": "2021-09-17T05:20:48.082767",
          "status": "completed"
        },
        "tags": [],
        "id": "GKx6sVFDLNic"
      },
      "source": [
        "## MODEL: Residual GCN, METRIC: AUC, HITS\n"
      ],
      "id": "GKx6sVFDLNic"
    },
    {
      "cell_type": "markdown",
      "metadata": {
        "id": "keF9CvGNLNir"
      },
      "source": [
        "### MODEL AND PREDICTOR"
      ],
      "id": "keF9CvGNLNir"
    },
    {
      "cell_type": "code",
      "metadata": {
        "execution": {
          "iopub.execute_input": "2021-09-17T05:20:48.336168Z",
          "iopub.status.busy": "2021-09-17T05:20:48.335498Z",
          "iopub.status.idle": "2021-09-17T05:20:48.341328Z",
          "shell.execute_reply": "2021-09-17T05:20:48.341868Z",
          "shell.execute_reply.started": "2021-09-17T05:13:27.979053Z"
        },
        "papermill": {
          "duration": 0.092783,
          "end_time": "2021-09-17T05:20:48.342064",
          "exception": false,
          "start_time": "2021-09-17T05:20:48.249281",
          "status": "completed"
        },
        "tags": [],
        "id": "4aNiNM1ALNir"
      },
      "source": [
        "class GraphConvAndReLUBlock(nn.Module):\n",
        "    def __init__(self,in_feats,out_feats):\n",
        "        super(GraphConvAndReLUBlock, self).__init__()\n",
        "        # Since the graph has nodes with zero indegrees, allow_zero_in_degree = True\n",
        "        self.GraphConvLayer = GraphConv(in_feats, out_feats, allow_zero_in_degree = True)\n",
        "        self.ReLULayer = nn.ReLU()\n",
        "        \n",
        "    def forward(self, g, h):\n",
        "        out = self.GraphConvLayer(g, h)\n",
        "        out = self.ReLULayer(out)\n",
        "        return out\n",
        "\n",
        "class ResidualGCNModel(nn.Module):\n",
        "    def __init__(self, in_feats, n_hidden, out_feats):\n",
        "        super(ResidualGCNModel, self).__init__()\n",
        "        self.initialLayer = GraphConvAndReLUBlock(in_feats, n_hidden)\n",
        "        self.hiddenLayers = nn.ModuleList()\n",
        "        for i in range(12):\n",
        "            self.hiddenLayers.append(GraphConvAndReLUBlock(n_hidden, n_hidden))\n",
        "        # for i in range(7):\n",
        "        #     self.hiddenLayers.append(GraphConvAndReLUBlock(n_hidden, n_hidden))\n",
        "        self.linearLayer = nn.Linear(n_hidden, out_feats)\n",
        "        \n",
        "    def forward(self, g):\n",
        "        h = g.ndata['feat']\n",
        "        out = self.initialLayer(g, h)        \n",
        "        for i in range(0,12,2):\n",
        "            res = out\n",
        "            out = self.hiddenLayers[i](g, out)\n",
        "            # out += res\n",
        "            # res = out\n",
        "            out = self.hiddenLayers[i+1](g, out)\n",
        "            out += res\n",
        "        # for i in range(7):\n",
        "        #     res = out\n",
        "        #     out = self.hiddenLayers[i](g, out)\n",
        "        #     out += res\n",
        "        out = self.linearLayer(out)\n",
        "        return out"
      ],
      "id": "4aNiNM1ALNir",
      "execution_count": 97,
      "outputs": []
    },
    {
      "cell_type": "code",
      "metadata": {
        "execution": {
          "iopub.execute_input": "2021-09-17T05:20:48.701576Z",
          "iopub.status.busy": "2021-09-17T05:20:48.700850Z",
          "iopub.status.idle": "2021-09-17T05:20:48.706029Z",
          "shell.execute_reply": "2021-09-17T05:20:48.706549Z",
          "shell.execute_reply.started": "2021-09-17T05:13:58.880511Z"
        },
        "papermill": {
          "duration": 0.092799,
          "end_time": "2021-09-17T05:20:48.706718",
          "exception": false,
          "start_time": "2021-09-17T05:20:48.613919",
          "status": "completed"
        },
        "tags": [],
        "id": "xNi4SQblLNis"
      },
      "source": [
        "class DotPredictor(nn.Module):\n",
        "    def forward(self, g, h):\n",
        "        with g.local_scope():\n",
        "            g.ndata['h'] = h\n",
        "            g.apply_edges(fn.u_dot_v('h', 'h', 'score'))\n",
        "            return g.edata['score'][:, 0]\n",
        "\n",
        "class MLPPredictor(nn.Module):\n",
        "    def __init__(self, h_feats):\n",
        "        super().__init__()\n",
        "        self.W1 = nn.Linear(h_feats * 2, h_feats)\n",
        "        self.W2 = nn.Linear(h_feats, 1)\n",
        "\n",
        "    def apply_edges(self, edges):\n",
        "        h = torch.cat([edges.src['h'], edges.dst['h']], 1)\n",
        "        return {'score': self.W2(F.relu(self.W1(h))).squeeze(1)}\n",
        "\n",
        "    def forward(self, g, h):\n",
        "        with g.local_scope():\n",
        "            g.ndata['h'] = h\n",
        "            g.apply_edges(self.apply_edges)\n",
        "            return g.edata['score']"
      ],
      "id": "xNi4SQblLNis",
      "execution_count": 98,
      "outputs": []
    },
    {
      "cell_type": "markdown",
      "metadata": {
        "id": "FDANRW8rLNis"
      },
      "source": [
        "### TRAIN, VAL and TEST Graphs (POS AND NEG)"
      ],
      "id": "FDANRW8rLNis"
    },
    {
      "cell_type": "code",
      "metadata": {
        "execution": {
          "iopub.execute_input": "2021-09-17T05:20:48.515152Z",
          "iopub.status.busy": "2021-09-17T05:20:48.514373Z",
          "iopub.status.idle": "2021-09-17T05:20:48.528398Z",
          "shell.execute_reply": "2021-09-17T05:20:48.528950Z",
          "shell.execute_reply.started": "2021-09-17T05:13:44.690163Z"
        },
        "papermill": {
          "duration": 0.101705,
          "end_time": "2021-09-17T05:20:48.529132",
          "exception": false,
          "start_time": "2021-09-17T05:20:48.427427",
          "status": "completed"
        },
        "tags": [],
        "id": "Y8GZ1rIaLNit"
      },
      "source": [
        "train_pos_g = dgl.graph((train_pos_u, train_pos_v), num_nodes=g.number_of_nodes()).to(device)\n",
        "train_neg_g = dgl.graph((train_neg_u, train_neg_v), num_nodes=g.number_of_nodes()).to(device)\n",
        "\n",
        "val_pos_g = dgl.graph((val_pos_u, val_pos_v), num_nodes=g.number_of_nodes()).to(device)\n",
        "val_neg_g = dgl.graph((val_neg_u, val_neg_v), num_nodes=g.number_of_nodes()).to(device)\n",
        "\n",
        "test_pos_g = dgl.graph((test_pos_u, test_pos_v), num_nodes=g.number_of_nodes()).to(device)\n",
        "test_neg_g = dgl.graph((test_neg_u, test_neg_v), num_nodes=g.number_of_nodes()).to(device)"
      ],
      "id": "Y8GZ1rIaLNit",
      "execution_count": 99,
      "outputs": []
    },
    {
      "cell_type": "markdown",
      "metadata": {
        "id": "Nmm909kJLNit"
      },
      "source": [
        "### LOSS: BCE , METRIC: AUC, TRAIN THE GRAPH AND TEST"
      ],
      "id": "Nmm909kJLNit"
    },
    {
      "cell_type": "code",
      "metadata": {
        "execution": {
          "iopub.execute_input": "2021-09-17T05:20:49.058595Z",
          "iopub.status.busy": "2021-09-17T05:20:49.057614Z",
          "iopub.status.idle": "2021-09-17T05:20:49.072469Z",
          "shell.execute_reply": "2021-09-17T05:20:49.071845Z",
          "shell.execute_reply.started": "2021-09-17T05:14:28.110922Z"
        },
        "papermill": {
          "duration": 0.101065,
          "end_time": "2021-09-17T05:20:49.072602",
          "exception": false,
          "start_time": "2021-09-17T05:20:48.971537",
          "status": "completed"
        },
        "tags": [],
        "id": "I5R83O3lLNit"
      },
      "source": [
        "set_seed()\n",
        "\n",
        "model = ResidualGCNModel(train_g.ndata['feat'].shape[1], 32,16).to(device)\n",
        "pred = DotPredictor().to(device)\n",
        "\n",
        "def compute_loss(pos_score, neg_score):\n",
        "    scores = torch.cat([pos_score, neg_score])\n",
        "    labels = torch.cat([torch.ones(pos_score.shape[0]), torch.zeros(neg_score.shape[0])]).to(device)\n",
        "    return F.binary_cross_entropy_with_logits(scores, labels)\n",
        "\n",
        "def compute_auc(pos_score, neg_score):\n",
        "    scores = torch.cat([pos_score, neg_score]).cpu().numpy()\n",
        "    labels = torch.cat(\n",
        "        [torch.ones(pos_score.shape[0]), torch.zeros(neg_score.shape[0])]).numpy()\n",
        "    return roc_auc_score(labels, scores)"
      ],
      "id": "I5R83O3lLNit",
      "execution_count": 100,
      "outputs": []
    },
    {
      "cell_type": "code",
      "metadata": {
        "execution": {
          "iopub.execute_input": "2021-09-17T05:20:49.250050Z",
          "iopub.status.busy": "2021-09-17T05:20:49.249313Z",
          "iopub.status.idle": "2021-09-17T05:21:09.631825Z",
          "shell.execute_reply": "2021-09-17T05:21:09.631321Z",
          "shell.execute_reply.started": "2021-09-17T05:14:46.098811Z"
        },
        "papermill": {
          "duration": 20.476082,
          "end_time": "2021-09-17T05:21:09.632016",
          "exception": false,
          "start_time": "2021-09-17T05:20:49.155934",
          "status": "completed"
        },
        "tags": [],
        "colab": {
          "base_uri": "https://localhost:8080/"
        },
        "id": "7ZVVHDtNLNiu",
        "outputId": "3221c5b4-6576-4ea8-8900-ae593718c892"
      },
      "source": [
        "optimizer = torch.optim.Adam(itertools.chain(model.parameters(), pred.parameters()), lr=0.01)\n",
        "\n",
        "best_val_auc = 0\n",
        "\n",
        "all_logits = []\n",
        "for e in range(200):\n",
        "    # forward\n",
        "    h = model(train_g)\n",
        "    pos_score = pred(train_pos_g, h)\n",
        "    neg_score = pred(train_neg_g, h)\n",
        "    loss = compute_loss(pos_score, neg_score)\n",
        "\n",
        "    # backward\n",
        "    optimizer.zero_grad()\n",
        "    loss.backward()\n",
        "    optimizer.step()\n",
        "\n",
        "    with torch.no_grad():\n",
        "        pos_score = pred(val_pos_g, h)\n",
        "        neg_score = pred(val_neg_g, h)\n",
        "        val_auc = compute_auc(pos_score, neg_score)\n",
        "    \n",
        "    if best_val_auc < val_auc:\n",
        "        best_val_auc = val_auc\n",
        "\n",
        "    if e % 5 == 0:\n",
        "        print('In epoch {}, loss: {:.3f}, val_auc: {:.3f}, best_val_auc: {:.3f}'.format(\n",
        "            e, loss, val_auc, best_val_auc))\n",
        "        \n",
        "    # if e % 100 == 0:\n",
        "    #     optimizer = torch.optim.Adam(itertools.chain(model.parameters(), pred.parameters()), lr=0.01)\n",
        "        "
      ],
      "id": "7ZVVHDtNLNiu",
      "execution_count": 101,
      "outputs": [
        {
          "output_type": "stream",
          "name": "stdout",
          "text": [
            "In epoch 0, loss: 2.389, val_auc: 0.703, best_val_auc: 0.703\n",
            "In epoch 5, loss: 0.642, val_auc: 0.859, best_val_auc: 0.859\n",
            "In epoch 10, loss: 0.596, val_auc: 0.904, best_val_auc: 0.904\n",
            "In epoch 15, loss: 0.538, val_auc: 0.935, best_val_auc: 0.935\n",
            "In epoch 20, loss: 0.513, val_auc: 0.960, best_val_auc: 0.960\n",
            "In epoch 25, loss: 0.464, val_auc: 0.963, best_val_auc: 0.967\n",
            "In epoch 30, loss: 0.418, val_auc: 0.977, best_val_auc: 0.977\n",
            "In epoch 35, loss: 0.412, val_auc: 0.976, best_val_auc: 0.983\n",
            "In epoch 40, loss: 0.407, val_auc: 0.988, best_val_auc: 0.988\n",
            "In epoch 45, loss: 0.397, val_auc: 0.983, best_val_auc: 0.988\n",
            "In epoch 50, loss: 0.396, val_auc: 0.985, best_val_auc: 0.990\n",
            "In epoch 55, loss: 0.394, val_auc: 0.990, best_val_auc: 0.990\n",
            "In epoch 60, loss: 0.387, val_auc: 0.989, best_val_auc: 0.990\n",
            "In epoch 65, loss: 0.387, val_auc: 0.990, best_val_auc: 0.990\n",
            "In epoch 70, loss: 0.384, val_auc: 0.991, best_val_auc: 0.991\n",
            "In epoch 75, loss: 0.383, val_auc: 0.990, best_val_auc: 0.991\n",
            "In epoch 80, loss: 0.382, val_auc: 0.990, best_val_auc: 0.991\n",
            "In epoch 85, loss: 0.382, val_auc: 0.990, best_val_auc: 0.991\n",
            "In epoch 90, loss: 0.381, val_auc: 0.991, best_val_auc: 0.991\n",
            "In epoch 95, loss: 0.381, val_auc: 0.991, best_val_auc: 0.991\n",
            "In epoch 100, loss: 0.380, val_auc: 0.990, best_val_auc: 0.991\n",
            "In epoch 105, loss: 0.380, val_auc: 0.991, best_val_auc: 0.991\n",
            "In epoch 110, loss: 0.380, val_auc: 0.991, best_val_auc: 0.991\n",
            "In epoch 115, loss: 0.380, val_auc: 0.991, best_val_auc: 0.991\n",
            "In epoch 120, loss: 0.379, val_auc: 0.991, best_val_auc: 0.991\n",
            "In epoch 125, loss: 0.379, val_auc: 0.991, best_val_auc: 0.991\n",
            "In epoch 130, loss: 0.379, val_auc: 0.991, best_val_auc: 0.991\n",
            "In epoch 135, loss: 0.379, val_auc: 0.991, best_val_auc: 0.991\n",
            "In epoch 140, loss: 0.379, val_auc: 0.991, best_val_auc: 0.991\n",
            "In epoch 145, loss: 0.379, val_auc: 0.991, best_val_auc: 0.991\n",
            "In epoch 150, loss: 0.379, val_auc: 0.991, best_val_auc: 0.991\n",
            "In epoch 155, loss: 0.379, val_auc: 0.991, best_val_auc: 0.991\n",
            "In epoch 160, loss: 0.379, val_auc: 0.991, best_val_auc: 0.991\n",
            "In epoch 165, loss: 0.378, val_auc: 0.991, best_val_auc: 0.991\n",
            "In epoch 170, loss: 0.378, val_auc: 0.991, best_val_auc: 0.991\n",
            "In epoch 175, loss: 0.378, val_auc: 0.991, best_val_auc: 0.991\n",
            "In epoch 180, loss: 0.378, val_auc: 0.991, best_val_auc: 0.991\n",
            "In epoch 185, loss: 0.378, val_auc: 0.991, best_val_auc: 0.991\n",
            "In epoch 190, loss: 0.378, val_auc: 0.991, best_val_auc: 0.992\n",
            "In epoch 195, loss: 0.645, val_auc: 0.922, best_val_auc: 0.992\n"
          ]
        }
      ]
    },
    {
      "cell_type": "code",
      "metadata": {
        "colab": {
          "base_uri": "https://localhost:8080/"
        },
        "id": "OeEJ0fbKLNiv",
        "outputId": "4fbc6873-115d-433b-984a-abbfb5c32ca6"
      },
      "source": [
        "with torch.no_grad():\n",
        "    pos_score = pred(test_pos_g, h)\n",
        "    neg_score = pred(test_neg_g, h)\n",
        "    test_auc = compute_auc(pos_score, neg_score)\n",
        "\n",
        "print(test_auc)"
      ],
      "id": "OeEJ0fbKLNiv",
      "execution_count": 102,
      "outputs": [
        {
          "output_type": "stream",
          "name": "stdout",
          "text": [
            "0.9156565034044641\n"
          ]
        }
      ]
    },
    {
      "cell_type": "markdown",
      "metadata": {
        "papermill": {
          "duration": 0.0833,
          "end_time": "2021-09-17T05:20:48.166067",
          "exception": false,
          "start_time": "2021-09-17T05:20:48.082767",
          "status": "completed"
        },
        "tags": [],
        "id": "oaQpwuxmLNiv"
      },
      "source": [
        "### LOSS: BCE, METRIC: HITS@K, TRAIN THE GRAPH AND TEST"
      ],
      "id": "oaQpwuxmLNiv"
    },
    {
      "cell_type": "code",
      "metadata": {
        "execution": {
          "iopub.execute_input": "2021-09-17T05:20:49.058595Z",
          "iopub.status.busy": "2021-09-17T05:20:49.057614Z",
          "iopub.status.idle": "2021-09-17T05:20:49.072469Z",
          "shell.execute_reply": "2021-09-17T05:20:49.071845Z",
          "shell.execute_reply.started": "2021-09-17T05:14:28.110922Z"
        },
        "papermill": {
          "duration": 0.101065,
          "end_time": "2021-09-17T05:20:49.072602",
          "exception": false,
          "start_time": "2021-09-17T05:20:48.971537",
          "status": "completed"
        },
        "tags": [],
        "id": "uK5lQ4DyLNiw"
      },
      "source": [
        "set_seed()\n",
        "\n",
        "model = ResidualGCNModel(train_g.ndata['feat'].shape[1], 32, 16).to(device)\n",
        "\n",
        "#pred = MLPPredictor(16).to(device)\n",
        "pred = DotPredictor().to(device)\n",
        "\n",
        "def compute_loss(pos_score, neg_score):\n",
        "    scores = torch.cat([pos_score, neg_score])\n",
        "    labels = torch.cat([torch.ones(pos_score.shape[0]), torch.zeros(neg_score.shape[0])]).to(device)\n",
        "    return F.binary_cross_entropy_with_logits(scores, labels)\n",
        "\n",
        "def compute_hits_k(pos_score, neg_score, K):\n",
        "    y_pred_neg = neg_score\n",
        "    y_pred_pos = pos_score\n",
        "    if len(y_pred_neg) < K:\n",
        "        return 1.\n",
        "\n",
        "    kth_score_in_negative_edges = torch.topk(y_pred_neg, K)[0][-1]\n",
        "    hitsK = float(torch.sum(y_pred_pos > kth_score_in_negative_edges).cpu()) / len(y_pred_pos)\n",
        "    return hitsK"
      ],
      "id": "uK5lQ4DyLNiw",
      "execution_count": 103,
      "outputs": []
    },
    {
      "cell_type": "code",
      "metadata": {
        "execution": {
          "iopub.execute_input": "2021-09-17T05:20:49.250050Z",
          "iopub.status.busy": "2021-09-17T05:20:49.249313Z",
          "iopub.status.idle": "2021-09-17T05:21:09.631825Z",
          "shell.execute_reply": "2021-09-17T05:21:09.631321Z",
          "shell.execute_reply.started": "2021-09-17T05:14:46.098811Z"
        },
        "papermill": {
          "duration": 20.476082,
          "end_time": "2021-09-17T05:21:09.632016",
          "exception": false,
          "start_time": "2021-09-17T05:20:49.155934",
          "status": "completed"
        },
        "tags": [],
        "colab": {
          "base_uri": "https://localhost:8080/"
        },
        "id": "1OUJmooNLNiw",
        "outputId": "f7107b1d-3dee-452a-8f35-50f4f34d1ae7"
      },
      "source": [
        "optimizer = torch.optim.Adam(itertools.chain(model.parameters(), pred.parameters()), lr=0.01)\n",
        "\n",
        "best_val_hits_k = -float('inf')\n",
        "\n",
        "k_hits = 20\n",
        "\n",
        "all_logits = []\n",
        "for e in range(200):\n",
        "    # forward\n",
        "    h = model(train_g)\n",
        "    pos_score = pred(train_pos_g, h)\n",
        "    neg_score = pred(train_neg_g, h)\n",
        "    loss = compute_loss(pos_score, neg_score)\n",
        "\n",
        "    # backward\n",
        "    optimizer.zero_grad()\n",
        "    loss.backward()\n",
        "    optimizer.step()\n",
        "\n",
        "    with torch.no_grad():\n",
        "        pos_score = pred(val_pos_g, h)\n",
        "        neg_score = pred(val_neg_g, h)\n",
        "        val_hits_k = compute_hits_k(pos_score, neg_score, k_hits)\n",
        "    \n",
        "    if best_val_hits_k < val_hits_k:\n",
        "        best_val_hits_k = val_hits_k\n",
        "    \n",
        "    # break \n",
        "\n",
        "    if e % 5 == 0:\n",
        "        print('In epoch {}, loss: {:.3f}, val_hits_k: {:.6f}, best_val_hits_k: {:.6f}'.format(\n",
        "            e, loss, val_hits_k, best_val_hits_k))\n",
        "    \n",
        "    # if e % 100 == 0:\n",
        "    #     optimizer = torch.optim.Adam(itertools.chain(model.parameters(), pred.parameters()), lr=0.01)\n",
        "        "
      ],
      "id": "1OUJmooNLNiw",
      "execution_count": 104,
      "outputs": [
        {
          "output_type": "stream",
          "name": "stdout",
          "text": [
            "In epoch 0, loss: 2.389, val_hits_k: 0.000000, best_val_hits_k: 0.000000\n",
            "In epoch 5, loss: 0.642, val_hits_k: 0.003030, best_val_hits_k: 0.003030\n",
            "In epoch 10, loss: 0.596, val_hits_k: 0.002733, best_val_hits_k: 0.003183\n",
            "In epoch 15, loss: 0.538, val_hits_k: 0.000144, best_val_hits_k: 0.003183\n",
            "In epoch 20, loss: 0.513, val_hits_k: 0.000025, best_val_hits_k: 0.003183\n",
            "In epoch 25, loss: 0.464, val_hits_k: 0.000153, best_val_hits_k: 0.003183\n",
            "In epoch 30, loss: 0.418, val_hits_k: 0.017170, best_val_hits_k: 0.017170\n",
            "In epoch 35, loss: 0.412, val_hits_k: 0.026463, best_val_hits_k: 0.041095\n",
            "In epoch 40, loss: 0.407, val_hits_k: 0.058426, best_val_hits_k: 0.058426\n",
            "In epoch 45, loss: 0.397, val_hits_k: 0.057916, best_val_hits_k: 0.088165\n",
            "In epoch 50, loss: 0.394, val_hits_k: 0.062949, best_val_hits_k: 0.106327\n",
            "In epoch 55, loss: 0.413, val_hits_k: 0.096406, best_val_hits_k: 0.106327\n",
            "In epoch 60, loss: 0.407, val_hits_k: 0.008852, best_val_hits_k: 0.106327\n",
            "In epoch 65, loss: 0.388, val_hits_k: 0.104766, best_val_hits_k: 0.108797\n",
            "In epoch 70, loss: 0.459, val_hits_k: 0.043666, best_val_hits_k: 0.108797\n",
            "In epoch 75, loss: 0.415, val_hits_k: 0.050431, best_val_hits_k: 0.108797\n",
            "In epoch 80, loss: 0.414, val_hits_k: 0.052103, best_val_hits_k: 0.108797\n",
            "In epoch 85, loss: 0.396, val_hits_k: 0.081001, best_val_hits_k: 0.108797\n",
            "In epoch 90, loss: 0.398, val_hits_k: 0.090524, best_val_hits_k: 0.108797\n",
            "In epoch 95, loss: 0.387, val_hits_k: 0.110910, best_val_hits_k: 0.110910\n",
            "In epoch 100, loss: 0.387, val_hits_k: 0.120280, best_val_hits_k: 0.123811\n",
            "In epoch 105, loss: 0.384, val_hits_k: 0.116800, best_val_hits_k: 0.123811\n",
            "In epoch 110, loss: 0.383, val_hits_k: 0.108016, best_val_hits_k: 0.123811\n",
            "In epoch 115, loss: 0.382, val_hits_k: 0.109366, best_val_hits_k: 0.123811\n",
            "In epoch 120, loss: 0.382, val_hits_k: 0.107812, best_val_hits_k: 0.123811\n",
            "In epoch 125, loss: 0.381, val_hits_k: 0.107948, best_val_hits_k: 0.123811\n",
            "In epoch 130, loss: 0.381, val_hits_k: 0.113312, best_val_hits_k: 0.123811\n",
            "In epoch 135, loss: 0.380, val_hits_k: 0.113142, best_val_hits_k: 0.123811\n",
            "In epoch 140, loss: 0.380, val_hits_k: 0.107431, best_val_hits_k: 0.123811\n",
            "In epoch 145, loss: 0.380, val_hits_k: 0.106123, best_val_hits_k: 0.123811\n",
            "In epoch 150, loss: 0.380, val_hits_k: 0.110545, best_val_hits_k: 0.123811\n",
            "In epoch 155, loss: 0.380, val_hits_k: 0.111445, best_val_hits_k: 0.123811\n",
            "In epoch 160, loss: 0.379, val_hits_k: 0.107999, best_val_hits_k: 0.123811\n",
            "In epoch 165, loss: 0.379, val_hits_k: 0.108491, best_val_hits_k: 0.123811\n",
            "In epoch 170, loss: 0.379, val_hits_k: 0.110129, best_val_hits_k: 0.123811\n",
            "In epoch 175, loss: 0.379, val_hits_k: 0.105742, best_val_hits_k: 0.123811\n",
            "In epoch 180, loss: 0.379, val_hits_k: 0.102958, best_val_hits_k: 0.123811\n",
            "In epoch 185, loss: 0.383, val_hits_k: 0.098281, best_val_hits_k: 0.123811\n",
            "In epoch 190, loss: 0.514, val_hits_k: 0.111691, best_val_hits_k: 0.129675\n",
            "In epoch 195, loss: 0.597, val_hits_k: 0.000000, best_val_hits_k: 0.129675\n"
          ]
        }
      ]
    },
    {
      "cell_type": "code",
      "metadata": {
        "colab": {
          "base_uri": "https://localhost:8080/"
        },
        "id": "T6h2wMROLNix",
        "outputId": "b6581e5e-fd21-48af-cf8d-13098d4d5d98"
      },
      "source": [
        "with torch.no_grad():\n",
        "    pos_score = pred(test_pos_g, h)\n",
        "    neg_score = pred(test_neg_g, h)\n",
        "    test_hits_k = compute_hits_k(pos_score, neg_score, k_hits)\n",
        "\n",
        "print(test_hits_k)"
      ],
      "id": "T6h2wMROLNix",
      "execution_count": 105,
      "outputs": [
        {
          "output_type": "stream",
          "name": "stdout",
          "text": [
            "0.0008953919143139643\n"
          ]
        }
      ]
    },
    {
      "cell_type": "markdown",
      "metadata": {
        "papermill": {
          "duration": 0.0833,
          "end_time": "2021-09-17T05:20:48.166067",
          "exception": false,
          "start_time": "2021-09-17T05:20:48.082767",
          "status": "completed"
        },
        "tags": [],
        "id": "KqG5wl_5zk_-"
      },
      "source": [
        "## MODEL: GCN with Parallel Connections, METRIC: AUC, HITS\n"
      ],
      "id": "KqG5wl_5zk_-"
    },
    {
      "cell_type": "markdown",
      "metadata": {
        "id": "mM_CwNJXzlAG"
      },
      "source": [
        "### MODEL AND PREDICTOR"
      ],
      "id": "mM_CwNJXzlAG"
    },
    {
      "cell_type": "code",
      "metadata": {
        "id": "sSQzSKo-CMF_"
      },
      "source": [
        "# testArr1 = torch.randn([2,3])\n",
        "# testArr2 = torch.randn([2,3])\n",
        "\n",
        "# testAns1 = torch.stack([testArr1, testArr2, testArr1, testArr2], dim = -1)\n",
        "# testAns1 = testAns1.sum(-1)\n",
        "# print(testArr1)\n",
        "# print(testArr2)\n",
        "# print(testAns1)\n",
        "# print(testAns1.shape)"
      ],
      "id": "sSQzSKo-CMF_",
      "execution_count": 106,
      "outputs": []
    },
    {
      "cell_type": "code",
      "metadata": {
        "execution": {
          "iopub.execute_input": "2021-09-17T05:20:48.336168Z",
          "iopub.status.busy": "2021-09-17T05:20:48.335498Z",
          "iopub.status.idle": "2021-09-17T05:20:48.341328Z",
          "shell.execute_reply": "2021-09-17T05:20:48.341868Z",
          "shell.execute_reply.started": "2021-09-17T05:13:27.979053Z"
        },
        "papermill": {
          "duration": 0.092783,
          "end_time": "2021-09-17T05:20:48.342064",
          "exception": false,
          "start_time": "2021-09-17T05:20:48.249281",
          "status": "completed"
        },
        "tags": [],
        "id": "wwusubVWzlAH"
      },
      "source": [
        "class GraphConvAndReLUBlock(nn.Module):\n",
        "    def __init__(self,in_feats,out_feats):\n",
        "        super(GraphConvAndReLUBlock, self).__init__()\n",
        "        # Since the graph has nodes with zero indegrees, allow_zero_in_degree = True\n",
        "        self.GraphConvLayer = GraphConv(in_feats, out_feats, allow_zero_in_degree = True)\n",
        "        self.ReLULayer = nn.ReLU()\n",
        "        \n",
        "    def forward(self, g, h):\n",
        "        out = self.GraphConvLayer(g, h)\n",
        "        out = self.ReLULayer(out)\n",
        "        return out\n",
        "\n",
        "class ParallelPathGCNModel(nn.Module):\n",
        "    def __init__(self, in_feats, n_hidden, out_feats):\n",
        "        super(ParallelPathGCNModel, self).__init__()\n",
        "        self.initialLayer = GraphConvAndReLUBlock(in_feats, n_hidden)\n",
        "        self.hiddenLayers = nn.ModuleList()\n",
        "        for i in range(12):\n",
        "            self.hiddenLayers.append(GraphConvAndReLUBlock(n_hidden, n_hidden))\n",
        "        self.linearLayer = nn.Linear(n_hidden, out_feats)\n",
        "        \n",
        "    def forward(self, g):\n",
        "        h = g.ndata['feat']\n",
        "        out = self.initialLayer(g, h)  \n",
        "        out2 = out\n",
        "        out3 = out\n",
        "        # 5 , 4 and 3 layers \n",
        "        for i in range(5):\n",
        "            out = self.hiddenLayers[i](g, out)\n",
        "        for i in range(4):\n",
        "            out2 = self.hiddenLayers[5+i](g, out2)\n",
        "        for i in range(3):\n",
        "            out3 = self.hiddenLayers[9+i](g, out3)\n",
        "        out = torch.stack([out, out2, out3], dim = -1)\n",
        "        out = out.sum(-1)\n",
        "        out = self.linearLayer(out)\n",
        "        return out\n"
      ],
      "id": "wwusubVWzlAH",
      "execution_count": 107,
      "outputs": []
    },
    {
      "cell_type": "code",
      "metadata": {
        "execution": {
          "iopub.execute_input": "2021-09-17T05:20:48.701576Z",
          "iopub.status.busy": "2021-09-17T05:20:48.700850Z",
          "iopub.status.idle": "2021-09-17T05:20:48.706029Z",
          "shell.execute_reply": "2021-09-17T05:20:48.706549Z",
          "shell.execute_reply.started": "2021-09-17T05:13:58.880511Z"
        },
        "papermill": {
          "duration": 0.092799,
          "end_time": "2021-09-17T05:20:48.706718",
          "exception": false,
          "start_time": "2021-09-17T05:20:48.613919",
          "status": "completed"
        },
        "tags": [],
        "id": "LpcoA8j8zlAK"
      },
      "source": [
        "class DotPredictor(nn.Module):\n",
        "    def forward(self, g, h):\n",
        "        with g.local_scope():\n",
        "            g.ndata['h'] = h\n",
        "            g.apply_edges(fn.u_dot_v('h', 'h', 'score'))\n",
        "            return g.edata['score'][:, 0]\n",
        "\n",
        "class MLPPredictor(nn.Module):\n",
        "    def __init__(self, h_feats):\n",
        "        super().__init__()\n",
        "        self.W1 = nn.Linear(h_feats * 2, h_feats)\n",
        "        self.W2 = nn.Linear(h_feats, 1)\n",
        "\n",
        "    def apply_edges(self, edges):\n",
        "        h = torch.cat([edges.src['h'], edges.dst['h']], 1)\n",
        "        return {'score': self.W2(F.relu(self.W1(h))).squeeze(1)}\n",
        "\n",
        "    def forward(self, g, h):\n",
        "        with g.local_scope():\n",
        "            g.ndata['h'] = h\n",
        "            g.apply_edges(self.apply_edges)\n",
        "            return g.edata['score']"
      ],
      "id": "LpcoA8j8zlAK",
      "execution_count": 108,
      "outputs": []
    },
    {
      "cell_type": "markdown",
      "metadata": {
        "id": "XsNCnGP-zlAK"
      },
      "source": [
        "### TRAIN, VAL and TEST Graphs (POS AND NEG)"
      ],
      "id": "XsNCnGP-zlAK"
    },
    {
      "cell_type": "code",
      "metadata": {
        "execution": {
          "iopub.execute_input": "2021-09-17T05:20:48.515152Z",
          "iopub.status.busy": "2021-09-17T05:20:48.514373Z",
          "iopub.status.idle": "2021-09-17T05:20:48.528398Z",
          "shell.execute_reply": "2021-09-17T05:20:48.528950Z",
          "shell.execute_reply.started": "2021-09-17T05:13:44.690163Z"
        },
        "papermill": {
          "duration": 0.101705,
          "end_time": "2021-09-17T05:20:48.529132",
          "exception": false,
          "start_time": "2021-09-17T05:20:48.427427",
          "status": "completed"
        },
        "tags": [],
        "id": "P4DsG3w_zlAL"
      },
      "source": [
        "train_pos_g = dgl.graph((train_pos_u, train_pos_v), num_nodes=g.number_of_nodes()).to(device)\n",
        "train_neg_g = dgl.graph((train_neg_u, train_neg_v), num_nodes=g.number_of_nodes()).to(device)\n",
        "\n",
        "val_pos_g = dgl.graph((val_pos_u, val_pos_v), num_nodes=g.number_of_nodes()).to(device)\n",
        "val_neg_g = dgl.graph((val_neg_u, val_neg_v), num_nodes=g.number_of_nodes()).to(device)\n",
        "\n",
        "test_pos_g = dgl.graph((test_pos_u, test_pos_v), num_nodes=g.number_of_nodes()).to(device)\n",
        "test_neg_g = dgl.graph((test_neg_u, test_neg_v), num_nodes=g.number_of_nodes()).to(device)"
      ],
      "id": "P4DsG3w_zlAL",
      "execution_count": 109,
      "outputs": []
    },
    {
      "cell_type": "markdown",
      "metadata": {
        "id": "HLYqZzewzlAL"
      },
      "source": [
        "### LOSS: BCE , METRIC: AUC, TRAIN THE GRAPH AND TEST"
      ],
      "id": "HLYqZzewzlAL"
    },
    {
      "cell_type": "code",
      "metadata": {
        "execution": {
          "iopub.execute_input": "2021-09-17T05:20:49.058595Z",
          "iopub.status.busy": "2021-09-17T05:20:49.057614Z",
          "iopub.status.idle": "2021-09-17T05:20:49.072469Z",
          "shell.execute_reply": "2021-09-17T05:20:49.071845Z",
          "shell.execute_reply.started": "2021-09-17T05:14:28.110922Z"
        },
        "papermill": {
          "duration": 0.101065,
          "end_time": "2021-09-17T05:20:49.072602",
          "exception": false,
          "start_time": "2021-09-17T05:20:48.971537",
          "status": "completed"
        },
        "tags": [],
        "id": "GEcZSjNyzlAL"
      },
      "source": [
        "set_seed()\n",
        "\n",
        "model = ParallelPathGCNModel(train_g.ndata['feat'].shape[1], 32,16).to(device)\n",
        "pred = DotPredictor().to(device)\n",
        "\n",
        "def compute_loss(pos_score, neg_score):\n",
        "    scores = torch.cat([pos_score, neg_score])\n",
        "    labels = torch.cat([torch.ones(pos_score.shape[0]), torch.zeros(neg_score.shape[0])]).to(device)\n",
        "    return F.binary_cross_entropy_with_logits(scores, labels)\n",
        "\n",
        "def compute_auc(pos_score, neg_score):\n",
        "    scores = torch.cat([pos_score, neg_score]).cpu().numpy()\n",
        "    labels = torch.cat(\n",
        "        [torch.ones(pos_score.shape[0]), torch.zeros(neg_score.shape[0])]).numpy()\n",
        "    return roc_auc_score(labels, scores)"
      ],
      "id": "GEcZSjNyzlAL",
      "execution_count": 110,
      "outputs": []
    },
    {
      "cell_type": "code",
      "metadata": {
        "execution": {
          "iopub.execute_input": "2021-09-17T05:20:49.250050Z",
          "iopub.status.busy": "2021-09-17T05:20:49.249313Z",
          "iopub.status.idle": "2021-09-17T05:21:09.631825Z",
          "shell.execute_reply": "2021-09-17T05:21:09.631321Z",
          "shell.execute_reply.started": "2021-09-17T05:14:46.098811Z"
        },
        "papermill": {
          "duration": 20.476082,
          "end_time": "2021-09-17T05:21:09.632016",
          "exception": false,
          "start_time": "2021-09-17T05:20:49.155934",
          "status": "completed"
        },
        "tags": [],
        "colab": {
          "base_uri": "https://localhost:8080/"
        },
        "id": "iydm2DsXzlAM",
        "outputId": "e8bdf19a-3157-44c8-8481-e8ce9576b281"
      },
      "source": [
        "optimizer = torch.optim.Adam(itertools.chain(model.parameters(), pred.parameters()), lr=0.01)\n",
        "\n",
        "best_val_auc = 0\n",
        "\n",
        "all_logits = []\n",
        "for e in range(200):\n",
        "    # forward\n",
        "    h = model(train_g)\n",
        "    pos_score = pred(train_pos_g, h)\n",
        "    neg_score = pred(train_neg_g, h)\n",
        "    loss = compute_loss(pos_score, neg_score)\n",
        "\n",
        "    # backward\n",
        "    optimizer.zero_grad()\n",
        "    loss.backward()\n",
        "    optimizer.step()\n",
        "\n",
        "    with torch.no_grad():\n",
        "        pos_score = pred(val_pos_g, h)\n",
        "        neg_score = pred(val_neg_g, h)\n",
        "        val_auc = compute_auc(pos_score, neg_score)\n",
        "    \n",
        "    if best_val_auc < val_auc:\n",
        "        best_val_auc = val_auc\n",
        "\n",
        "    if e % 5 == 0:\n",
        "        print('In epoch {}, loss: {:.3f}, val_auc: {:.3f}, best_val_auc: {:.3f}'.format(\n",
        "            e, loss, val_auc, best_val_auc))\n",
        "        \n",
        "    if e % 100 == 0:\n",
        "        optimizer = torch.optim.Adam(itertools.chain(model.parameters(), pred.parameters()), lr=0.01)\n",
        "        "
      ],
      "id": "iydm2DsXzlAM",
      "execution_count": 111,
      "outputs": [
        {
          "output_type": "stream",
          "name": "stdout",
          "text": [
            "In epoch 0, loss: 0.681, val_auc: 0.738, best_val_auc: 0.738\n",
            "In epoch 5, loss: 0.626, val_auc: 0.876, best_val_auc: 0.877\n",
            "In epoch 10, loss: 0.527, val_auc: 0.937, best_val_auc: 0.937\n",
            "In epoch 15, loss: 0.581, val_auc: 0.884, best_val_auc: 0.966\n",
            "In epoch 20, loss: 0.457, val_auc: 0.964, best_val_auc: 0.966\n",
            "In epoch 25, loss: 0.458, val_auc: 0.965, best_val_auc: 0.968\n",
            "In epoch 30, loss: 0.422, val_auc: 0.980, best_val_auc: 0.980\n",
            "In epoch 35, loss: 0.404, val_auc: 0.986, best_val_auc: 0.986\n",
            "In epoch 40, loss: 0.390, val_auc: 0.989, best_val_auc: 0.989\n",
            "In epoch 45, loss: 0.385, val_auc: 0.991, best_val_auc: 0.991\n",
            "In epoch 50, loss: 0.382, val_auc: 0.992, best_val_auc: 0.992\n",
            "In epoch 55, loss: 0.381, val_auc: 0.992, best_val_auc: 0.992\n",
            "In epoch 60, loss: 0.380, val_auc: 0.992, best_val_auc: 0.992\n",
            "In epoch 65, loss: 0.380, val_auc: 0.992, best_val_auc: 0.992\n",
            "In epoch 70, loss: 0.380, val_auc: 0.992, best_val_auc: 0.992\n",
            "In epoch 75, loss: 0.379, val_auc: 0.992, best_val_auc: 0.992\n",
            "In epoch 80, loss: 0.379, val_auc: 0.992, best_val_auc: 0.992\n",
            "In epoch 85, loss: 0.379, val_auc: 0.992, best_val_auc: 0.992\n",
            "In epoch 90, loss: 0.379, val_auc: 0.992, best_val_auc: 0.992\n",
            "In epoch 95, loss: 0.379, val_auc: 0.992, best_val_auc: 0.992\n",
            "In epoch 100, loss: 0.379, val_auc: 0.992, best_val_auc: 0.992\n",
            "In epoch 105, loss: 0.692, val_auc: 0.725, best_val_auc: 0.992\n",
            "In epoch 110, loss: 0.542, val_auc: 0.950, best_val_auc: 0.992\n",
            "In epoch 115, loss: 0.455, val_auc: 0.977, best_val_auc: 0.992\n",
            "In epoch 120, loss: 0.407, val_auc: 0.989, best_val_auc: 0.992\n",
            "In epoch 125, loss: 0.398, val_auc: 0.992, best_val_auc: 0.992\n",
            "In epoch 130, loss: 0.390, val_auc: 0.993, best_val_auc: 0.993\n",
            "In epoch 135, loss: 0.386, val_auc: 0.992, best_val_auc: 0.993\n",
            "In epoch 140, loss: 0.383, val_auc: 0.993, best_val_auc: 0.993\n",
            "In epoch 145, loss: 0.381, val_auc: 0.993, best_val_auc: 0.993\n",
            "In epoch 150, loss: 0.380, val_auc: 0.993, best_val_auc: 0.993\n",
            "In epoch 155, loss: 0.379, val_auc: 0.993, best_val_auc: 0.993\n",
            "In epoch 160, loss: 0.379, val_auc: 0.993, best_val_auc: 0.993\n",
            "In epoch 165, loss: 0.379, val_auc: 0.993, best_val_auc: 0.993\n",
            "In epoch 170, loss: 0.378, val_auc: 0.993, best_val_auc: 0.993\n",
            "In epoch 175, loss: 0.378, val_auc: 0.993, best_val_auc: 0.993\n",
            "In epoch 180, loss: 0.378, val_auc: 0.993, best_val_auc: 0.993\n",
            "In epoch 185, loss: 0.378, val_auc: 0.993, best_val_auc: 0.993\n",
            "In epoch 190, loss: 0.378, val_auc: 0.993, best_val_auc: 0.993\n",
            "In epoch 195, loss: 0.378, val_auc: 0.993, best_val_auc: 0.993\n"
          ]
        }
      ]
    },
    {
      "cell_type": "code",
      "metadata": {
        "colab": {
          "base_uri": "https://localhost:8080/"
        },
        "id": "0P1mxjCfzlAM",
        "outputId": "44fc3d8d-8797-4ae4-a03a-324e99f7d060"
      },
      "source": [
        "with torch.no_grad():\n",
        "    pos_score = pred(test_pos_g, h)\n",
        "    neg_score = pred(test_neg_g, h)\n",
        "    test_auc = compute_auc(pos_score, neg_score)\n",
        "\n",
        "print(test_auc)"
      ],
      "id": "0P1mxjCfzlAM",
      "execution_count": 112,
      "outputs": [
        {
          "output_type": "stream",
          "name": "stdout",
          "text": [
            "0.9927197541007386\n"
          ]
        }
      ]
    },
    {
      "cell_type": "markdown",
      "metadata": {
        "papermill": {
          "duration": 0.0833,
          "end_time": "2021-09-17T05:20:48.166067",
          "exception": false,
          "start_time": "2021-09-17T05:20:48.082767",
          "status": "completed"
        },
        "tags": [],
        "id": "adNO5vF5zlAN"
      },
      "source": [
        "### LOSS: BCE, METRIC: HITS@K, TRAIN THE GRAPH AND TEST"
      ],
      "id": "adNO5vF5zlAN"
    },
    {
      "cell_type": "code",
      "metadata": {
        "execution": {
          "iopub.execute_input": "2021-09-17T05:20:49.058595Z",
          "iopub.status.busy": "2021-09-17T05:20:49.057614Z",
          "iopub.status.idle": "2021-09-17T05:20:49.072469Z",
          "shell.execute_reply": "2021-09-17T05:20:49.071845Z",
          "shell.execute_reply.started": "2021-09-17T05:14:28.110922Z"
        },
        "papermill": {
          "duration": 0.101065,
          "end_time": "2021-09-17T05:20:49.072602",
          "exception": false,
          "start_time": "2021-09-17T05:20:48.971537",
          "status": "completed"
        },
        "tags": [],
        "id": "wjFEa1fCzlAN"
      },
      "source": [
        "set_seed()\n",
        "\n",
        "model = ParallelPathGCNModel(train_g.ndata['feat'].shape[1], 32, 16).to(device)\n",
        "\n",
        "#pred = MLPPredictor(16).to(device)\n",
        "pred = DotPredictor().to(device)\n",
        "\n",
        "def compute_loss(pos_score, neg_score):\n",
        "    scores = torch.cat([pos_score, neg_score])\n",
        "    labels = torch.cat([torch.ones(pos_score.shape[0]), torch.zeros(neg_score.shape[0])]).to(device)\n",
        "    return F.binary_cross_entropy_with_logits(scores, labels)\n",
        "\n",
        "def compute_hits_k(pos_score, neg_score, K):\n",
        "    y_pred_neg = neg_score\n",
        "    y_pred_pos = pos_score\n",
        "    if len(y_pred_neg) < K:\n",
        "        return 1.\n",
        "\n",
        "    kth_score_in_negative_edges = torch.topk(y_pred_neg, K)[0][-1]\n",
        "    hitsK = float(torch.sum(y_pred_pos > kth_score_in_negative_edges).cpu()) / len(y_pred_pos)\n",
        "    return hitsK"
      ],
      "id": "wjFEa1fCzlAN",
      "execution_count": 113,
      "outputs": []
    },
    {
      "cell_type": "code",
      "metadata": {
        "execution": {
          "iopub.execute_input": "2021-09-17T05:20:49.250050Z",
          "iopub.status.busy": "2021-09-17T05:20:49.249313Z",
          "iopub.status.idle": "2021-09-17T05:21:09.631825Z",
          "shell.execute_reply": "2021-09-17T05:21:09.631321Z",
          "shell.execute_reply.started": "2021-09-17T05:14:46.098811Z"
        },
        "papermill": {
          "duration": 20.476082,
          "end_time": "2021-09-17T05:21:09.632016",
          "exception": false,
          "start_time": "2021-09-17T05:20:49.155934",
          "status": "completed"
        },
        "tags": [],
        "colab": {
          "base_uri": "https://localhost:8080/"
        },
        "id": "dz9lBEKGzlAN",
        "outputId": "6669ff32-8204-4e5c-dcdb-eccd1cc8755a"
      },
      "source": [
        "optimizer = torch.optim.Adam(itertools.chain(model.parameters(), pred.parameters()), lr=0.01)\n",
        "\n",
        "best_val_hits_k = -float('inf')\n",
        "\n",
        "k_hits = 20\n",
        "\n",
        "all_logits = []\n",
        "for e in range(200):\n",
        "    # forward\n",
        "    h = model(train_g)\n",
        "    pos_score = pred(train_pos_g, h)\n",
        "    neg_score = pred(train_neg_g, h)\n",
        "    loss = compute_loss(pos_score, neg_score)\n",
        "\n",
        "    # backward\n",
        "    optimizer.zero_grad()\n",
        "    loss.backward()\n",
        "    optimizer.step()\n",
        "\n",
        "    with torch.no_grad():\n",
        "        pos_score = pred(val_pos_g, h)\n",
        "        neg_score = pred(val_neg_g, h)\n",
        "        val_hits_k = compute_hits_k(pos_score, neg_score, k_hits)\n",
        "    \n",
        "    if best_val_hits_k < val_hits_k:\n",
        "        best_val_hits_k = val_hits_k\n",
        "    \n",
        "    # break \n",
        "\n",
        "    if e % 5 == 0:\n",
        "        print('In epoch {}, loss: {:.3f}, val_hits_k: {:.6f}, best_val_hits_k: {:.6f}'.format(\n",
        "            e, loss, val_hits_k, best_val_hits_k))\n",
        "    \n",
        "    # if e % 100 == 0:\n",
        "    #     optimizer = torch.optim.Adam(itertools.chain(model.parameters(), pred.parameters()), lr=0.01)\n",
        "        "
      ],
      "id": "dz9lBEKGzlAN",
      "execution_count": 114,
      "outputs": [
        {
          "output_type": "stream",
          "name": "stdout",
          "text": [
            "In epoch 0, loss: 0.681, val_hits_k: 0.000000, best_val_hits_k: 0.000000\n",
            "In epoch 5, loss: 0.635, val_hits_k: 0.009675, best_val_hits_k: 0.016923\n",
            "In epoch 10, loss: 0.620, val_hits_k: 0.015285, best_val_hits_k: 0.016923\n",
            "In epoch 15, loss: 0.525, val_hits_k: 0.038617, best_val_hits_k: 0.041180\n",
            "In epoch 20, loss: 0.453, val_hits_k: 0.038515, best_val_hits_k: 0.046942\n",
            "In epoch 25, loss: 0.420, val_hits_k: 0.070172, best_val_hits_k: 0.070308\n",
            "In epoch 30, loss: 0.397, val_hits_k: 0.104358, best_val_hits_k: 0.104358\n",
            "In epoch 35, loss: 0.386, val_hits_k: 0.117352, best_val_hits_k: 0.117352\n",
            "In epoch 40, loss: 0.385, val_hits_k: 0.119423, best_val_hits_k: 0.119423\n",
            "In epoch 45, loss: 0.383, val_hits_k: 0.129090, best_val_hits_k: 0.129090\n",
            "In epoch 50, loss: 0.383, val_hits_k: 0.120985, best_val_hits_k: 0.130533\n",
            "In epoch 55, loss: 0.381, val_hits_k: 0.118931, best_val_hits_k: 0.130533\n",
            "In epoch 60, loss: 0.380, val_hits_k: 0.117097, best_val_hits_k: 0.130533\n",
            "In epoch 65, loss: 0.379, val_hits_k: 0.116036, best_val_hits_k: 0.130533\n",
            "In epoch 70, loss: 0.379, val_hits_k: 0.112243, best_val_hits_k: 0.130533\n",
            "In epoch 75, loss: 0.379, val_hits_k: 0.114144, best_val_hits_k: 0.130533\n",
            "In epoch 80, loss: 0.378, val_hits_k: 0.114729, best_val_hits_k: 0.130533\n",
            "In epoch 85, loss: 0.378, val_hits_k: 0.112913, best_val_hits_k: 0.130533\n",
            "In epoch 90, loss: 0.378, val_hits_k: 0.109807, best_val_hits_k: 0.130533\n",
            "In epoch 95, loss: 0.378, val_hits_k: 0.110825, best_val_hits_k: 0.130533\n",
            "In epoch 100, loss: 0.378, val_hits_k: 0.111055, best_val_hits_k: 0.130533\n",
            "In epoch 105, loss: 0.378, val_hits_k: 0.110189, best_val_hits_k: 0.130533\n",
            "In epoch 110, loss: 0.378, val_hits_k: 0.109646, best_val_hits_k: 0.130533\n",
            "In epoch 115, loss: 0.378, val_hits_k: 0.109357, best_val_hits_k: 0.130533\n",
            "In epoch 120, loss: 0.378, val_hits_k: 0.108984, best_val_hits_k: 0.130533\n",
            "In epoch 125, loss: 0.377, val_hits_k: 0.106302, best_val_hits_k: 0.130533\n",
            "In epoch 130, loss: 0.377, val_hits_k: 0.104825, best_val_hits_k: 0.130533\n",
            "In epoch 135, loss: 0.377, val_hits_k: 0.103119, best_val_hits_k: 0.130533\n",
            "In epoch 140, loss: 0.377, val_hits_k: 0.101226, best_val_hits_k: 0.130533\n",
            "In epoch 145, loss: 0.377, val_hits_k: 0.101286, best_val_hits_k: 0.130533\n",
            "In epoch 150, loss: 0.377, val_hits_k: 0.099775, best_val_hits_k: 0.130533\n",
            "In epoch 155, loss: 0.377, val_hits_k: 0.098264, best_val_hits_k: 0.130533\n",
            "In epoch 160, loss: 0.377, val_hits_k: 0.096779, best_val_hits_k: 0.130533\n",
            "In epoch 165, loss: 0.377, val_hits_k: 0.094191, best_val_hits_k: 0.130533\n",
            "In epoch 170, loss: 0.377, val_hits_k: 0.091271, best_val_hits_k: 0.130533\n",
            "In epoch 175, loss: 0.378, val_hits_k: 0.089472, best_val_hits_k: 0.130533\n",
            "In epoch 180, loss: 0.378, val_hits_k: 0.096278, best_val_hits_k: 0.130533\n",
            "In epoch 185, loss: 0.378, val_hits_k: 0.089599, best_val_hits_k: 0.130533\n",
            "In epoch 190, loss: 0.377, val_hits_k: 0.090847, best_val_hits_k: 0.130533\n",
            "In epoch 195, loss: 0.377, val_hits_k: 0.090982, best_val_hits_k: 0.130533\n"
          ]
        }
      ]
    },
    {
      "cell_type": "code",
      "metadata": {
        "colab": {
          "base_uri": "https://localhost:8080/"
        },
        "id": "S3vcxv0lzlAO",
        "outputId": "d1797b44-8583-4003-8114-badc9ea5e502"
      },
      "source": [
        "with torch.no_grad():\n",
        "    pos_score = pred(test_pos_g, h)\n",
        "    neg_score = pred(test_neg_g, h)\n",
        "    test_hits_k = compute_hits_k(pos_score, neg_score, k_hits)\n",
        "\n",
        "print(test_hits_k)"
      ],
      "id": "S3vcxv0lzlAO",
      "execution_count": 115,
      "outputs": [
        {
          "output_type": "stream",
          "name": "stdout",
          "text": [
            "0.06658151249092938\n"
          ]
        }
      ]
    },
    {
      "cell_type": "markdown",
      "metadata": {
        "papermill": {
          "duration": 0.0833,
          "end_time": "2021-09-17T05:20:48.166067",
          "exception": false,
          "start_time": "2021-09-17T05:20:48.082767",
          "status": "completed"
        },
        "tags": [],
        "id": "_AJsSAV2SobK"
      },
      "source": [
        "## MODEL: GCN with Parallel Connections(each with Residual Connections) , METRIC: AUC, HITS\n",
        "\n",
        "(not that good performance)\n"
      ],
      "id": "_AJsSAV2SobK"
    },
    {
      "cell_type": "markdown",
      "metadata": {
        "id": "pdz7G7k6SobK"
      },
      "source": [
        "### MODEL AND PREDICTOR"
      ],
      "id": "pdz7G7k6SobK"
    },
    {
      "cell_type": "code",
      "metadata": {
        "execution": {
          "iopub.execute_input": "2021-09-17T05:20:48.336168Z",
          "iopub.status.busy": "2021-09-17T05:20:48.335498Z",
          "iopub.status.idle": "2021-09-17T05:20:48.341328Z",
          "shell.execute_reply": "2021-09-17T05:20:48.341868Z",
          "shell.execute_reply.started": "2021-09-17T05:13:27.979053Z"
        },
        "papermill": {
          "duration": 0.092783,
          "end_time": "2021-09-17T05:20:48.342064",
          "exception": false,
          "start_time": "2021-09-17T05:20:48.249281",
          "status": "completed"
        },
        "tags": [],
        "id": "gUqW9AW9SobK"
      },
      "source": [
        "class GraphConvAndReLUBlock(nn.Module):\n",
        "    def __init__(self,in_feats,out_feats):\n",
        "        super(GraphConvAndReLUBlock, self).__init__()\n",
        "        # Since the graph has nodes with zero indegrees, allow_zero_in_degree = True\n",
        "        self.GraphConvLayer = GraphConv(in_feats, out_feats, allow_zero_in_degree = True)\n",
        "        self.ReLULayer = nn.ReLU()\n",
        "        \n",
        "    def forward(self, g, h):\n",
        "        out = self.GraphConvLayer(g, h)\n",
        "        out = self.ReLULayer(out)\n",
        "        return out\n",
        "\n",
        "class ParallelPathGCNModelWithResidualConnections(nn.Module):\n",
        "    def __init__(self, in_feats, n_hidden, out_feats):\n",
        "        super(ParallelPathGCNModelWithResidualConnections, self).__init__()\n",
        "        self.initialLayer = GraphConvAndReLUBlock(in_feats, n_hidden)\n",
        "        self.hiddenLayers = nn.ModuleList()\n",
        "        for i in range(12):\n",
        "            self.hiddenLayers.append(GraphConvAndReLUBlock(n_hidden, n_hidden))\n",
        "        self.linearLayer = nn.Linear(n_hidden, out_feats)\n",
        "        \n",
        "    def forward(self, g):\n",
        "        h = g.ndata['feat']\n",
        "        out = self.initialLayer(g, h)  \n",
        "        out2 = out\n",
        "        out3 = out\n",
        "        \n",
        "        # # 6 , 4 and 2 layers \n",
        "        # for i in range(0,6,2):\n",
        "        #     res = out\n",
        "        #     out = self.hiddenLayers[i](g, out)\n",
        "        #     out = self.hiddenLayers[i+1](g, out)\n",
        "        #     out += res\n",
        "        # for i in range(0,4,2):\n",
        "        #     res = out2\n",
        "        #     out2 = self.hiddenLayers[6+i](g, out2)\n",
        "        #     out2 = self.hiddenLayers[6+i+1](g, out2)\n",
        "        #     out2 += res\n",
        "        # for i in range(0,2,2):\n",
        "        #     res = out3\n",
        "        #     out3 = self.hiddenLayers[10+i](g, out3)\n",
        "        #     out3 = self.hiddenLayers[10+i+1](g, out3)\n",
        "        #     out3 += res\n",
        "\n",
        "        # 5, 4, and 3 layers\n",
        "        for i in range(5):\n",
        "            res = out\n",
        "            out = self.hiddenLayers[i](g, out)\n",
        "            out += res\n",
        "        for i in range(4):\n",
        "            res = out2\n",
        "            out2 = self.hiddenLayers[5+i](g, out2)\n",
        "            out2 += res\n",
        "        for i in range(3):\n",
        "            res = out3\n",
        "            out3 = self.hiddenLayers[9+i](g, out3)\n",
        "            out3 += res\n",
        "\n",
        "        out = torch.stack([out, out2, out3], dim = -1)\n",
        "        out = out.mean(-1)\n",
        "        out = self.linearLayer(out)\n",
        "        return out\n"
      ],
      "id": "gUqW9AW9SobK",
      "execution_count": 116,
      "outputs": []
    },
    {
      "cell_type": "code",
      "metadata": {
        "execution": {
          "iopub.execute_input": "2021-09-17T05:20:48.701576Z",
          "iopub.status.busy": "2021-09-17T05:20:48.700850Z",
          "iopub.status.idle": "2021-09-17T05:20:48.706029Z",
          "shell.execute_reply": "2021-09-17T05:20:48.706549Z",
          "shell.execute_reply.started": "2021-09-17T05:13:58.880511Z"
        },
        "papermill": {
          "duration": 0.092799,
          "end_time": "2021-09-17T05:20:48.706718",
          "exception": false,
          "start_time": "2021-09-17T05:20:48.613919",
          "status": "completed"
        },
        "tags": [],
        "id": "ggTzMWnoSobL"
      },
      "source": [
        "class DotPredictor(nn.Module):\n",
        "    def forward(self, g, h):\n",
        "        with g.local_scope():\n",
        "            g.ndata['h'] = h\n",
        "            g.apply_edges(fn.u_dot_v('h', 'h', 'score'))\n",
        "            return g.edata['score'][:, 0]\n",
        "\n",
        "class MLPPredictor(nn.Module):\n",
        "    def __init__(self, h_feats):\n",
        "        super().__init__()\n",
        "        self.W1 = nn.Linear(h_feats * 2, h_feats)\n",
        "        self.W2 = nn.Linear(h_feats, 1)\n",
        "\n",
        "    def apply_edges(self, edges):\n",
        "        h = torch.cat([edges.src['h'], edges.dst['h']], 1)\n",
        "        return {'score': self.W2(F.relu(self.W1(h))).squeeze(1)}\n",
        "\n",
        "    def forward(self, g, h):\n",
        "        with g.local_scope():\n",
        "            g.ndata['h'] = h\n",
        "            g.apply_edges(self.apply_edges)\n",
        "            return g.edata['score']"
      ],
      "id": "ggTzMWnoSobL",
      "execution_count": 117,
      "outputs": []
    },
    {
      "cell_type": "markdown",
      "metadata": {
        "id": "9UlaXFvHSobL"
      },
      "source": [
        "### TRAIN, VAL and TEST Graphs (POS AND NEG)"
      ],
      "id": "9UlaXFvHSobL"
    },
    {
      "cell_type": "code",
      "metadata": {
        "execution": {
          "iopub.execute_input": "2021-09-17T05:20:48.515152Z",
          "iopub.status.busy": "2021-09-17T05:20:48.514373Z",
          "iopub.status.idle": "2021-09-17T05:20:48.528398Z",
          "shell.execute_reply": "2021-09-17T05:20:48.528950Z",
          "shell.execute_reply.started": "2021-09-17T05:13:44.690163Z"
        },
        "papermill": {
          "duration": 0.101705,
          "end_time": "2021-09-17T05:20:48.529132",
          "exception": false,
          "start_time": "2021-09-17T05:20:48.427427",
          "status": "completed"
        },
        "tags": [],
        "id": "k73nwDKxSobL"
      },
      "source": [
        "train_pos_g = dgl.graph((train_pos_u, train_pos_v), num_nodes=g.number_of_nodes()).to(device)\n",
        "train_neg_g = dgl.graph((train_neg_u, train_neg_v), num_nodes=g.number_of_nodes()).to(device)\n",
        "\n",
        "val_pos_g = dgl.graph((val_pos_u, val_pos_v), num_nodes=g.number_of_nodes()).to(device)\n",
        "val_neg_g = dgl.graph((val_neg_u, val_neg_v), num_nodes=g.number_of_nodes()).to(device)\n",
        "\n",
        "test_pos_g = dgl.graph((test_pos_u, test_pos_v), num_nodes=g.number_of_nodes()).to(device)\n",
        "test_neg_g = dgl.graph((test_neg_u, test_neg_v), num_nodes=g.number_of_nodes()).to(device)"
      ],
      "id": "k73nwDKxSobL",
      "execution_count": 118,
      "outputs": []
    },
    {
      "cell_type": "markdown",
      "metadata": {
        "id": "TO0LGK0DSobL"
      },
      "source": [
        "### LOSS: BCE , METRIC: AUC, TRAIN THE GRAPH AND TEST"
      ],
      "id": "TO0LGK0DSobL"
    },
    {
      "cell_type": "code",
      "metadata": {
        "execution": {
          "iopub.execute_input": "2021-09-17T05:20:49.058595Z",
          "iopub.status.busy": "2021-09-17T05:20:49.057614Z",
          "iopub.status.idle": "2021-09-17T05:20:49.072469Z",
          "shell.execute_reply": "2021-09-17T05:20:49.071845Z",
          "shell.execute_reply.started": "2021-09-17T05:14:28.110922Z"
        },
        "papermill": {
          "duration": 0.101065,
          "end_time": "2021-09-17T05:20:49.072602",
          "exception": false,
          "start_time": "2021-09-17T05:20:48.971537",
          "status": "completed"
        },
        "tags": [],
        "id": "FtPBaNMZSobL"
      },
      "source": [
        "set_seed()\n",
        "\n",
        "model = ParallelPathGCNModelWithResidualConnections(train_g.ndata['feat'].shape[1], 32,16).to(device)\n",
        "pred = DotPredictor().to(device)\n",
        "\n",
        "def compute_loss(pos_score, neg_score):\n",
        "    scores = torch.cat([pos_score, neg_score])\n",
        "    labels = torch.cat([torch.ones(pos_score.shape[0]), torch.zeros(neg_score.shape[0])]).to(device)\n",
        "    return F.binary_cross_entropy_with_logits(scores, labels)\n",
        "\n",
        "def compute_auc(pos_score, neg_score):\n",
        "    scores = torch.cat([pos_score, neg_score]).cpu().numpy()\n",
        "    labels = torch.cat(\n",
        "        [torch.ones(pos_score.shape[0]), torch.zeros(neg_score.shape[0])]).numpy()\n",
        "    return roc_auc_score(labels, scores)"
      ],
      "id": "FtPBaNMZSobL",
      "execution_count": 119,
      "outputs": []
    },
    {
      "cell_type": "code",
      "metadata": {
        "execution": {
          "iopub.execute_input": "2021-09-17T05:20:49.250050Z",
          "iopub.status.busy": "2021-09-17T05:20:49.249313Z",
          "iopub.status.idle": "2021-09-17T05:21:09.631825Z",
          "shell.execute_reply": "2021-09-17T05:21:09.631321Z",
          "shell.execute_reply.started": "2021-09-17T05:14:46.098811Z"
        },
        "papermill": {
          "duration": 20.476082,
          "end_time": "2021-09-17T05:21:09.632016",
          "exception": false,
          "start_time": "2021-09-17T05:20:49.155934",
          "status": "completed"
        },
        "tags": [],
        "colab": {
          "base_uri": "https://localhost:8080/"
        },
        "id": "WuNqhf2USobM",
        "outputId": "4aa8bbb8-613d-4edd-e1c6-a0f59c209c37"
      },
      "source": [
        "optimizer = torch.optim.Adam(itertools.chain(model.parameters(), pred.parameters()), lr=0.01)\n",
        "\n",
        "best_val_auc = 0\n",
        "\n",
        "all_logits = []\n",
        "for e in range(200):\n",
        "    # forward\n",
        "    h = model(train_g)\n",
        "    pos_score = pred(train_pos_g, h)\n",
        "    neg_score = pred(train_neg_g, h)\n",
        "    loss = compute_loss(pos_score, neg_score)\n",
        "\n",
        "    # backward\n",
        "    optimizer.zero_grad()\n",
        "    loss.backward()\n",
        "    optimizer.step()\n",
        "\n",
        "    with torch.no_grad():\n",
        "        pos_score = pred(val_pos_g, h)\n",
        "        neg_score = pred(val_neg_g, h)\n",
        "        val_auc = compute_auc(pos_score, neg_score)\n",
        "    \n",
        "    if best_val_auc < val_auc:\n",
        "        best_val_auc = val_auc\n",
        "\n",
        "    if e % 5 == 0:\n",
        "        print('In epoch {}, loss: {:.3f}, val_auc: {:.3f}, best_val_auc: {:.3f}'.format(\n",
        "            e, loss, val_auc, best_val_auc))\n",
        "        \n",
        "    # if e % 100 == 0:\n",
        "    #     optimizer = torch.optim.Adam(itertools.chain(model.parameters(), pred.parameters()), lr=0.01)\n",
        "        "
      ],
      "id": "WuNqhf2USobM",
      "execution_count": 120,
      "outputs": [
        {
          "output_type": "stream",
          "name": "stdout",
          "text": [
            "In epoch 0, loss: 3.984, val_auc: 0.683, best_val_auc: 0.683\n",
            "In epoch 5, loss: 0.705, val_auc: 0.851, best_val_auc: 0.867\n",
            "In epoch 10, loss: 0.654, val_auc: 0.870, best_val_auc: 0.870\n",
            "In epoch 15, loss: 0.620, val_auc: 0.893, best_val_auc: 0.893\n",
            "In epoch 20, loss: 0.581, val_auc: 0.910, best_val_auc: 0.910\n",
            "In epoch 25, loss: 0.560, val_auc: 0.918, best_val_auc: 0.918\n",
            "In epoch 30, loss: 0.543, val_auc: 0.923, best_val_auc: 0.923\n",
            "In epoch 35, loss: 0.529, val_auc: 0.926, best_val_auc: 0.926\n",
            "In epoch 40, loss: 0.520, val_auc: 0.926, best_val_auc: 0.927\n",
            "In epoch 45, loss: 0.513, val_auc: 0.927, best_val_auc: 0.928\n",
            "In epoch 50, loss: 0.507, val_auc: 0.928, best_val_auc: 0.929\n",
            "In epoch 55, loss: 0.502, val_auc: 0.930, best_val_auc: 0.931\n",
            "In epoch 60, loss: 0.498, val_auc: 0.932, best_val_auc: 0.932\n",
            "In epoch 65, loss: 0.495, val_auc: 0.934, best_val_auc: 0.934\n",
            "In epoch 70, loss: 0.492, val_auc: 0.936, best_val_auc: 0.936\n",
            "In epoch 75, loss: 0.489, val_auc: 0.938, best_val_auc: 0.938\n",
            "In epoch 80, loss: 0.486, val_auc: 0.939, best_val_auc: 0.939\n",
            "In epoch 85, loss: 0.483, val_auc: 0.941, best_val_auc: 0.941\n",
            "In epoch 90, loss: 0.481, val_auc: 0.942, best_val_auc: 0.942\n",
            "In epoch 95, loss: 0.479, val_auc: 0.943, best_val_auc: 0.943\n",
            "In epoch 100, loss: 0.476, val_auc: 0.945, best_val_auc: 0.945\n",
            "In epoch 105, loss: 0.474, val_auc: 0.946, best_val_auc: 0.946\n",
            "In epoch 110, loss: 0.471, val_auc: 0.947, best_val_auc: 0.947\n",
            "In epoch 115, loss: 0.467, val_auc: 0.949, best_val_auc: 0.949\n",
            "In epoch 120, loss: 0.462, val_auc: 0.952, best_val_auc: 0.952\n",
            "In epoch 125, loss: 0.453, val_auc: 0.957, best_val_auc: 0.957\n",
            "In epoch 130, loss: 0.440, val_auc: 0.965, best_val_auc: 0.965\n",
            "In epoch 135, loss: 0.421, val_auc: 0.976, best_val_auc: 0.976\n",
            "In epoch 140, loss: 0.403, val_auc: 0.984, best_val_auc: 0.984\n",
            "In epoch 145, loss: 0.393, val_auc: 0.987, best_val_auc: 0.987\n",
            "In epoch 150, loss: 0.389, val_auc: 0.989, best_val_auc: 0.989\n",
            "In epoch 155, loss: 0.623, val_auc: 0.906, best_val_auc: 0.989\n",
            "In epoch 160, loss: 0.569, val_auc: 0.917, best_val_auc: 0.989\n",
            "In epoch 165, loss: 0.561, val_auc: 0.931, best_val_auc: 0.989\n",
            "In epoch 170, loss: 0.532, val_auc: 0.927, best_val_auc: 0.989\n",
            "In epoch 175, loss: 0.516, val_auc: 0.928, best_val_auc: 0.989\n",
            "In epoch 180, loss: 0.501, val_auc: 0.930, best_val_auc: 0.989\n",
            "In epoch 185, loss: 0.497, val_auc: 0.931, best_val_auc: 0.989\n",
            "In epoch 190, loss: 0.494, val_auc: 0.929, best_val_auc: 0.989\n",
            "In epoch 195, loss: 0.492, val_auc: 0.929, best_val_auc: 0.989\n"
          ]
        }
      ]
    },
    {
      "cell_type": "code",
      "metadata": {
        "colab": {
          "base_uri": "https://localhost:8080/"
        },
        "id": "BptlBAlfSobM",
        "outputId": "18969eb8-5020-48d2-9e53-bb222fd89909"
      },
      "source": [
        "with torch.no_grad():\n",
        "    pos_score = pred(test_pos_g, h)\n",
        "    neg_score = pred(test_neg_g, h)\n",
        "    test_auc = compute_auc(pos_score, neg_score)\n",
        "\n",
        "print(test_auc)"
      ],
      "id": "BptlBAlfSobM",
      "execution_count": 121,
      "outputs": [
        {
          "output_type": "stream",
          "name": "stdout",
          "text": [
            "0.9344475480114015\n"
          ]
        }
      ]
    },
    {
      "cell_type": "markdown",
      "metadata": {
        "papermill": {
          "duration": 0.0833,
          "end_time": "2021-09-17T05:20:48.166067",
          "exception": false,
          "start_time": "2021-09-17T05:20:48.082767",
          "status": "completed"
        },
        "tags": [],
        "id": "sLVINVxYSobM"
      },
      "source": [
        "### LOSS: BCE, METRIC: HITS@K, TRAIN THE GRAPH AND TEST"
      ],
      "id": "sLVINVxYSobM"
    },
    {
      "cell_type": "code",
      "metadata": {
        "execution": {
          "iopub.execute_input": "2021-09-17T05:20:49.058595Z",
          "iopub.status.busy": "2021-09-17T05:20:49.057614Z",
          "iopub.status.idle": "2021-09-17T05:20:49.072469Z",
          "shell.execute_reply": "2021-09-17T05:20:49.071845Z",
          "shell.execute_reply.started": "2021-09-17T05:14:28.110922Z"
        },
        "papermill": {
          "duration": 0.101065,
          "end_time": "2021-09-17T05:20:49.072602",
          "exception": false,
          "start_time": "2021-09-17T05:20:48.971537",
          "status": "completed"
        },
        "tags": [],
        "id": "yz4WCyV_SobM"
      },
      "source": [
        "set_seed()\n",
        "\n",
        "model = ParallelPathGCNModelWithResidualConnections(train_g.ndata['feat'].shape[1], 32, 16).to(device)\n",
        "\n",
        "#pred = MLPPredictor(16).to(device)\n",
        "pred = DotPredictor().to(device)\n",
        "\n",
        "def compute_loss(pos_score, neg_score):\n",
        "    scores = torch.cat([pos_score, neg_score])\n",
        "    labels = torch.cat([torch.ones(pos_score.shape[0]), torch.zeros(neg_score.shape[0])]).to(device)\n",
        "    return F.binary_cross_entropy_with_logits(scores, labels)\n",
        "\n",
        "def compute_hits_k(pos_score, neg_score, K):\n",
        "    y_pred_neg = neg_score\n",
        "    y_pred_pos = pos_score\n",
        "    if len(y_pred_neg) < K:\n",
        "        return 1.\n",
        "\n",
        "    kth_score_in_negative_edges = torch.topk(y_pred_neg, K)[0][-1]\n",
        "    hitsK = float(torch.sum(y_pred_pos > kth_score_in_negative_edges).cpu()) / len(y_pred_pos)\n",
        "    return hitsK"
      ],
      "id": "yz4WCyV_SobM",
      "execution_count": 122,
      "outputs": []
    },
    {
      "cell_type": "code",
      "metadata": {
        "execution": {
          "iopub.execute_input": "2021-09-17T05:20:49.250050Z",
          "iopub.status.busy": "2021-09-17T05:20:49.249313Z",
          "iopub.status.idle": "2021-09-17T05:21:09.631825Z",
          "shell.execute_reply": "2021-09-17T05:21:09.631321Z",
          "shell.execute_reply.started": "2021-09-17T05:14:46.098811Z"
        },
        "papermill": {
          "duration": 20.476082,
          "end_time": "2021-09-17T05:21:09.632016",
          "exception": false,
          "start_time": "2021-09-17T05:20:49.155934",
          "status": "completed"
        },
        "tags": [],
        "colab": {
          "base_uri": "https://localhost:8080/"
        },
        "id": "x969L5bnSobN",
        "outputId": "49c879a9-7cf7-4cee-d3d7-104e5eda83c2"
      },
      "source": [
        "optimizer = torch.optim.Adam(itertools.chain(model.parameters(), pred.parameters()), lr=0.01)\n",
        "\n",
        "best_val_hits_k = -float('inf')\n",
        "\n",
        "k_hits = 20\n",
        "\n",
        "all_logits = []\n",
        "for e in range(200):\n",
        "    # forward\n",
        "    h = model(train_g)\n",
        "    pos_score = pred(train_pos_g, h)\n",
        "    neg_score = pred(train_neg_g, h)\n",
        "    loss = compute_loss(pos_score, neg_score)\n",
        "\n",
        "    # backward\n",
        "    optimizer.zero_grad()\n",
        "    loss.backward()\n",
        "    optimizer.step()\n",
        "\n",
        "    with torch.no_grad():\n",
        "        pos_score = pred(val_pos_g, h)\n",
        "        neg_score = pred(val_neg_g, h)\n",
        "        val_hits_k = compute_hits_k(pos_score, neg_score, k_hits)\n",
        "    \n",
        "    if best_val_hits_k < val_hits_k:\n",
        "        best_val_hits_k = val_hits_k\n",
        "    \n",
        "    # break \n",
        "\n",
        "    if e % 5 == 0:\n",
        "        print('In epoch {}, loss: {:.3f}, val_hits_k: {:.6f}, best_val_hits_k: {:.6f}'.format(\n",
        "            e, loss, val_hits_k, best_val_hits_k))\n",
        "    \n",
        "    # if e % 100 == 0:\n",
        "    #     optimizer = torch.optim.Adam(itertools.chain(model.parameters(), pred.parameters()), lr=0.01)\n",
        "        "
      ],
      "id": "x969L5bnSobN",
      "execution_count": 123,
      "outputs": [
        {
          "output_type": "stream",
          "name": "stdout",
          "text": [
            "In epoch 0, loss: 3.984, val_hits_k: 0.000017, best_val_hits_k: 0.000017\n",
            "In epoch 5, loss: 0.705, val_hits_k: 0.000543, best_val_hits_k: 0.000900\n",
            "In epoch 10, loss: 0.654, val_hits_k: 0.000000, best_val_hits_k: 0.000900\n",
            "In epoch 15, loss: 0.620, val_hits_k: 0.000000, best_val_hits_k: 0.000900\n",
            "In epoch 20, loss: 0.581, val_hits_k: 0.000000, best_val_hits_k: 0.000900\n",
            "In epoch 25, loss: 0.560, val_hits_k: 0.000000, best_val_hits_k: 0.000900\n",
            "In epoch 30, loss: 0.543, val_hits_k: 0.000000, best_val_hits_k: 0.000900\n",
            "In epoch 35, loss: 0.529, val_hits_k: 0.000000, best_val_hits_k: 0.000900\n",
            "In epoch 40, loss: 0.520, val_hits_k: 0.000000, best_val_hits_k: 0.000900\n",
            "In epoch 45, loss: 0.513, val_hits_k: 0.000000, best_val_hits_k: 0.000900\n",
            "In epoch 50, loss: 0.507, val_hits_k: 0.000000, best_val_hits_k: 0.000900\n",
            "In epoch 55, loss: 0.502, val_hits_k: 0.000000, best_val_hits_k: 0.000900\n",
            "In epoch 60, loss: 0.498, val_hits_k: 0.000000, best_val_hits_k: 0.000900\n",
            "In epoch 65, loss: 0.495, val_hits_k: 0.000000, best_val_hits_k: 0.000900\n",
            "In epoch 70, loss: 0.492, val_hits_k: 0.000000, best_val_hits_k: 0.000900\n",
            "In epoch 75, loss: 0.489, val_hits_k: 0.000000, best_val_hits_k: 0.000900\n",
            "In epoch 80, loss: 0.486, val_hits_k: 0.000000, best_val_hits_k: 0.000900\n",
            "In epoch 85, loss: 0.483, val_hits_k: 0.000000, best_val_hits_k: 0.000900\n",
            "In epoch 90, loss: 0.481, val_hits_k: 0.000000, best_val_hits_k: 0.000900\n",
            "In epoch 95, loss: 0.479, val_hits_k: 0.000000, best_val_hits_k: 0.000900\n",
            "In epoch 100, loss: 0.476, val_hits_k: 0.000000, best_val_hits_k: 0.000900\n",
            "In epoch 105, loss: 0.474, val_hits_k: 0.000000, best_val_hits_k: 0.000900\n",
            "In epoch 110, loss: 0.471, val_hits_k: 0.000000, best_val_hits_k: 0.000900\n",
            "In epoch 115, loss: 0.467, val_hits_k: 0.000000, best_val_hits_k: 0.000900\n",
            "In epoch 120, loss: 0.461, val_hits_k: 0.000042, best_val_hits_k: 0.000900\n",
            "In epoch 125, loss: 0.452, val_hits_k: 0.003913, best_val_hits_k: 0.003913\n",
            "In epoch 130, loss: 0.439, val_hits_k: 0.066361, best_val_hits_k: 0.066361\n",
            "In epoch 135, loss: 0.420, val_hits_k: 0.085890, best_val_hits_k: 0.090100\n",
            "In epoch 140, loss: 0.402, val_hits_k: 0.094649, best_val_hits_k: 0.095981\n",
            "In epoch 145, loss: 0.393, val_hits_k: 0.085237, best_val_hits_k: 0.095981\n",
            "In epoch 150, loss: 0.389, val_hits_k: 0.075765, best_val_hits_k: 0.095981\n",
            "In epoch 155, loss: 0.614, val_hits_k: 0.000000, best_val_hits_k: 0.095981\n",
            "In epoch 160, loss: 0.680, val_hits_k: 0.000000, best_val_hits_k: 0.095981\n",
            "In epoch 165, loss: 0.457, val_hits_k: 0.000000, best_val_hits_k: 0.095981\n",
            "In epoch 170, loss: 0.438, val_hits_k: 0.005466, best_val_hits_k: 0.102915\n",
            "In epoch 175, loss: 0.404, val_hits_k: 0.095065, best_val_hits_k: 0.102915\n",
            "In epoch 180, loss: 0.409, val_hits_k: 0.036011, best_val_hits_k: 0.102915\n",
            "In epoch 185, loss: 0.403, val_hits_k: 0.103569, best_val_hits_k: 0.103569\n",
            "In epoch 190, loss: 0.401, val_hits_k: 0.099453, best_val_hits_k: 0.103569\n",
            "In epoch 195, loss: 0.399, val_hits_k: 0.093639, best_val_hits_k: 0.103569\n"
          ]
        }
      ]
    },
    {
      "cell_type": "code",
      "metadata": {
        "id": "Y_xUxtt6SobN",
        "colab": {
          "base_uri": "https://localhost:8080/"
        },
        "outputId": "9c210291-f15e-47a4-c607-7b765b47fc76"
      },
      "source": [
        "with torch.no_grad():\n",
        "    pos_score = pred(test_pos_g, h)\n",
        "    neg_score = pred(test_neg_g, h)\n",
        "    test_hits_k = compute_hits_k(pos_score, neg_score, k_hits)\n",
        "\n",
        "print(test_hits_k)"
      ],
      "id": "Y_xUxtt6SobN",
      "execution_count": 124,
      "outputs": [
        {
          "output_type": "stream",
          "name": "stdout",
          "text": [
            "0.05080394311927384\n"
          ]
        }
      ]
    },
    {
      "cell_type": "markdown",
      "metadata": {
        "papermill": {
          "duration": 0.0833,
          "end_time": "2021-09-17T05:20:48.166067",
          "exception": false,
          "start_time": "2021-09-17T05:20:48.082767",
          "status": "completed"
        },
        "tags": [],
        "id": "0cd803ba"
      },
      "source": [
        "## MODEL: Preliminary GRAPHSAGE, METRIC: AUC, HITS"
      ],
      "id": "0cd803ba"
    },
    {
      "cell_type": "markdown",
      "metadata": {
        "id": "hKC5lXTk0wb7"
      },
      "source": [
        "### MODEL AND PREDICTOR"
      ],
      "id": "hKC5lXTk0wb7"
    },
    {
      "cell_type": "code",
      "metadata": {
        "execution": {
          "iopub.execute_input": "2021-09-17T05:20:48.336168Z",
          "iopub.status.busy": "2021-09-17T05:20:48.335498Z",
          "iopub.status.idle": "2021-09-17T05:20:48.341328Z",
          "shell.execute_reply": "2021-09-17T05:20:48.341868Z",
          "shell.execute_reply.started": "2021-09-17T05:13:27.979053Z"
        },
        "papermill": {
          "duration": 0.092783,
          "end_time": "2021-09-17T05:20:48.342064",
          "exception": false,
          "start_time": "2021-09-17T05:20:48.249281",
          "status": "completed"
        },
        "tags": [],
        "id": "fae8437b"
      },
      "source": [
        "class GraphSAGE(nn.Module):\n",
        "    def __init__(self, in_feats, h_feats):\n",
        "        super(GraphSAGE, self).__init__()\n",
        "        self.conv1 = SAGEConv(in_feats, h_feats, 'mean')\n",
        "        self.conv2 = SAGEConv(h_feats, h_feats, 'mean')\n",
        "\n",
        "    def forward(self, g, in_feat):\n",
        "        h = self.conv1(g, in_feat)\n",
        "        h = F.relu(h)\n",
        "        h = self.conv2(g, h)\n",
        "        return h"
      ],
      "id": "fae8437b",
      "execution_count": 125,
      "outputs": []
    },
    {
      "cell_type": "code",
      "metadata": {
        "execution": {
          "iopub.execute_input": "2021-09-17T05:20:48.701576Z",
          "iopub.status.busy": "2021-09-17T05:20:48.700850Z",
          "iopub.status.idle": "2021-09-17T05:20:48.706029Z",
          "shell.execute_reply": "2021-09-17T05:20:48.706549Z",
          "shell.execute_reply.started": "2021-09-17T05:13:58.880511Z"
        },
        "papermill": {
          "duration": 0.092799,
          "end_time": "2021-09-17T05:20:48.706718",
          "exception": false,
          "start_time": "2021-09-17T05:20:48.613919",
          "status": "completed"
        },
        "tags": [],
        "id": "977c3307"
      },
      "source": [
        "class DotPredictor(nn.Module):\n",
        "    def forward(self, g, h):\n",
        "        with g.local_scope():\n",
        "            g.ndata['h'] = h\n",
        "            g.apply_edges(fn.u_dot_v('h', 'h', 'score'))\n",
        "            return g.edata['score'][:, 0]\n",
        "\n",
        "class MLPPredictor(nn.Module):\n",
        "    def __init__(self, h_feats):\n",
        "        super().__init__()\n",
        "        self.W1 = nn.Linear(h_feats * 2, h_feats)\n",
        "        self.W2 = nn.Linear(h_feats, 1)\n",
        "\n",
        "    def apply_edges(self, edges):\n",
        "        h = torch.cat([edges.src['h'], edges.dst['h']], 1)\n",
        "        return {'score': self.W2(F.relu(self.W1(h))).squeeze(1)}\n",
        "\n",
        "    def forward(self, g, h):\n",
        "        with g.local_scope():\n",
        "            g.ndata['h'] = h\n",
        "            g.apply_edges(self.apply_edges)\n",
        "            return g.edata['score']"
      ],
      "id": "977c3307",
      "execution_count": 126,
      "outputs": []
    },
    {
      "cell_type": "markdown",
      "metadata": {
        "id": "boOsmMtL06xi"
      },
      "source": [
        "### TRAIN, VAL and TEST Graphs (POS AND NEG)"
      ],
      "id": "boOsmMtL06xi"
    },
    {
      "cell_type": "code",
      "metadata": {
        "execution": {
          "iopub.execute_input": "2021-09-17T05:20:48.515152Z",
          "iopub.status.busy": "2021-09-17T05:20:48.514373Z",
          "iopub.status.idle": "2021-09-17T05:20:48.528398Z",
          "shell.execute_reply": "2021-09-17T05:20:48.528950Z",
          "shell.execute_reply.started": "2021-09-17T05:13:44.690163Z"
        },
        "papermill": {
          "duration": 0.101705,
          "end_time": "2021-09-17T05:20:48.529132",
          "exception": false,
          "start_time": "2021-09-17T05:20:48.427427",
          "status": "completed"
        },
        "tags": [],
        "id": "eff69cac"
      },
      "source": [
        "train_pos_g = dgl.graph((train_pos_u, train_pos_v), num_nodes=g.number_of_nodes()).to(device)\n",
        "train_neg_g = dgl.graph((train_neg_u, train_neg_v), num_nodes=g.number_of_nodes()).to(device)\n",
        "\n",
        "val_pos_g = dgl.graph((val_pos_u, val_pos_v), num_nodes=g.number_of_nodes()).to(device)\n",
        "val_neg_g = dgl.graph((val_neg_u, val_neg_v), num_nodes=g.number_of_nodes()).to(device)\n",
        "\n",
        "test_pos_g = dgl.graph((test_pos_u, test_pos_v), num_nodes=g.number_of_nodes()).to(device)\n",
        "test_neg_g = dgl.graph((test_neg_u, test_neg_v), num_nodes=g.number_of_nodes()).to(device)"
      ],
      "id": "eff69cac",
      "execution_count": 127,
      "outputs": []
    },
    {
      "cell_type": "markdown",
      "metadata": {
        "id": "BOqTSBWq1A-L"
      },
      "source": [
        "### LOSS: BCE , METRIC: AUC, TRAIN THE GRAPH AND TEST"
      ],
      "id": "BOqTSBWq1A-L"
    },
    {
      "cell_type": "code",
      "metadata": {
        "execution": {
          "iopub.execute_input": "2021-09-17T05:20:49.058595Z",
          "iopub.status.busy": "2021-09-17T05:20:49.057614Z",
          "iopub.status.idle": "2021-09-17T05:20:49.072469Z",
          "shell.execute_reply": "2021-09-17T05:20:49.071845Z",
          "shell.execute_reply.started": "2021-09-17T05:14:28.110922Z"
        },
        "papermill": {
          "duration": 0.101065,
          "end_time": "2021-09-17T05:20:49.072602",
          "exception": false,
          "start_time": "2021-09-17T05:20:48.971537",
          "status": "completed"
        },
        "tags": [],
        "id": "43258bb7"
      },
      "source": [
        "set_seed()\n",
        "\n",
        "model = GraphSAGE(train_g.ndata['feat'].shape[1], 16).to(device)\n",
        "pred = DotPredictor().to(device)\n",
        "\n",
        "def compute_loss(pos_score, neg_score):\n",
        "    scores = torch.cat([pos_score, neg_score])\n",
        "    labels = torch.cat([torch.ones(pos_score.shape[0]), torch.zeros(neg_score.shape[0])]).to(device)\n",
        "    return F.binary_cross_entropy_with_logits(scores, labels)\n",
        "\n",
        "def compute_auc(pos_score, neg_score):\n",
        "    scores = torch.cat([pos_score, neg_score]).cpu().numpy()\n",
        "    labels = torch.cat(\n",
        "        [torch.ones(pos_score.shape[0]), torch.zeros(neg_score.shape[0])]).numpy()\n",
        "    return roc_auc_score(labels, scores)"
      ],
      "id": "43258bb7",
      "execution_count": 128,
      "outputs": []
    },
    {
      "cell_type": "code",
      "metadata": {
        "execution": {
          "iopub.execute_input": "2021-09-17T05:20:49.250050Z",
          "iopub.status.busy": "2021-09-17T05:20:49.249313Z",
          "iopub.status.idle": "2021-09-17T05:21:09.631825Z",
          "shell.execute_reply": "2021-09-17T05:21:09.631321Z",
          "shell.execute_reply.started": "2021-09-17T05:14:46.098811Z"
        },
        "papermill": {
          "duration": 20.476082,
          "end_time": "2021-09-17T05:21:09.632016",
          "exception": false,
          "start_time": "2021-09-17T05:20:49.155934",
          "status": "completed"
        },
        "tags": [],
        "id": "e852df29",
        "colab": {
          "base_uri": "https://localhost:8080/"
        },
        "outputId": "0a7f0a9e-eb4d-4c24-e3bb-a4349587c9d4"
      },
      "source": [
        "optimizer = torch.optim.Adam(itertools.chain(model.parameters(), pred.parameters()), lr=0.01)\n",
        "\n",
        "best_val_auc = 0\n",
        "\n",
        "all_logits = []\n",
        "for e in range(200):\n",
        "    # forward\n",
        "    h = model(train_g, train_g.ndata['feat'])\n",
        "    pos_score = pred(train_pos_g, h)\n",
        "    neg_score = pred(train_neg_g, h)\n",
        "    loss = compute_loss(pos_score, neg_score)\n",
        "\n",
        "    # backward\n",
        "    optimizer.zero_grad()\n",
        "    loss.backward()\n",
        "    optimizer.step()\n",
        "\n",
        "    with torch.no_grad():\n",
        "        pos_score = pred(val_pos_g, h)\n",
        "        neg_score = pred(val_neg_g, h)\n",
        "        val_auc = compute_auc(pos_score, neg_score)\n",
        "    \n",
        "    if best_val_auc < val_auc:\n",
        "        best_val_auc = val_auc\n",
        "\n",
        "    if e % 5 == 0:\n",
        "        print('In epoch {}, loss: {:.3f}, val_auc: {:.3f}, best_val_auc: {:.3f}'.format(\n",
        "            e, loss, val_auc, best_val_auc))\n",
        "        \n"
      ],
      "id": "e852df29",
      "execution_count": 129,
      "outputs": [
        {
          "output_type": "stream",
          "name": "stdout",
          "text": [
            "In epoch 0, loss: 20.142, val_auc: 0.773, best_val_auc: 0.773\n",
            "In epoch 5, loss: 0.750, val_auc: 0.775, best_val_auc: 0.775\n",
            "In epoch 10, loss: 0.697, val_auc: 0.627, best_val_auc: 0.775\n",
            "In epoch 15, loss: 0.697, val_auc: 0.667, best_val_auc: 0.775\n",
            "In epoch 20, loss: 0.696, val_auc: 0.602, best_val_auc: 0.775\n",
            "In epoch 25, loss: 0.696, val_auc: 0.578, best_val_auc: 0.775\n",
            "In epoch 30, loss: 0.696, val_auc: 0.586, best_val_auc: 0.775\n",
            "In epoch 35, loss: 0.695, val_auc: 0.462, best_val_auc: 0.775\n",
            "In epoch 40, loss: 0.695, val_auc: 0.441, best_val_auc: 0.775\n",
            "In epoch 45, loss: 0.695, val_auc: 0.445, best_val_auc: 0.775\n",
            "In epoch 50, loss: 0.695, val_auc: 0.448, best_val_auc: 0.775\n",
            "In epoch 55, loss: 0.695, val_auc: 0.450, best_val_auc: 0.775\n",
            "In epoch 60, loss: 0.694, val_auc: 0.451, best_val_auc: 0.775\n",
            "In epoch 65, loss: 0.694, val_auc: 0.449, best_val_auc: 0.775\n",
            "In epoch 70, loss: 0.694, val_auc: 0.450, best_val_auc: 0.775\n",
            "In epoch 75, loss: 0.694, val_auc: 0.452, best_val_auc: 0.775\n",
            "In epoch 80, loss: 0.694, val_auc: 0.453, best_val_auc: 0.775\n",
            "In epoch 85, loss: 0.694, val_auc: 0.454, best_val_auc: 0.775\n",
            "In epoch 90, loss: 0.694, val_auc: 0.455, best_val_auc: 0.775\n",
            "In epoch 95, loss: 0.694, val_auc: 0.455, best_val_auc: 0.775\n",
            "In epoch 100, loss: 0.694, val_auc: 0.456, best_val_auc: 0.775\n",
            "In epoch 105, loss: 0.694, val_auc: 0.456, best_val_auc: 0.775\n",
            "In epoch 110, loss: 0.694, val_auc: 0.458, best_val_auc: 0.775\n",
            "In epoch 115, loss: 0.694, val_auc: 0.459, best_val_auc: 0.775\n",
            "In epoch 120, loss: 0.694, val_auc: 0.471, best_val_auc: 0.775\n",
            "In epoch 125, loss: 0.694, val_auc: 0.473, best_val_auc: 0.775\n",
            "In epoch 130, loss: 0.694, val_auc: 0.473, best_val_auc: 0.775\n",
            "In epoch 135, loss: 0.693, val_auc: 0.476, best_val_auc: 0.775\n",
            "In epoch 140, loss: 0.693, val_auc: 0.485, best_val_auc: 0.775\n",
            "In epoch 145, loss: 0.693, val_auc: 0.486, best_val_auc: 0.775\n",
            "In epoch 150, loss: 0.693, val_auc: 0.486, best_val_auc: 0.775\n",
            "In epoch 155, loss: 0.693, val_auc: 0.487, best_val_auc: 0.775\n",
            "In epoch 160, loss: 0.693, val_auc: 0.517, best_val_auc: 0.775\n",
            "In epoch 165, loss: 0.693, val_auc: 0.519, best_val_auc: 0.775\n",
            "In epoch 170, loss: 0.693, val_auc: 0.520, best_val_auc: 0.775\n",
            "In epoch 175, loss: 0.693, val_auc: 0.522, best_val_auc: 0.775\n",
            "In epoch 180, loss: 0.693, val_auc: 0.522, best_val_auc: 0.775\n",
            "In epoch 185, loss: 0.693, val_auc: 0.523, best_val_auc: 0.775\n",
            "In epoch 190, loss: 0.693, val_auc: 0.523, best_val_auc: 0.775\n",
            "In epoch 195, loss: 0.693, val_auc: 0.528, best_val_auc: 0.775\n"
          ]
        }
      ]
    },
    {
      "cell_type": "code",
      "metadata": {
        "colab": {
          "base_uri": "https://localhost:8080/"
        },
        "id": "eExWq_ztDYg_",
        "outputId": "e7878e93-d481-45d6-a513-bfc794a4feaf"
      },
      "source": [
        "with torch.no_grad():\n",
        "    pos_score = pred(test_pos_g, h)\n",
        "    neg_score = pred(test_neg_g, h)\n",
        "    test_auc = compute_auc(pos_score, neg_score)\n",
        "\n",
        "print(test_auc)"
      ],
      "id": "eExWq_ztDYg_",
      "execution_count": 130,
      "outputs": [
        {
          "output_type": "stream",
          "name": "stdout",
          "text": [
            "0.5380549744451388\n"
          ]
        }
      ]
    },
    {
      "cell_type": "markdown",
      "metadata": {
        "id": "aSv2IobG1NfD"
      },
      "source": [
        "### VIEWING HITS@10, HITS@20, HITS@30 METRICS ON THE RESULT"
      ],
      "id": "aSv2IobG1NfD"
    },
    {
      "cell_type": "code",
      "metadata": {
        "colab": {
          "base_uri": "https://localhost:8080/"
        },
        "id": "6ZgKbURWqivp",
        "outputId": "31a0e75f-4fda-44fe-f6dc-5a60de957b3a"
      },
      "source": [
        "# https://ogb.stanford.edu/docs/linkprop/#ogbl-ddi\n",
        "# https://github.com/CUAI/Edge-Proposal-Sets/blob/master/train_and_eval.py#L96\n",
        "\n",
        "pos_valid_pred = pred(val_pos_g, h)\n",
        "neg_valid_pred = pred(val_neg_g, h)\n",
        "# val_auc = compute_auc(pos_score, neg_score)\n",
        "pos_test_pred = pred(test_pos_g, h)\n",
        "neg_test_pred = pred(test_neg_g, h)\n",
        "# test_auc = compute_auc(pos_score, neg_score)\n",
        "\n",
        "evaluator = Evaluator(name='ogbl-ddi')\n",
        "hits = {\n",
        "    \"ddi\": [10,20,30],\n",
        "}\n",
        "\n",
        "results = {}\n",
        "with torch.no_grad():\n",
        "    for K in hits[\"ddi\"]:\n",
        "        evaluator.K = K\n",
        "        # train_hits = evaluator.eval({\n",
        "        #     'y_pred_pos': pos_train_pred,\n",
        "        #     'y_pred_neg': neg_valid_pred,\n",
        "        # })[f'hits@{K}']\n",
        "        valid_hits = evaluator.eval({\n",
        "            'y_pred_pos': pos_valid_pred,\n",
        "            'y_pred_neg': neg_valid_pred,\n",
        "        })[f'hits@{K}']\n",
        "        test_hits = evaluator.eval({\n",
        "            'y_pred_pos': pos_test_pred,\n",
        "            'y_pred_neg': neg_test_pred,\n",
        "        })[f'hits@{K}']\n",
        "\n",
        "        results[f'Hits@{K}'] = (valid_hits, test_hits)\n",
        "    print(results)"
      ],
      "id": "6ZgKbURWqivp",
      "execution_count": 131,
      "outputs": [
        {
          "output_type": "stream",
          "name": "stdout",
          "text": [
            "{'Hits@10': (0.0002121790791427965, 0.000182473233722751), 'Hits@20': (0.000305537873965627, 0.0002546138144968619), 'Hits@30': (0.00038192234245703374, 0.00034797221314571125)}\n"
          ]
        }
      ]
    },
    {
      "cell_type": "markdown",
      "metadata": {
        "papermill": {
          "duration": 0.0833,
          "end_time": "2021-09-17T05:20:48.166067",
          "exception": false,
          "start_time": "2021-09-17T05:20:48.082767",
          "status": "completed"
        },
        "tags": [],
        "id": "mI-glzjH0HoI"
      },
      "source": [
        "### LOSS: BCE, METRIC: HITS@K, TRAIN THE GRAPH AND TEST"
      ],
      "id": "mI-glzjH0HoI"
    },
    {
      "cell_type": "code",
      "metadata": {
        "execution": {
          "iopub.execute_input": "2021-09-17T05:20:49.058595Z",
          "iopub.status.busy": "2021-09-17T05:20:49.057614Z",
          "iopub.status.idle": "2021-09-17T05:20:49.072469Z",
          "shell.execute_reply": "2021-09-17T05:20:49.071845Z",
          "shell.execute_reply.started": "2021-09-17T05:14:28.110922Z"
        },
        "papermill": {
          "duration": 0.101065,
          "end_time": "2021-09-17T05:20:49.072602",
          "exception": false,
          "start_time": "2021-09-17T05:20:48.971537",
          "status": "completed"
        },
        "tags": [],
        "id": "yK1YNug00HoK"
      },
      "source": [
        "set_seed()\n",
        "\n",
        "model = GraphSAGE(train_g.ndata['feat'].shape[1], 16).to(device)\n",
        "\n",
        "#pred = MLPPredictor(16).to(device)\n",
        "pred = DotPredictor().to(device)\n",
        "\n",
        "def compute_loss(pos_score, neg_score):\n",
        "    scores = torch.cat([pos_score, neg_score])\n",
        "    labels = torch.cat([torch.ones(pos_score.shape[0]), torch.zeros(neg_score.shape[0])]).to(device)\n",
        "    return F.binary_cross_entropy_with_logits(scores, labels)\n",
        "\n",
        "def compute_hits_k(pos_score, neg_score, K):\n",
        "    y_pred_neg = neg_score\n",
        "    y_pred_pos = pos_score\n",
        "    if len(y_pred_neg) < K:\n",
        "        return 1.\n",
        "\n",
        "    kth_score_in_negative_edges = torch.topk(y_pred_neg, K)[0][-1]\n",
        "    hitsK = float(torch.sum(y_pred_pos > kth_score_in_negative_edges).cpu()) / len(y_pred_pos)\n",
        "    return hitsK\n",
        "\n",
        "def compute_hits_k2(pos_score, neg_score, K):\n",
        "    with torch.no_grad():\n",
        "        evaluator = Evaluator(name='ogbl-ddi')\n",
        "        evaluator.K = K\n",
        "        hits = evaluator.eval({\n",
        "                'y_pred_pos': pos_score,\n",
        "                'y_pred_neg': neg_score,\n",
        "            })[f'hits@{K}']\n",
        "        return hits"
      ],
      "id": "yK1YNug00HoK",
      "execution_count": 132,
      "outputs": []
    },
    {
      "cell_type": "code",
      "metadata": {
        "execution": {
          "iopub.execute_input": "2021-09-17T05:20:49.250050Z",
          "iopub.status.busy": "2021-09-17T05:20:49.249313Z",
          "iopub.status.idle": "2021-09-17T05:21:09.631825Z",
          "shell.execute_reply": "2021-09-17T05:21:09.631321Z",
          "shell.execute_reply.started": "2021-09-17T05:14:46.098811Z"
        },
        "papermill": {
          "duration": 20.476082,
          "end_time": "2021-09-17T05:21:09.632016",
          "exception": false,
          "start_time": "2021-09-17T05:20:49.155934",
          "status": "completed"
        },
        "tags": [],
        "colab": {
          "base_uri": "https://localhost:8080/"
        },
        "id": "7PPopanm0HoK",
        "outputId": "a1b8077b-7d2a-420a-db73-b72505b541b9"
      },
      "source": [
        "optimizer = torch.optim.Adam(itertools.chain(model.parameters(), pred.parameters()), lr=0.01)\n",
        "\n",
        "best_val_hits_k = -float('inf')\n",
        "\n",
        "k_hits = 20\n",
        "\n",
        "all_logits = []\n",
        "for e in range(200):\n",
        "    # forward\n",
        "    h = model(train_g, train_g.ndata['feat'])\n",
        "    pos_score = pred(train_pos_g, h)\n",
        "    neg_score = pred(train_neg_g, h)\n",
        "    loss = compute_loss(pos_score, neg_score)\n",
        "\n",
        "    # backward\n",
        "    optimizer.zero_grad()\n",
        "    loss.backward()\n",
        "    optimizer.step()\n",
        "\n",
        "    with torch.no_grad():\n",
        "        pos_score = pred(val_pos_g, h)\n",
        "        neg_score = pred(val_neg_g, h)\n",
        "        val_hits_k = compute_hits_k(pos_score, neg_score, k_hits)\n",
        "    \n",
        "    if best_val_hits_k < val_hits_k:\n",
        "        best_val_hits_k = val_hits_k\n",
        "    \n",
        "    # break \n",
        "\n",
        "    if e % 5 == 0:\n",
        "        print('In epoch {}, loss: {:.3f}, val_hits_k: {:.6f}, best_val_hits_k: {:.6f}'.format(\n",
        "            e, loss, val_hits_k, best_val_hits_k))"
      ],
      "id": "7PPopanm0HoK",
      "execution_count": 133,
      "outputs": [
        {
          "output_type": "stream",
          "name": "stdout",
          "text": [
            "In epoch 0, loss: 20.142, val_hits_k: 0.000000, best_val_hits_k: 0.000000\n",
            "In epoch 5, loss: 0.750, val_hits_k: 0.000000, best_val_hits_k: 0.000000\n",
            "In epoch 10, loss: 0.697, val_hits_k: 0.000059, best_val_hits_k: 0.000059\n",
            "In epoch 15, loss: 0.697, val_hits_k: 0.000161, best_val_hits_k: 0.000161\n",
            "In epoch 20, loss: 0.696, val_hits_k: 0.000204, best_val_hits_k: 0.000204\n",
            "In epoch 25, loss: 0.696, val_hits_k: 0.000221, best_val_hits_k: 0.000221\n",
            "In epoch 30, loss: 0.696, val_hits_k: 0.000263, best_val_hits_k: 0.000263\n",
            "In epoch 35, loss: 0.695, val_hits_k: 0.000263, best_val_hits_k: 0.000263\n",
            "In epoch 40, loss: 0.695, val_hits_k: 0.000246, best_val_hits_k: 0.000263\n",
            "In epoch 45, loss: 0.695, val_hits_k: 0.000263, best_val_hits_k: 0.000263\n",
            "In epoch 50, loss: 0.695, val_hits_k: 0.000255, best_val_hits_k: 0.000263\n",
            "In epoch 55, loss: 0.695, val_hits_k: 0.000263, best_val_hits_k: 0.000263\n",
            "In epoch 60, loss: 0.694, val_hits_k: 0.000263, best_val_hits_k: 0.000263\n",
            "In epoch 65, loss: 0.694, val_hits_k: 0.000263, best_val_hits_k: 0.000263\n",
            "In epoch 70, loss: 0.694, val_hits_k: 0.000272, best_val_hits_k: 0.000272\n",
            "In epoch 75, loss: 0.694, val_hits_k: 0.000263, best_val_hits_k: 0.000280\n",
            "In epoch 80, loss: 0.694, val_hits_k: 0.000272, best_val_hits_k: 0.000280\n",
            "In epoch 85, loss: 0.694, val_hits_k: 0.000272, best_val_hits_k: 0.000280\n",
            "In epoch 90, loss: 0.694, val_hits_k: 0.000272, best_val_hits_k: 0.000280\n",
            "In epoch 95, loss: 0.694, val_hits_k: 0.000280, best_val_hits_k: 0.000280\n",
            "In epoch 100, loss: 0.694, val_hits_k: 0.000280, best_val_hits_k: 0.000280\n",
            "In epoch 105, loss: 0.694, val_hits_k: 0.000280, best_val_hits_k: 0.000280\n",
            "In epoch 110, loss: 0.694, val_hits_k: 0.000289, best_val_hits_k: 0.000289\n",
            "In epoch 115, loss: 0.694, val_hits_k: 0.000289, best_val_hits_k: 0.000289\n",
            "In epoch 120, loss: 0.694, val_hits_k: 0.000289, best_val_hits_k: 0.000289\n",
            "In epoch 125, loss: 0.694, val_hits_k: 0.000289, best_val_hits_k: 0.000289\n",
            "In epoch 130, loss: 0.694, val_hits_k: 0.000289, best_val_hits_k: 0.000289\n",
            "In epoch 135, loss: 0.693, val_hits_k: 0.000297, best_val_hits_k: 0.000297\n",
            "In epoch 140, loss: 0.693, val_hits_k: 0.000297, best_val_hits_k: 0.000297\n",
            "In epoch 145, loss: 0.693, val_hits_k: 0.000297, best_val_hits_k: 0.000297\n",
            "In epoch 150, loss: 0.693, val_hits_k: 0.000297, best_val_hits_k: 0.000297\n",
            "In epoch 155, loss: 0.693, val_hits_k: 0.000306, best_val_hits_k: 0.000306\n",
            "In epoch 160, loss: 0.693, val_hits_k: 0.000306, best_val_hits_k: 0.000306\n",
            "In epoch 165, loss: 0.693, val_hits_k: 0.000306, best_val_hits_k: 0.000306\n",
            "In epoch 170, loss: 0.693, val_hits_k: 0.000306, best_val_hits_k: 0.000306\n",
            "In epoch 175, loss: 0.693, val_hits_k: 0.000306, best_val_hits_k: 0.000306\n",
            "In epoch 180, loss: 0.693, val_hits_k: 0.000306, best_val_hits_k: 0.000306\n",
            "In epoch 185, loss: 0.693, val_hits_k: 0.000306, best_val_hits_k: 0.000306\n",
            "In epoch 190, loss: 0.693, val_hits_k: 0.000306, best_val_hits_k: 0.000306\n",
            "In epoch 195, loss: 0.693, val_hits_k: 0.000306, best_val_hits_k: 0.000306\n"
          ]
        }
      ]
    },
    {
      "cell_type": "code",
      "metadata": {
        "id": "VRKirmSk4kO2",
        "colab": {
          "base_uri": "https://localhost:8080/"
        },
        "outputId": "bd83d066-89bd-4286-962d-d1e4df77ea83"
      },
      "source": [
        "with torch.no_grad():\n",
        "    pos_score = pred(test_pos_g, h)\n",
        "    neg_score = pred(test_neg_g, h)\n",
        "    test_hits_k = compute_hits_k(pos_score, neg_score, k_hits)\n",
        "\n",
        "print(test_hits_k)"
      ],
      "id": "VRKirmSk4kO2",
      "execution_count": 134,
      "outputs": [
        {
          "output_type": "stream",
          "name": "stdout",
          "text": [
            "0.0002546138144968619\n"
          ]
        }
      ]
    },
    {
      "cell_type": "code",
      "metadata": {
        "colab": {
          "base_uri": "https://localhost:8080/"
        },
        "id": "fUMAkXzUFEYr",
        "outputId": "76fef0c6-1353-4ded-e33f-31b79af89bb5"
      },
      "source": [
        "y_pred_neg = neg_score\n",
        "y_pred_pos = pos_score\n",
        "K = 20\n",
        "if len(y_pred_neg) < K:\n",
        "    hitsK = {'hits@{}'.format(K): 1.}\n",
        "\n",
        "kth_score_in_negative_edges = torch.topk(y_pred_neg, K)[0][-1]\n",
        "hitsK = float(torch.sum(y_pred_pos > kth_score_in_negative_edges).cpu()) / len(y_pred_pos)\n",
        "\n",
        "print(hitsK)"
      ],
      "id": "fUMAkXzUFEYr",
      "execution_count": 135,
      "outputs": [
        {
          "output_type": "stream",
          "name": "stdout",
          "text": [
            "0.0002546138144968619\n"
          ]
        }
      ]
    },
    {
      "cell_type": "markdown",
      "metadata": {
        "id": "4nLn5n2nw4xK"
      },
      "source": [
        "## @"
      ],
      "id": "4nLn5n2nw4xK"
    },
    {
      "cell_type": "markdown",
      "metadata": {
        "id": "g6vFB5PE_RSW"
      },
      "source": [
        "## @"
      ],
      "id": "g6vFB5PE_RSW"
    }
  ]
}