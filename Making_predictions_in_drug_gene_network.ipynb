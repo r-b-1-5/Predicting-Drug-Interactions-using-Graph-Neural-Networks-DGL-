{
  "cells": [
    {
      "cell_type": "markdown",
      "source": [
        "## DOWNLOADING THE FILES(if required)"
      ],
      "metadata": {
        "id": "XKrQlj3_yr4N"
      }
    },
    {
      "cell_type": "code",
      "execution_count": null,
      "metadata": {
        "id": "sYQeUWzRbp05"
      },
      "outputs": [],
      "source": [
        "! pip install gdown"
      ]
    },
    {
      "cell_type": "code",
      "execution_count": null,
      "metadata": {
        "id": "FX0_oIhdbrgf"
      },
      "outputs": [],
      "source": [
        "! gdown --folder https://drive.google.com/drive/folders/1g4jlcdFpcDyQAvvkYhugSFKy_5w7qfpM"
      ]
    },
    {
      "cell_type": "code",
      "execution_count": null,
      "metadata": {
        "id": "RQ3omYjXzUhB"
      },
      "outputs": [],
      "source": [
        "! mv /content/Sem8project/* /content/"
      ]
    },
    {
      "cell_type": "markdown",
      "metadata": {
        "id": "IxOMqW401dlr"
      },
      "source": [
        "## INSTALL AND IMPORT"
      ]
    },
    {
      "cell_type": "code",
      "source": [
        "!pip install ogb"
      ],
      "metadata": {
        "id": "qBObHZcFlu20"
      },
      "execution_count": null,
      "outputs": []
    },
    {
      "cell_type": "code",
      "execution_count": null,
      "metadata": {
        "id": "MsJEdkBbl9K4"
      },
      "outputs": [],
      "source": [
        "! pip install rdkit-pypi\n",
        "! pip install deepchem\n",
        "from rdkit.Chem import MACCSkeys\n",
        "from rdkit import Chem"
      ]
    },
    {
      "cell_type": "code",
      "execution_count": null,
      "metadata": {
        "id": "y14EOSn7UxUC"
      },
      "outputs": [],
      "source": [
        "!pip install dgl"
      ]
    },
    {
      "cell_type": "code",
      "execution_count": null,
      "metadata": {
        "id": "Kdgwf1SxUyoZ"
      },
      "outputs": [],
      "source": [
        "import dgl\n",
        "import torch as th\n",
        "import numpy as np\n",
        "import pandas as pd"
      ]
    },
    {
      "cell_type": "code",
      "execution_count": null,
      "metadata": {
        "id": "li5yoQYgzU2M"
      },
      "outputs": [],
      "source": [
        "import re, io, gzip\n",
        "import xml.etree.ElementTree as ET\n",
        "import collections\n",
        "import requests\n",
        "import pandas\n",
        "import json"
      ]
    },
    {
      "cell_type": "code",
      "execution_count": null,
      "metadata": {
        "id": "t7YmVUVUji_3"
      },
      "outputs": [],
      "source": [
        "import numpy as np\n",
        "import torch\n",
        "import dgl\n",
        "import dgl.nn as dglnn\n",
        "import torch.nn as nn\n",
        "import torch.nn.functional as F\n",
        "import dgl.function as fn"
      ]
    },
    {
      "cell_type": "code",
      "execution_count": null,
      "metadata": {
        "id": "ufQcawLS34Mn"
      },
      "outputs": [],
      "source": [
        "import random\n",
        "def set_seed(seed=0):\n",
        "    random.seed(seed)\n",
        "    np.random.seed(seed)\n",
        "    torch.manual_seed(seed)\n",
        "    if torch.cuda.is_available():\n",
        "        torch.cuda.manual_seed(seed)"
      ]
    },
    {
      "cell_type": "markdown",
      "metadata": {
        "id": "FXKR7qvZ349Z"
      },
      "source": [
        "## Mapping the drugids to integers and vice versa (same for the common genes and diseases)"
      ]
    },
    {
      "cell_type": "code",
      "execution_count": null,
      "metadata": {
        "id": "Nryyyewg34S-"
      },
      "outputs": [],
      "source": [
        "csvFile = pandas.read_csv('./drug_id_list.csv')\n",
        "\n",
        "print(len(csvFile))\n",
        "print(csvFile)"
      ]
    },
    {
      "cell_type": "code",
      "execution_count": null,
      "metadata": {
        "id": "B9xApFHd3-2Y"
      },
      "outputs": [],
      "source": [
        "drug_id_list = csvFile['DrugID']\n",
        "print(drug_id_list[0])"
      ]
    },
    {
      "cell_type": "code",
      "execution_count": null,
      "metadata": {
        "id": "GYZskII13-60"
      },
      "outputs": [],
      "source": [
        "drugbank_id_to_graph_node_id_map = {}\n",
        "graph_node_id_to_drugbank_id_map = {}\n",
        "\n",
        "\n",
        "# to maintain the count of nodes in the graph\n",
        "count = 0 \n",
        "\n",
        "for x in drug_id_list:\n",
        "    drugbank_id_to_graph_node_id_map[x] = count\n",
        "    graph_node_id_to_drugbank_id_map[count] = x\n",
        "    count = count + 1"
      ]
    },
    {
      "cell_type": "code",
      "execution_count": null,
      "metadata": {
        "id": "pRwq0OOY5CBy"
      },
      "outputs": [],
      "source": [
        "print(len(drugbank_id_to_graph_node_id_map))\n",
        "print(len(graph_node_id_to_drugbank_id_map))"
      ]
    },
    {
      "cell_type": "code",
      "execution_count": null,
      "metadata": {
        "id": "s0ZLqjv65TwY"
      },
      "outputs": [],
      "source": [
        ""
      ]
    },
    {
      "cell_type": "code",
      "execution_count": null,
      "metadata": {
        "id": "2V62Laeb5CGZ"
      },
      "outputs": [],
      "source": [
        "csvFile = pd.read_csv('common_genes.csv')"
      ]
    },
    {
      "cell_type": "code",
      "execution_count": null,
      "metadata": {
        "id": "ImmPZoOW5CLv"
      },
      "outputs": [],
      "source": [
        "print(csvFile.head())\n",
        "common_gene_ids = csvFile[\"CommonGenes\"]\n",
        "print(common_gene_ids[0])\n",
        "# common_gene_ids.append(\"NDUFA9\")\n",
        "print(len(csvFile))\n",
        "print(csvFile)"
      ]
    },
    {
      "cell_type": "code",
      "execution_count": null,
      "metadata": {
        "id": "yZiB6qS23-_0"
      },
      "outputs": [],
      "source": [
        "gene_to_graph_node_id_map = {}\n",
        "graph_node_id_to_gene_map = {}\n",
        "\n",
        "\n",
        "# to maintain the count of nodes in the graph\n",
        "count = 0 \n",
        "\n",
        "for x in common_gene_ids:\n",
        "    gene_to_graph_node_id_map[x] = count\n",
        "    graph_node_id_to_gene_map[count] = x\n",
        "    count = count + 1"
      ]
    },
    {
      "cell_type": "code",
      "execution_count": null,
      "metadata": {
        "id": "s-cnwMi18eWY"
      },
      "outputs": [],
      "source": [
        "print(len(gene_to_graph_node_id_map))\n",
        "print(len(graph_node_id_to_gene_map))"
      ]
    },
    {
      "cell_type": "code",
      "execution_count": null,
      "metadata": {
        "id": "hq2SzX793_Eu"
      },
      "outputs": [],
      "source": [
        ""
      ]
    },
    {
      "cell_type": "code",
      "execution_count": null,
      "metadata": {
        "id": "TVMKBtkD4685"
      },
      "outputs": [],
      "source": [
        "csvFile = pd.read_csv('disease.csv')\n",
        "print(csvFile.head())"
      ]
    },
    {
      "cell_type": "code",
      "execution_count": null,
      "metadata": {
        "id": "ZW3D-HhA469A"
      },
      "outputs": [],
      "source": [
        "print(csvFile.head())\n",
        "disease_name = csvFile[\"disease\"]\n",
        "print(disease_name[0])\n",
        "# common_gene_ids.append(\"NDUFA9\")\n",
        "print(len(csvFile))\n",
        "print(csvFile)"
      ]
    },
    {
      "cell_type": "code",
      "execution_count": null,
      "metadata": {
        "id": "SEPas3z4469B"
      },
      "outputs": [],
      "source": [
        "disease_to_graph_node_id_map = {}\n",
        "graph_node_id_to_disease_map = {}\n",
        "\n",
        "\n",
        "# to maintain the count of nodes in the graph\n",
        "count = 0 \n",
        "\n",
        "for x in disease_name:\n",
        "    disease_to_graph_node_id_map[x] = count\n",
        "    graph_node_id_to_disease_map[count] = x\n",
        "    count = count + 1"
      ]
    },
    {
      "cell_type": "code",
      "execution_count": null,
      "metadata": {
        "id": "hVSwx7jV469C"
      },
      "outputs": [],
      "source": [
        "print(len(disease_to_graph_node_id_map))\n",
        "print(len(graph_node_id_to_disease_map))"
      ]
    },
    {
      "cell_type": "code",
      "execution_count": null,
      "metadata": {
        "id": "cK889XzX5WCl"
      },
      "outputs": [],
      "source": [
        ""
      ]
    },
    {
      "cell_type": "code",
      "execution_count": null,
      "metadata": {
        "id": "8OsZgX6ZmLJs"
      },
      "outputs": [],
      "source": [
        ""
      ]
    },
    {
      "cell_type": "markdown",
      "source": [
        "## Drug encoding"
      ],
      "metadata": {
        "id": "wk-Ny0yR05vZ"
      }
    },
    {
      "cell_type": "code",
      "execution_count": null,
      "metadata": {
        "id": "xS5Sj-WpmLQW"
      },
      "outputs": [],
      "source": [
        ""
      ]
    },
    {
      "cell_type": "code",
      "execution_count": null,
      "metadata": {
        "id": "tffSp__gmBes"
      },
      "outputs": [],
      "source": [
        "csvFile = pandas.read_csv('./drugIDandSMILES.csv')\n",
        "print(len(csvFile))\n",
        "print(csvFile)\n",
        "drug_id = csvFile['Drug ID']\n",
        "smiles = csvFile['SMILES']\n",
        "print(len(smiles))\n",
        "drug_id_to_smiles_id_map = {}\n",
        "for i in range(len(drug_id)):\n",
        "  drug_id_to_smiles_id_map[drug_id[i]] = smiles[i]"
      ]
    },
    {
      "cell_type": "code",
      "execution_count": null,
      "metadata": {
        "id": "1X2qkeifmBjB"
      },
      "outputs": [],
      "source": [
        "print(len(drugbank_id_to_graph_node_id_map))\n",
        "print(len(graph_node_id_to_drugbank_id_map))\n",
        "print(drugbank_id_to_graph_node_id_map.keys())"
      ]
    },
    {
      "cell_type": "code",
      "execution_count": null,
      "metadata": {
        "id": "EStljngtmzP3"
      },
      "outputs": [],
      "source": [
        "# from rdkit.Chem import MACCSkeys\n",
        "# from rdkit import Chem\n",
        "\n",
        "mol = Chem.MolFromSmiles(smiles[0])\n",
        "print(list(MACCSkeys.GenMACCSKeys(mol)))\n",
        "MACCSkeys_length = len(list(MACCSkeys.GenMACCSKeys(mol)))\n",
        "print(MACCSkeys_length)"
      ]
    },
    {
      "cell_type": "code",
      "execution_count": null,
      "metadata": {
        "id": "f7Obl4thmzWA"
      },
      "outputs": [],
      "source": [
        "print(len(drugbank_id_to_graph_node_id_map))\n",
        "print(len(graph_node_id_to_drugbank_id_map))"
      ]
    },
    {
      "cell_type": "code",
      "execution_count": null,
      "metadata": {
        "id": "WuzDt1E9ruLL"
      },
      "outputs": [],
      "source": [
        ""
      ]
    },
    {
      "cell_type": "code",
      "execution_count": null,
      "metadata": {
        "id": "M2rwO1TBmzbp"
      },
      "outputs": [],
      "source": [
        "%%time\n",
        "# CREATING THE NODE EMBEDDINGS\n",
        "\n",
        "drug_features = torch.zeros(len(graph_node_id_to_drugbank_id_map), MACCSkeys_length)\n",
        "# LIST TO CAPTURE THE MOLECULES THAT ARE NOT BEING ABLE TO ENCODED AS MACCS_KEYS\n",
        "molecules_with_no_MACCS_keys = []\n",
        "\n",
        "for i in range(len(graph_node_id_to_drugbank_id_map)):\n",
        "    drug_id = graph_node_id_to_drugbank_id_map[i]\n",
        "    # print(drug_id)\n",
        "    # break\n",
        "    if drug_id in drug_id_to_smiles_id_map.keys():\n",
        "        mol = Chem.MolFromSmiles(drug_id_to_smiles_id_map[drug_id])\n",
        "\n",
        "        if not mol:\n",
        "          continue\n",
        "\n",
        "      # break\n",
        "        try:\n",
        "            MACCSkeys__ = list(MACCSkeys.GenMACCSKeys(mol))\n",
        "            drug_features[i] = torch.Tensor(MACCSkeys__)\n",
        "        except:\n",
        "            # print(drug_id[i])\n",
        "            molecules_with_no_MACCS_keys.append(drug_id[i])      \n",
        "            # break\n",
        "\n",
        "    # print(i)"
      ]
    },
    {
      "cell_type": "code",
      "execution_count": null,
      "metadata": {
        "id": "uM3mDJmVmzhG"
      },
      "outputs": [],
      "source": [
        "print(drug_features)\n",
        "print(drug_features.shape)"
      ]
    },
    {
      "cell_type": "code",
      "execution_count": null,
      "metadata": {
        "id": "IRXm95QwmBoS"
      },
      "outputs": [],
      "source": [
        ""
      ]
    },
    {
      "cell_type": "code",
      "execution_count": null,
      "metadata": {
        "id": "LGQvuGi75WKH"
      },
      "outputs": [],
      "source": [
        ""
      ]
    },
    {
      "cell_type": "markdown",
      "metadata": {
        "id": "Ou4ZsTH-5b46"
      },
      "source": [
        "## Common genes network "
      ]
    },
    {
      "cell_type": "code",
      "execution_count": null,
      "metadata": {
        "id": "WCcisiAYsaJt"
      },
      "outputs": [],
      "source": [
        "#%%\n",
        "import pandas as pd\n",
        "import networkx as nx\n",
        "\n",
        "df = pd.read_csv(\"gene-interact-gene.csv\")\n",
        "print(df.head())"
      ]
    },
    {
      "cell_type": "code",
      "execution_count": null,
      "metadata": {
        "id": "XPfEWUMm5cFK"
      },
      "outputs": [],
      "source": [
        "# %%\n",
        "edge_keys = df.columns.to_list()[2:]\n",
        "feats = [\"feat_\" + str(x) for x in range(len(edge_keys))]\n",
        "#%%\n",
        "df.columns = [\"node1\",\"node2\"] + feats\n",
        "#%%\n",
        "G = nx.from_pandas_edgelist(df,\"node1\",\"node2\", edge_attr=feats, create_using=nx.MultiDiGraph())\n",
        "# nx.write_gml(G,\"temp.gml\")\n",
        "# %%\n",
        "import dgl\n",
        "g = dgl.from_networkx(G, edge_attrs=feats)\n",
        "\n",
        "#%%\n",
        "ndataList = []\n",
        "import dgl.function as fn\n",
        "for i,f in enumerate(feats):\n",
        "    ndata_scheme = \"nfeat_\" + str(i)\n",
        "    ndataList.append(ndata_scheme)\n",
        "    g.update_all(fn.copy_e(f,'m'),fn.sum('m',ndata_scheme))\n",
        "    \n",
        "\n"
      ]
    },
    {
      "cell_type": "code",
      "execution_count": null,
      "metadata": {
        "id": "g5m8pRpTuMR3"
      },
      "outputs": [],
      "source": [
        "print(ndataList)"
      ]
    },
    {
      "cell_type": "code",
      "execution_count": null,
      "metadata": {
        "id": "Wl_cLlN2stL3"
      },
      "outputs": [],
      "source": [
        "print(g.ndata)\n",
        "print(g.edata)\n",
        "print(common_gene_ids)\n",
        "print(G.nodes)\n",
        "print(G.nodes.data())\n",
        "g_converted = dgl.to_networkx(g, node_attrs= ndataList)\n",
        "print(g_converted)\n",
        "print(G.nodes, len(G.nodes))\n",
        "print(g_converted.nodes, len(g_converted.nodes))\n",
        "print(g_converted.nodes(data=True))\n",
        "# print(g_converted.nodes.data())"
      ]
    },
    {
      "cell_type": "code",
      "execution_count": null,
      "metadata": {
        "id": "DcjL9mAjt4dL"
      },
      "outputs": [],
      "source": [
        "mapping = {}\n",
        "for i,e in enumerate(list(G.nodes())):\n",
        "  mapping[i] = e\n",
        "mapping"
      ]
    },
    {
      "cell_type": "code",
      "execution_count": null,
      "metadata": {
        "id": "khkywNj0wes8"
      },
      "outputs": [],
      "source": [
        "g_converted = nx.relabel_nodes(g_converted, mapping)"
      ]
    },
    {
      "cell_type": "code",
      "execution_count": null,
      "metadata": {
        "id": "C_G9He36t4mb"
      },
      "outputs": [],
      "source": [
        "print(g_converted.nodes(data = True))"
      ]
    },
    {
      "cell_type": "code",
      "execution_count": null,
      "metadata": {
        "id": "oUBsKXbQz5XG"
      },
      "outputs": [],
      "source": [
        "print(len(common_gene_ids))"
      ]
    },
    {
      "cell_type": "code",
      "execution_count": null,
      "metadata": {
        "id": "2fOug7S1rmKW"
      },
      "outputs": [],
      "source": [
        "common_gene_data = []\n",
        "common_len = len(g_converted.nodes(data=True)['A2M'])\n",
        "print(common_len)\n",
        "# print(common_gene_ids)\n",
        "for x in common_gene_ids: \n",
        "  # print(x)\n",
        "  this_data = []\n",
        "  if x in g_converted.nodes:\n",
        "    # print()\n",
        "    for t in g_converted.nodes[x].keys():\n",
        "      # print(g_converted.nodes[x][t])\n",
        "      this_data.append(g_converted.nodes[x][t])\n",
        "  # print(this_data)\n",
        "  common_gene_data.append(this_data)\n",
        "  # break"
      ]
    },
    {
      "cell_type": "code",
      "execution_count": null,
      "metadata": {
        "id": "NiXkhGxnt1vT"
      },
      "outputs": [],
      "source": [
        "# print(common_gene_data.size())\n",
        "common_gene_data_tensor = torch.Tensor(common_gene_data)\n",
        "print(common_gene_data_tensor)\n",
        "print(common_gene_data_tensor.shape)\n"
      ]
    },
    {
      "cell_type": "code",
      "execution_count": null,
      "metadata": {
        "id": "B9KU4J5bswS0"
      },
      "outputs": [],
      "source": [
        "gene_features = common_gene_data_tensor"
      ]
    },
    {
      "cell_type": "code",
      "execution_count": null,
      "metadata": {
        "id": "FlnNBEsxuB93"
      },
      "outputs": [],
      "source": [
        "print(gene_features, gene_features.dtype, gene_features.shape)"
      ]
    },
    {
      "cell_type": "code",
      "execution_count": null,
      "metadata": {
        "id": "VWFBR2khuBzK"
      },
      "outputs": [],
      "source": [
        "n = np.zeros(shape=(1474,167-9)) \n",
        "temp = torch.tensor(n, dtype=torch.float32)\n",
        "print(temp.shape)"
      ]
    },
    {
      "cell_type": "code",
      "execution_count": null,
      "metadata": {
        "id": "Ry05xzbcuDTr"
      },
      "outputs": [],
      "source": [
        "new_tensor = torch.cat((gene_features, temp), 1)\n",
        "print(new_tensor, new_tensor.shape)"
      ]
    },
    {
      "cell_type": "code",
      "execution_count": null,
      "metadata": {
        "id": "CHjmRtPmuzvq"
      },
      "outputs": [],
      "source": [
        "gene_features = new_tensor"
      ]
    },
    {
      "cell_type": "code",
      "execution_count": null,
      "metadata": {
        "id": "PGLi8Lmcuz1Q"
      },
      "outputs": [],
      "source": [
        ""
      ]
    },
    {
      "cell_type": "code",
      "execution_count": null,
      "metadata": {
        "id": "029v4DgSsz0w"
      },
      "outputs": [],
      "source": [
        "print(gene_features, gene_features.dtype, gene_features.shape)\n",
        "print(drug_features, drug_features.dtype, drug_features.shape)"
      ]
    },
    {
      "cell_type": "code",
      "execution_count": null,
      "metadata": {
        "id": "dQJk75SRsz8S"
      },
      "outputs": [],
      "source": [
        ""
      ]
    },
    {
      "cell_type": "code",
      "execution_count": null,
      "metadata": {
        "id": "1ETrIiB7s0BL"
      },
      "outputs": [],
      "source": [
        ""
      ]
    },
    {
      "cell_type": "code",
      "execution_count": null,
      "metadata": {
        "id": "kv746sIYsOnd"
      },
      "outputs": [],
      "source": [
        ""
      ]
    },
    {
      "cell_type": "code",
      "execution_count": null,
      "metadata": {
        "id": "kzJHnRR4sOsK"
      },
      "outputs": [],
      "source": [
        ""
      ]
    },
    {
      "cell_type": "code",
      "execution_count": null,
      "metadata": {
        "id": "NvllDCimsOx_"
      },
      "outputs": [],
      "source": [
        ""
      ]
    },
    {
      "cell_type": "markdown",
      "metadata": {
        "id": "4pThv34_3_Us"
      },
      "source": [
        "## Forming the hetero graph"
      ]
    },
    {
      "cell_type": "code",
      "execution_count": null,
      "metadata": {
        "id": "RzBnPysXUzFk"
      },
      "outputs": [],
      "source": [
        "drug_drug = pd.read_csv('/content/drug-interact-drug.csv')\n",
        "drug_gene = pd.read_csv('/content/drug-interact-gene.csv')\n",
        "gene_gene = pd.read_csv('/content/gene-interact-gene.csv')\n",
        "drug_disease = pd.read_csv('/content/drug-treat-disease.csv')\n",
        "\n",
        "# THE MAPS:\n",
        " \n",
        "# drugbank_id_to_graph_node_id_map\n",
        "# graph_node_id_to_drugbank_id_map\n",
        "# gene_to_graph_node_id_map\n",
        "# graph_node_id_to_gene_map\n",
        "# disease_to_graph_node_id_map\n",
        "# graph_node_id_to_disease_map\n",
        "\n",
        "graph_node_id_drugs = list(graph_node_id_to_drugbank_id_map.keys())\n",
        "graph_node_id_genes = list(graph_node_id_to_gene_map.keys())\n",
        "graph_node_id_diseases = list(graph_node_id_to_disease_map.keys())"
      ]
    },
    {
      "cell_type": "code",
      "execution_count": null,
      "metadata": {
        "id": "cvJQBuXWBReG"
      },
      "outputs": [],
      "source": [
        "print(drug_drug.head())\n",
        "print(drug_gene.head())\n",
        "print(gene_gene.head())\n",
        "print(drug_disease.head())"
      ]
    },
    {
      "cell_type": "code",
      "execution_count": null,
      "metadata": {
        "id": "8oWGhMnPFing"
      },
      "outputs": [],
      "source": [
        "print(drug_id_list)\n",
        "drug_id_list = set(list(drug_id_list))"
      ]
    },
    {
      "cell_type": "code",
      "execution_count": null,
      "metadata": {
        "id": "piKfjzkrD3Rc"
      },
      "outputs": [],
      "source": [
        "print(common_gene_ids)\n",
        "common_gene_ids = set(list(common_gene_ids))"
      ]
    },
    {
      "cell_type": "code",
      "execution_count": null,
      "metadata": {
        "id": "0tgd46c5D5MG"
      },
      "outputs": [],
      "source": [
        "print(disease_name)\n",
        "disease_name = set(list(disease_name))"
      ]
    },
    {
      "cell_type": "code",
      "execution_count": null,
      "metadata": {
        "id": "d2GDLQj6_298"
      },
      "outputs": [],
      "source": [
        ""
      ]
    },
    {
      "cell_type": "code",
      "execution_count": null,
      "metadata": {
        "id": "drrqMkb0MPPU"
      },
      "outputs": [],
      "source": [
        "## EXTRACT THOSE INTERACTIONS COMMON WITH THE LIST FOR EACH OF THE DRUGS AND GENES AND DISEASES"
      ]
    },
    {
      "cell_type": "code",
      "execution_count": null,
      "metadata": {
        "id": "5Zi21IEOBn55"
      },
      "outputs": [],
      "source": [
        "# drug drug\n",
        "drug_drug_interactions = drug_drug[drug_drug[\"Drug1 ID\"].isin(drug_id_list)\n",
        "              & drug_drug[\"Drug2 ID\"].isin(drug_id_list)]\n",
        "drug_drug_interactions_drug1 = drug_drug_interactions[\"Drug1 ID\"]\n",
        "drug_drug_interactions_drug2 = drug_drug_interactions[\"Drug2 ID\"]\n",
        "print(len(drug_drug_interactions_drug1), len(drug_drug_interactions_drug2))"
      ]
    },
    {
      "cell_type": "code",
      "execution_count": null,
      "metadata": {
        "id": "D2Xs4sxaBoAM"
      },
      "outputs": [],
      "source": [
        "# drug gene\n",
        "drug_gene_interactions = drug_gene[drug_gene[\"drugbank_id\"].isin(drug_id_list)\n",
        "              & drug_gene[\"gene_symbol\"].isin(common_gene_ids)]\n",
        "drug_gene_interactions_drug1 = drug_gene_interactions[\"drugbank_id\"]\n",
        "drug_gene_interactions_gene1 = drug_gene_interactions[\"gene_symbol\"]\n",
        "print(len(drug_gene_interactions_drug1), len(drug_gene_interactions_gene1))"
      ]
    },
    {
      "cell_type": "code",
      "execution_count": null,
      "metadata": {
        "id": "1KK3drOmBoF_"
      },
      "outputs": [],
      "source": [
        "# gene gene\n",
        "gene_gene_interactions = gene_gene[gene_gene[\"node1\"].isin(common_gene_ids)\n",
        "              & gene_gene[\"node2\"].isin(common_gene_ids)]\n",
        "gene_gene_interactions_gene1 = gene_gene_interactions[\"node1\"]\n",
        "gene_gene_interactions_gene2 = gene_gene_interactions[\"node2\"]\n",
        "\n",
        "gene_gene_interactions_egde_automated_textmining = gene_gene_interactions['automated_textmining']\n",
        "\n",
        "print(len(gene_gene_interactions_gene1), len(gene_gene_interactions_gene2))"
      ]
    },
    {
      "cell_type": "code",
      "execution_count": null,
      "metadata": {
        "id": "fQd92Kr_DUoQ"
      },
      "outputs": [],
      "source": [
        "# drug disease\n",
        "drug_disease_interactions = drug_disease[drug_disease[\"drugbank_id\"].isin(drug_id_list)\n",
        "              & drug_disease[\"disease\"].isin(disease_name)]\n",
        "drug_disease_interactions_drug1 = drug_disease_interactions[\"drugbank_id\"]\n",
        "drug_disease_interactions_disease1 = drug_disease_interactions[\"disease\"]\n",
        "print(len(drug_disease_interactions_drug1), len(drug_disease_interactions_disease1))"
      ]
    },
    {
      "cell_type": "code",
      "execution_count": null,
      "metadata": {
        "id": "3lN3mebBBRpK"
      },
      "outputs": [],
      "source": [
        "def map_drugbank_id_to_graph_node_id(x):\n",
        "  return drugbank_id_to_graph_node_id_map[x]\n",
        "\n",
        "def map_gene_id_to_graph_node_id(x):\n",
        "  return gene_to_graph_node_id_map[x]\n",
        "\n",
        "def map_disease_id_to_graph_node_id(x):\n",
        "  return disease_to_graph_node_id_map[x]\n"
      ]
    },
    {
      "cell_type": "code",
      "execution_count": null,
      "metadata": {
        "id": "5CXCRx_dH4kT"
      },
      "outputs": [],
      "source": [
        "\n"
      ]
    },
    {
      "cell_type": "code",
      "execution_count": null,
      "metadata": {
        "id": "xYzuU2SZUzKL"
      },
      "outputs": [],
      "source": [
        "graph_data = {\n",
        "    ('drug', 'drug_drug', 'drug'): (th.tensor(list(map(map_drugbank_id_to_graph_node_id, drug_drug_interactions_drug1))),\n",
        "                                    th.tensor(list(map(map_drugbank_id_to_graph_node_id, drug_drug_interactions_drug2)))),\n",
        "    # ('drug', 'drug_disease', 'disease'): (th.tensor(list(map(map_drugbank_id_to_graph_node_id, drug_disease_interactions_drug1))),\n",
        "    #                                 th.tensor(list(map(map_disease_id_to_graph_node_id, drug_disease_interactions_disease1)))),\n",
        "    ('drug', 'drug_gene', 'gene'): (th.tensor(list(map(map_drugbank_id_to_graph_node_id, drug_gene_interactions_drug1))),\n",
        "                                    th.tensor(list(map(map_gene_id_to_graph_node_id, drug_gene_interactions_gene1)))),\n",
        "    ('gene', 'gene_gene', 'gene'): (th.tensor(list(map(map_gene_id_to_graph_node_id, gene_gene_interactions_gene1))),\n",
        "                                    th.tensor(list(map(map_gene_id_to_graph_node_id, gene_gene_interactions_gene2))))\n",
        "}\n",
        "g = dgl.heterograph(graph_data)"
      ]
    },
    {
      "cell_type": "code",
      "execution_count": null,
      "metadata": {
        "id": "o--_daSYH4yt"
      },
      "outputs": [],
      "source": [
        ""
      ]
    },
    {
      "cell_type": "code",
      "execution_count": null,
      "metadata": {
        "id": "o-iPbxXobUE3"
      },
      "outputs": [],
      "source": [
        "print(g)"
      ]
    },
    {
      "cell_type": "code",
      "execution_count": null,
      "metadata": {
        "id": "IHChl91kbh8U"
      },
      "outputs": [],
      "source": [
        "\n",
        "g.edges['gene_gene'].data['automated_textmining'] = th.tensor(list(gene_gene_interactions_egde_automated_textmining)).float()\n"
      ]
    },
    {
      "cell_type": "code",
      "execution_count": null,
      "metadata": {
        "id": "16TTXe0_J69E"
      },
      "outputs": [],
      "source": [
        "print(g.edges['gene_gene'].data['automated_textmining'])"
      ]
    },
    {
      "cell_type": "code",
      "execution_count": null,
      "metadata": {
        "id": "zGRg-DYVi3bR"
      },
      "outputs": [],
      "source": [
        "print(g)"
      ]
    },
    {
      "cell_type": "code",
      "execution_count": null,
      "metadata": {
        "id": "T3_xSw68iRcB"
      },
      "outputs": [],
      "source": [
        "print(g.num_nodes('drug'))\n",
        "print(g.num_nodes('gene'))\n",
        "# print(g.num_nodes('disease'))\n",
        "print(g.edges['gene_gene'])"
      ]
    },
    {
      "cell_type": "code",
      "execution_count": null,
      "metadata": {
        "id": "PPYL2rqEicJ9"
      },
      "outputs": [],
      "source": [
        "print(g.num_edges(('drug', 'drug_gene', 'gene')))\n",
        "print(g.num_edges('drug_gene'))"
      ]
    },
    {
      "cell_type": "code",
      "execution_count": null,
      "metadata": {
        "id": "1_Ivv6t-itrD"
      },
      "outputs": [],
      "source": [
        "n_features = 167\n",
        "n_drug_features = n_features\n",
        "n_gene_features = n_features\n",
        "n_disease_features = n_features"
      ]
    },
    {
      "cell_type": "code",
      "execution_count": null,
      "metadata": {
        "id": "NwYnndxvik8B"
      },
      "outputs": [],
      "source": [
        "g.nodes['drug'].data['feature'] = drug_features\n",
        "g.nodes['gene'].data['feature'] = gene_features\n",
        "# g.nodes['disease'].data['feature'] = torch.randn(g.num_nodes('disease'), n_disease_features)\n"
      ]
    },
    {
      "cell_type": "code",
      "execution_count": null,
      "metadata": {
        "id": "jj_GZQfrjxLH"
      },
      "outputs": [],
      "source": [
        "\n",
        "g.edges['drug_gene'].data['label'] = torch.randint(1, g.num_edges('drug_gene'), (g.num_edges('drug_gene'),)).float()\n"
      ]
    },
    {
      "cell_type": "code",
      "execution_count": null,
      "metadata": {
        "id": "zCJOgVBXPm7u"
      },
      "outputs": [],
      "source": [
        ""
      ]
    },
    {
      "cell_type": "code",
      "execution_count": null,
      "metadata": {
        "id": "TuLOhEMWyk7g"
      },
      "outputs": [],
      "source": [
        "# https://docs.dgl.ai/en/0.6.x/tutorials/basics/5_hetero.html\n",
        "# https://docs.dgl.ai/en/0.6.x/guide/training-link.html\n",
        "# https://docs.dgl.ai/en/0.6.x/tutorials/blitz/4_link_predict.html"
      ]
    },
    {
      "cell_type": "markdown",
      "metadata": {
        "id": "yoq-PqsM5bgv"
      },
      "source": [
        "## Model, Training and Metrics"
      ]
    },
    {
      "cell_type": "code",
      "execution_count": null,
      "metadata": {
        "id": "3Gv-eMDS5utK"
      },
      "outputs": [],
      "source": [
        "# Heterograph Conv model\n",
        "\n",
        "class RGCN(nn.Module):\n",
        "    def __init__(self, in_feats, hid_feats, out_feats, rel_names):\n",
        "        super().__init__()\n",
        "        self.conv1 = dglnn.HeteroGraphConv({\n",
        "            rel: dglnn.GraphConv(in_feats, hid_feats)\n",
        "            for rel in rel_names}, aggregate='sum')\n",
        "        self.conv2 = dglnn.HeteroGraphConv({\n",
        "            rel: dglnn.GraphConv(hid_feats, hid_feats)\n",
        "            for rel in rel_names}, aggregate='sum')\n",
        "        self.conv3 = dglnn.HeteroGraphConv({\n",
        "            rel: dglnn.GraphConv(2*hid_feats, out_feats)\n",
        "            for rel in rel_names}, aggregate='sum')\n",
        "\n",
        "    def forward(self, graph, inputs):\n",
        "        h = self.conv1(graph, inputs)\n",
        "        h = {k: F.relu(v) for k, v in h.items()}\n",
        "        # print(h.keys())\n",
        "        # print(h[\"drug\"].shape, h[\"gene\"].shape)\n",
        "        h2 = h\n",
        "        # print(h2[\"drug\"].shape, h2[\"gene\"].shape)\n",
        "        h3 = self.conv2(graph, h2)\n",
        "        h3[\"drug\"] = torch.cat((h2[\"drug\"],h3[\"drug\"]), 1)\n",
        "        h3[\"gene\"] = torch.cat((h2[\"gene\"],h3[\"gene\"]), 1)\n",
        "        h3 = {k: F.relu(v) for k, v in h3.items()}\n",
        "        # print(h3[\"drug.shape\"])\n",
        "        # h3 = torch.cat(h2,h3)\n",
        "        # print(h3[\"drug\"].shape, h3[\"gene\"].shape)\n",
        "        # h3 = h2 + h3\n",
        "        h4 = self.conv3(graph, h3)\n",
        "        h4[\"drug\"] = torch.cat((h4[\"drug\"],h3[\"drug\"]), 1)\n",
        "        h4[\"gene\"] = torch.cat((h4[\"gene\"],h3[\"gene\"]), 1)\n",
        "        # print(h4[\"drug\"].shape, h4[\"gene\"].shape)\n",
        "        # print(h4)\n",
        "        return h4\n",
        "\n",
        "\n",
        "class HeteroDotProductPredictor(nn.Module):\n",
        "    def forward(self, graph, h, etype):        \n",
        "        with graph.local_scope():\n",
        "            graph.ndata['h'] = h\n",
        "            graph.apply_edges(fn.u_dot_v('h', 'h', 'score'), etype=etype)\n",
        "            return graph.edges[etype].data['score']\n",
        "\n",
        "\n",
        "def construct_negative_graph(graph, k, etype):\n",
        "    utype, _, vtype = etype\n",
        "    src, dst = graph.edges(etype=etype)\n",
        "    neg_src = src.repeat_interleave(k)\n",
        "    neg_dst = torch.randint(0, graph.num_nodes(vtype), (len(src) * k,))\n",
        "    return dgl.heterograph(\n",
        "        {etype: (neg_src, neg_dst)},\n",
        "        num_nodes_dict={ntype: graph.num_nodes(ntype) for ntype in graph.ntypes})\n",
        "\n",
        "\n",
        "class Model(nn.Module):\n",
        "    def __init__(self, in_features, hidden_features, out_features, rel_names):\n",
        "        super().__init__()\n",
        "        self.sage = RGCN(in_features, hidden_features, out_features, rel_names)\n",
        "        self.pred = HeteroDotProductPredictor()\n",
        "\n",
        "    def forward(self, g, neg_g, x, etype):\n",
        "        h = self.sage(g, x)\n",
        "        return self.pred(g, h, etype), self.pred(neg_g, h, etype)\n"
      ]
    },
    {
      "cell_type": "code",
      "execution_count": null,
      "metadata": {
        "id": "8ReR77DL5brP"
      },
      "outputs": [],
      "source": [
        "\n",
        "\n",
        "def compute_loss(pos_score, neg_score):\n",
        "    # Margin loss\n",
        "    n_edges = pos_score.shape[0]\n",
        "    return (1 - pos_score.unsqueeze(1) + neg_score.view(n_edges, -1)).clamp(min=0).mean()\n"
      ]
    },
    {
      "cell_type": "code",
      "execution_count": null,
      "metadata": {
        "id": "8-huupy25crL"
      },
      "outputs": [],
      "source": [
        ""
      ]
    },
    {
      "cell_type": "code",
      "execution_count": null,
      "metadata": {
        "id": "00igUJEx5ct4"
      },
      "outputs": [],
      "source": [
        ""
      ]
    },
    {
      "cell_type": "code",
      "source": [
        ""
      ],
      "metadata": {
        "id": "aNmc6_J8g4vW"
      },
      "execution_count": null,
      "outputs": []
    },
    {
      "cell_type": "markdown",
      "source": [
        "### 1 forward pass of the model"
      ],
      "metadata": {
        "id": "gB5u1ALqm4bR"
      }
    },
    {
      "cell_type": "code",
      "source": [
        "set_seed()\n",
        "output_features = 5\n",
        "model = Model(n_features, n_features*2 , output_features, g.etypes)\n",
        "drug_feats = g.nodes['drug'].data['feature']\n",
        "gene_feats = g.nodes['gene'].data['feature']\n",
        "# disease_feats = g.nodes['disease'].data['feature']\n",
        "# node_features = {'drug': drug_feats, 'gene': gene_feats, 'disease': disease_feats}\n",
        "node_features = {'drug': drug_feats, 'gene': gene_feats}\n",
        "opt = torch.optim.Adam(model.parameters())\n",
        "\n",
        "negative_graph = construct_negative_graph(g, output_features, ('drug', 'drug_gene', 'gene'))\n",
        "pos_score, neg_score = model(g, negative_graph, node_features, ('drug', 'drug_gene', 'gene'))\n",
        "loss = compute_loss(pos_score, neg_score)\n",
        "print(loss)"
      ],
      "metadata": {
        "id": "0yUm9GFPg41t"
      },
      "execution_count": null,
      "outputs": []
    },
    {
      "cell_type": "markdown",
      "source": [
        "### AUC"
      ],
      "metadata": {
        "id": "IFheWoPOm8lE"
      }
    },
    {
      "cell_type": "code",
      "source": [
        "from sklearn.metrics import roc_auc_score\n",
        "def compute_auc(pos_score, neg_score):\n",
        "    scores = torch.cat([pos_score, neg_score]).cpu().detach().numpy()\n",
        "    labels = torch.cat(\n",
        "        [torch.ones(pos_score.shape[0]), torch.zeros(neg_score.shape[0])]).numpy()\n",
        "    return roc_auc_score(labels, scores)"
      ],
      "metadata": {
        "id": "8MAuDMtng49D"
      },
      "execution_count": null,
      "outputs": []
    },
    {
      "cell_type": "code",
      "source": [
        "print(compute_auc(pos_score, neg_score))"
      ],
      "metadata": {
        "id": "847PZTeziFuY"
      },
      "execution_count": null,
      "outputs": []
    },
    {
      "cell_type": "markdown",
      "source": [
        "### HITS@K"
      ],
      "metadata": {
        "id": "6DtA6e6YnAwk"
      }
    },
    {
      "cell_type": "code",
      "source": [
        "print(pos_score.shape, neg_score.shape, torch.flatten(pos_score).shape, torch.flatten(neg_score).shape)"
      ],
      "metadata": {
        "id": "9dT8c8xziGGV"
      },
      "execution_count": null,
      "outputs": []
    },
    {
      "cell_type": "code",
      "source": [
        "from ogb.linkproppred import Evaluator\n",
        "evaluator = Evaluator(name='ogbl-ddi')\n",
        "K = 10000\n",
        "evaluator.K = K\n",
        "hits = evaluator.eval({\n",
        "    'y_pred_pos': torch.flatten(pos_score),\n",
        "    'y_pred_neg': torch.flatten(neg_score),\n",
        "})[f'hits@{K}']"
      ],
      "metadata": {
        "id": "phDHQVijlnGY"
      },
      "execution_count": null,
      "outputs": []
    },
    {
      "cell_type": "code",
      "source": [
        "print(hits)"
      ],
      "metadata": {
        "id": "AfE55rNzmyOu"
      },
      "execution_count": null,
      "outputs": []
    },
    {
      "cell_type": "code",
      "source": [
        ""
      ],
      "metadata": {
        "id": "hcTVazSjiPkr"
      },
      "execution_count": null,
      "outputs": []
    },
    {
      "cell_type": "markdown",
      "source": [
        "### Training of the model"
      ],
      "metadata": {
        "id": "aRTT5mQBnH-u"
      }
    },
    {
      "cell_type": "code",
      "execution_count": null,
      "metadata": {
        "id": "KrdzSZXmsYsB"
      },
      "outputs": [],
      "source": [
        "output_features = 5\n",
        "model = Model(n_features, n_features*2 , output_features, g.etypes)\n",
        "drug_feats = g.nodes['drug'].data['feature']\n",
        "gene_feats = g.nodes['gene'].data['feature']\n",
        "# disease_feats = g.nodes['disease'].data['feature']\n",
        "# node_features = {'drug': drug_feats, 'gene': gene_feats, 'disease': disease_feats}\n",
        "node_features = {'drug': drug_feats, 'gene': gene_feats}\n",
        "opt = torch.optim.Adam(model.parameters())\n",
        "\n",
        "## change the number of epochs to 501 \n",
        "for epoch in range(501):\n",
        "    negative_graph = construct_negative_graph(g, output_features, ('drug', 'drug_gene', 'gene'))\n",
        "    pos_score, neg_score = model(g, negative_graph, node_features, ('drug', 'drug_gene', 'gene'))\n",
        "    loss = compute_loss(pos_score, neg_score)\n",
        "    opt.zero_grad()\n",
        "    loss.backward()\n",
        "    opt.step()\n",
        "    if epoch%10 == 0:\n",
        "        print(loss.item())"
      ]
    },
    {
      "cell_type": "code",
      "source": [
        ""
      ],
      "metadata": {
        "id": "gVNP_rSVsc7L"
      },
      "execution_count": null,
      "outputs": []
    },
    {
      "cell_type": "markdown",
      "source": [
        "### AUC"
      ],
      "metadata": {
        "id": "FoJER9Q_sdS6"
      }
    },
    {
      "cell_type": "code",
      "source": [
        "from sklearn.metrics import roc_auc_score\n",
        "def compute_auc(pos_score, neg_score):\n",
        "    scores = torch.cat([pos_score, neg_score]).cpu().detach().numpy()\n",
        "    labels = torch.cat(\n",
        "        [torch.ones(pos_score.shape[0]), torch.zeros(neg_score.shape[0])]).numpy()\n",
        "    return roc_auc_score(labels, scores)"
      ],
      "metadata": {
        "id": "lqWLxxoBsdS7"
      },
      "execution_count": null,
      "outputs": []
    },
    {
      "cell_type": "code",
      "source": [
        "print(compute_auc(pos_score, neg_score))"
      ],
      "metadata": {
        "id": "5N8p5l7ysdS9"
      },
      "execution_count": null,
      "outputs": []
    },
    {
      "cell_type": "markdown",
      "source": [
        "### HITS@K"
      ],
      "metadata": {
        "id": "g0DR3wpIsdS9"
      }
    },
    {
      "cell_type": "code",
      "source": [
        "print(pos_score.shape, neg_score.shape, torch.flatten(pos_score).shape, torch.flatten(neg_score).shape)"
      ],
      "metadata": {
        "id": "yfy-a-4DsdS-"
      },
      "execution_count": null,
      "outputs": []
    },
    {
      "cell_type": "code",
      "source": [
        "from ogb.linkproppred import Evaluator\n",
        "evaluator = Evaluator(name='ogbl-ddi')\n",
        "K = 10000\n",
        "evaluator.K = K\n",
        "hits = evaluator.eval({\n",
        "    'y_pred_pos': torch.flatten(pos_score),\n",
        "    'y_pred_neg': torch.flatten(neg_score),\n",
        "})[f'hits@{K}']"
      ],
      "metadata": {
        "id": "DrrQrNRWsdS-"
      },
      "execution_count": null,
      "outputs": []
    },
    {
      "cell_type": "code",
      "source": [
        "print(hits)"
      ],
      "metadata": {
        "id": "EIDSB73jsdS_"
      },
      "execution_count": null,
      "outputs": []
    },
    {
      "cell_type": "code",
      "source": [
        ""
      ],
      "metadata": {
        "id": "q-GNxbN0sdS_"
      },
      "execution_count": null,
      "outputs": []
    },
    {
      "cell_type": "markdown",
      "source": [
        "## Making predictions for the drug-gene interactions"
      ],
      "metadata": {
        "id": "a7zuhTmbCdf_"
      }
    },
    {
      "cell_type": "code",
      "execution_count": null,
      "metadata": {
        "id": "n96LuGL1sY1K"
      },
      "outputs": [],
      "source": [
        "pos_score, neg_score = model(g, negative_graph, node_features, ('drug', 'drug_gene', 'gene'))\n",
        "\n",
        "print(pos_score.shape, neg_score.shape)\n",
        "print(node_features)"
      ]
    },
    {
      "cell_type": "code",
      "execution_count": null,
      "metadata": {
        "id": "Q8C104-JsY52"
      },
      "outputs": [],
      "source": [
        "print(g)"
      ]
    },
    {
      "cell_type": "code",
      "source": [
        "def predict_score_between(drug_node_id_in_graph, gene_node_id_in_graph):\n",
        "    test_drug = drug_features[drug_node_id_in_graph]\n",
        "    # print(test_drug.shape)\n",
        "    test_drug = torch.reshape(test_drug, (1, -1))\n",
        "    test_gene = gene_features[gene_node_id_in_graph]\n",
        "    # print(test_gene.shape)\n",
        "    test_gene = torch.reshape(test_gene, (1,-1))\n",
        "    # print(negative_graph)\n",
        "    negative_graph.add_edges(torch.tensor([drug_node_id_in_graph]), torch.tensor([gene_node_id_in_graph]), etype = \"drug_gene\")\n",
        "    pos_score, neg_score = model(g, negative_graph, node_features, ('drug', 'drug_gene', 'gene'))\n",
        "    # print(pos_score.shape, neg_score.shape)\n",
        "    # print(node_features)\n",
        "    print(neg_score[-1])\n"
      ],
      "metadata": {
        "id": "_DIZB4es_PRr"
      },
      "execution_count": null,
      "outputs": []
    },
    {
      "cell_type": "markdown",
      "source": [
        "### If no edge originally present between a gene and a drug"
      ],
      "metadata": {
        "id": "Khk60SA_AlIL"
      }
    },
    {
      "cell_type": "code",
      "source": [
        "drug_node_id_in_graph = 6\n",
        "gene_node_id_in_graph = 0\n",
        "\n",
        "print(graph_node_id_to_drugbank_id_map[drug_node_id_in_graph], graph_node_id_to_gene_map[gene_node_id_in_graph])\n",
        "\n",
        "print(g.has_edges_between(drug_node_id_in_graph, gene_node_id_in_graph, etype='drug_gene'))\n",
        "\n",
        "print(negative_graph.has_edges_between(drug_node_id_in_graph, gene_node_id_in_graph, etype='drug_gene'))\n"
      ],
      "metadata": {
        "id": "Xs7h-eL_AFC0"
      },
      "execution_count": null,
      "outputs": []
    },
    {
      "cell_type": "code",
      "source": [
        "predict_score_between(drug_node_id_in_graph, gene_node_id_in_graph)"
      ],
      "metadata": {
        "id": "K0jF05JhAFXv"
      },
      "execution_count": null,
      "outputs": []
    },
    {
      "cell_type": "code",
      "source": [
        ""
      ],
      "metadata": {
        "id": "ZnhngXe8ATFa"
      },
      "execution_count": null,
      "outputs": []
    },
    {
      "cell_type": "markdown",
      "source": [
        "### If edge originally present in graph"
      ],
      "metadata": {
        "id": "-ALheHk0Azfy"
      }
    },
    {
      "cell_type": "code",
      "source": [
        "drug_node_id_in_graph = 4402\n",
        "gene_node_id_in_graph = 1009\n",
        "\n",
        "print(graph_node_id_to_drugbank_id_map[drug_node_id_in_graph], graph_node_id_to_gene_map[gene_node_id_in_graph])\n",
        "\n",
        "print(g.has_edges_between(drug_node_id_in_graph, gene_node_id_in_graph, etype='drug_gene'))\n",
        "\n",
        "print(negative_graph.has_edges_between(drug_node_id_in_graph, gene_node_id_in_graph, etype='drug_gene'))\n"
      ],
      "metadata": {
        "id": "KayY6RxpA4tm"
      },
      "execution_count": null,
      "outputs": []
    },
    {
      "cell_type": "code",
      "source": [
        "predict_score_between(drug_node_id_in_graph, gene_node_id_in_graph)"
      ],
      "metadata": {
        "id": "-gGX8bieA4tn"
      },
      "execution_count": null,
      "outputs": []
    },
    {
      "cell_type": "code",
      "source": [
        ""
      ],
      "metadata": {
        "id": "UJ2GJgFkATXy"
      },
      "execution_count": null,
      "outputs": []
    },
    {
      "cell_type": "code",
      "source": [
        ""
      ],
      "metadata": {
        "id": "WPw_QlZUATmR"
      },
      "execution_count": null,
      "outputs": []
    }
  ],
  "metadata": {
    "colab": {
      "collapsed_sections": [
        "XKrQlj3_yr4N",
        "IxOMqW401dlr",
        "FXKR7qvZ349Z",
        "wk-Ny0yR05vZ",
        "Ou4ZsTH-5b46",
        "4pThv34_3_Us",
        "yoq-PqsM5bgv",
        "gB5u1ALqm4bR",
        "IFheWoPOm8lE",
        "6DtA6e6YnAwk",
        "aRTT5mQBnH-u",
        "FoJER9Q_sdS6",
        "g0DR3wpIsdS9",
        "a7zuhTmbCdf_",
        "Khk60SA_AlIL",
        "-ALheHk0Azfy"
      ],
      "machine_shape": "hm",
      "name": "Making predictions in drug gene network.ipynb",
      "provenance": [],
      "toc_visible": true
    },
    "kernelspec": {
      "display_name": "Python 3",
      "name": "python3"
    },
    "language_info": {
      "name": "python"
    },
    "accelerator": "GPU"
  },
  "nbformat": 4,
  "nbformat_minor": 0
}