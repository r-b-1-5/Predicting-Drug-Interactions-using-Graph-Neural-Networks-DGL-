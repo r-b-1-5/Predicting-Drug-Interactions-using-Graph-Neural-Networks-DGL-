{
  "nbformat": 4,
  "nbformat_minor": 0,
  "metadata": {
    "colab": {
      "name": "Molecule to Graph and, Auto Encoder.ipynb",
      "provenance": [],
      "collapsed_sections": []
    },
    "kernelspec": {
      "name": "python3",
      "display_name": "Python 3"
    },
    "language_info": {
      "name": "python"
    }
  },
  "cells": [
    {
      "cell_type": "markdown",
      "metadata": {
        "id": "yPcWQJgolD2b"
      },
      "source": [
        "## Install"
      ]
    },
    {
      "cell_type": "code",
      "metadata": {
        "id": "I2Bzxm_cSbK0"
      },
      "source": [
        "! pip install rdkit-pypi\n",
        "! pip install deepchem\n",
        "! pip install dgl \n",
        "! pip install ogb"
      ],
      "execution_count": null,
      "outputs": []
    },
    {
      "cell_type": "code",
      "metadata": {
        "id": "7qsdRbKWE1Pr"
      },
      "source": [
        "## to resolve the torch import error\n",
        "# ! pip install -U numpy"
      ],
      "execution_count": null,
      "outputs": []
    },
    {
      "cell_type": "markdown",
      "metadata": {
        "id": "Qm-TP2wbS6fB"
      },
      "source": [
        "## Import"
      ]
    },
    {
      "cell_type": "code",
      "metadata": {
        "id": "zNfhiFiBS8-w"
      },
      "source": [
        "import numpy as np\n",
        "import pandas\n",
        "import time\n",
        "import networkx as nx\n",
        "import itertools\n",
        "import scipy.sparse as sp\n",
        "import random "
      ],
      "execution_count": null,
      "outputs": []
    },
    {
      "cell_type": "code",
      "metadata": {
        "id": "tjTrLz-8WeV6"
      },
      "source": [
        "import torch\n",
        "import torch.nn as nn\n",
        "import torch.nn.functional as F"
      ],
      "execution_count": null,
      "outputs": []
    },
    {
      "cell_type": "code",
      "metadata": {
        "id": "f_T2Je7g0_lT"
      },
      "source": [
        "from rdkit.Chem import MACCSkeys\n",
        "from rdkit import Chem"
      ],
      "execution_count": null,
      "outputs": []
    },
    {
      "cell_type": "code",
      "metadata": {
        "id": "mPe8AThO1RC8"
      },
      "source": [
        "import dgl\n",
        "from dgl.nn import SAGEConv,GraphConv\n",
        "import dgl.function as fn"
      ],
      "execution_count": null,
      "outputs": []
    },
    {
      "cell_type": "code",
      "metadata": {
        "id": "hWJMti881g5R"
      },
      "source": [
        "from sklearn.metrics import roc_auc_score\n",
        "from ogb.linkproppred import Evaluator"
      ],
      "execution_count": null,
      "outputs": []
    },
    {
      "cell_type": "code",
      "metadata": {
        "id": "qiWD2YpW-tK0"
      },
      "source": [
        "import copy"
      ],
      "execution_count": null,
      "outputs": []
    },
    {
      "cell_type": "code",
      "metadata": {
        "id": "37ELNvAwZLkG"
      },
      "source": [
        "from ogb.utils.features import (allowable_features, atom_to_feature_vector,\n",
        " bond_to_feature_vector, atom_feature_vector_to_dict, bond_feature_vector_to_dict)\n"
      ],
      "execution_count": null,
      "outputs": []
    },
    {
      "cell_type": "markdown",
      "metadata": {
        "id": "m9KaG8LslK3w"
      },
      "source": [
        "## Read file"
      ]
    },
    {
      "cell_type": "code",
      "metadata": {
        "execution": {
          "iopub.execute_input": "2021-09-17T05:18:44.102582Z",
          "iopub.status.busy": "2021-09-17T05:18:44.101768Z",
          "iopub.status.idle": "2021-09-17T05:18:44.147656Z",
          "shell.execute_reply": "2021-09-17T05:18:44.148290Z",
          "shell.execute_reply.started": "2021-09-17T04:52:16.490607Z"
        },
        "papermill": {
          "duration": 0.095447,
          "end_time": "2021-09-17T05:18:44.148475",
          "exception": false,
          "start_time": "2021-09-17T05:18:44.053028",
          "status": "completed"
        },
        "tags": [],
        "id": "686e079f"
      },
      "source": [
        "csvFile = pandas.read_csv('./drugIDandSMILES.csv')\n",
        " \n",
        "print(len(csvFile))\n",
        "print(csvFile)"
      ],
      "execution_count": null,
      "outputs": []
    },
    {
      "cell_type": "code",
      "metadata": {
        "execution": {
          "iopub.execute_input": "2021-09-17T05:18:44.244612Z",
          "iopub.status.busy": "2021-09-17T05:18:44.239607Z",
          "iopub.status.idle": "2021-09-17T05:18:44.247246Z",
          "shell.execute_reply": "2021-09-17T05:18:44.247694Z",
          "shell.execute_reply.started": "2021-09-17T04:52:19.348934Z"
        },
        "papermill": {
          "duration": 0.055187,
          "end_time": "2021-09-17T05:18:44.247895",
          "exception": false,
          "start_time": "2021-09-17T05:18:44.192708",
          "status": "completed"
        },
        "tags": [],
        "id": "b033cccc"
      },
      "source": [
        "drug_id = csvFile['Drug ID']\n",
        "smiles = csvFile['SMILES']"
      ],
      "execution_count": null,
      "outputs": []
    },
    {
      "cell_type": "markdown",
      "metadata": {
        "id": "IGztPnrQlNQC"
      },
      "source": [
        "## Form graph from molecule"
      ]
    },
    {
      "cell_type": "code",
      "metadata": {
        "id": "3n2JxSxa-Mez"
      },
      "source": [
        "def smiles2graph(smiles_string):\n",
        "\n",
        "    mol = Chem.MolFromSmiles(smiles_string)\n",
        "\n",
        "    A = Chem.GetAdjacencyMatrix(mol)\n",
        "    A = np.asmatrix(A)\n",
        "    nnodes=len(A)\n",
        "    nz = np.nonzero(A)\n",
        "\n",
        "    # forming the graph using the adjacency matrix\n",
        "    u1, v1 = list(nz[0]), list(nz[1])\n",
        "    # print(sorted(u1)==sorted(v1))\n",
        "    # print(u1)\n",
        "    # print(v1)\n",
        "    g = dgl.graph((u1, v1))\n",
        "    bg = dgl.to_bidirected(g)\n",
        "\n",
        "    # # atoms\n",
        "    atom_features_list = []\n",
        "    for atom in mol.GetAtoms():\n",
        "        atom_features_list.append(atom_to_feature_vector(atom))\n",
        "    x = np.array(atom_features_list, dtype = np.int64)\n",
        "\n",
        "    # # bonds\n",
        "    # num_bond_features = 3  # bond type, bond stereo, is_conjugated\n",
        "    # if len(mol.GetBonds()) > 0: # mol has bonds\n",
        "    #     edges_list = []\n",
        "    #     edge_features_list = []\n",
        "    #     for bond in mol.GetBonds():\n",
        "    #         i = bond.GetBeginAtomIdx()\n",
        "    #         j = bond.GetEndAtomIdx()\n",
        "\n",
        "    #         edge_feature = bond_to_feature_vector(bond)\n",
        "\n",
        "    #         # add edges in both directions\n",
        "    #         edges_list.append((i, j))\n",
        "    #         edge_features_list.append(edge_feature)\n",
        "    #         edges_list.append((j, i))\n",
        "    #         edge_features_list.append(edge_feature)\n",
        "\n",
        "    #     # data.edge_index: Graph connectivity in COO format with shape [2, num_edges]\n",
        "    #     edge_index = np.array(edges_list, dtype = np.int64).T\n",
        "\n",
        "    #     # data.edge_attr: Edge feature matrix with shape [num_edges, num_edge_features]\n",
        "    #     edge_attr = np.array(edge_features_list, dtype = np.int64)\n",
        "\n",
        "    # else:   # mol has no bonds\n",
        "    #     edge_index = np.empty((2, 0), dtype = np.int64)\n",
        "    #     edge_attr = np.empty((0, num_bond_features), dtype = np.int64)\n",
        "\n",
        "    # print(edge_attr.shape, edge_index.shape, x.shape)\n",
        "    bg.ndata['node_feat'] = torch.FloatTensor(x)\n",
        "    # bg.edata['edge_feat'] = torch.tensor(edge_attr)\n",
        "\n",
        "    # return graph \n",
        "    return bg"
      ],
      "execution_count": null,
      "outputs": []
    },
    {
      "cell_type": "code",
      "metadata": {
        "id": "gvrll-n0DbGn"
      },
      "source": [
        "mol1 = smiles2graph(smiles[0])\n",
        "print(mol1)\n",
        "mol2 = smiles2graph(smiles[1])\n",
        "print(mol2)"
      ],
      "execution_count": null,
      "outputs": []
    },
    {
      "cell_type": "code",
      "metadata": {
        "id": "zn_M_ND-LZfs"
      },
      "source": [
        ""
      ],
      "execution_count": null,
      "outputs": []
    },
    {
      "cell_type": "code",
      "metadata": {
        "id": "GBXvI40BLZl6"
      },
      "source": [
        ""
      ],
      "execution_count": null,
      "outputs": []
    },
    {
      "cell_type": "code",
      "metadata": {
        "id": "Na3ERQ14LZsf"
      },
      "source": [
        ""
      ],
      "execution_count": null,
      "outputs": []
    },
    {
      "cell_type": "markdown",
      "metadata": {
        "id": "-0rW-MWzlSRD"
      },
      "source": [
        "## Autoencoder Model and Training loop"
      ]
    },
    {
      "cell_type": "code",
      "metadata": {
        "id": "2tVl-ForDozL"
      },
      "source": [
        "# https://github.com/MarounHaddad/Exploring-the-representational-power-of-graph-autoencoder/blob/f0aef4b793346913d8ea2ccb0de339b88acb992e/embedding_models/gae.py\n",
        "# https://github.com/rangan2510/Single-Cell---GCN-Autoencoder/blob/main/sc-gcn-dat_1/runner.py\n",
        "class EncoderLayer(nn.Module):\n",
        "    def __init__(self, in_feats, out_feats):\n",
        "        super(EncoderLayer, self).__init__()\n",
        "        self.layersList = nn.ModuleList()\n",
        "        self.layersList.append(SAGEConv(in_feats, out_feats, 'gcn'))\n",
        "        self.layersList.append(SAGEConv(out_feats, out_feats, 'gcn'))\n",
        "        # self.layersList.append(GraphConv(out_feats,out_feats))\n",
        "        # self.fc = nn.Linear(in_feats, out_feats)\n",
        "        self.relu = nn.ReLU()\n",
        "\n",
        "    def forward(self, g, feats):\n",
        "        temp = feats\n",
        "        for L in self.layersList:\n",
        "            temp = L(g,temp)\n",
        "            temp = self.relu(temp)\n",
        "        # print(\"1\")\n",
        "        # print(temp.shape)\n",
        "        # temp = self.fc(temp)\n",
        "        # print(\"2\")\n",
        "        return temp\n",
        "\n",
        "    # def __init__(self, in_feats, out_feats, activation, dropout):\n",
        "    #     super(EncoderLayer, self).__init__()\n",
        "    #     self.linear = nn.Linear(in_feats, out_feats, bias=True)\n",
        "    #     self.activation = activation\n",
        "    #     self.norm = nn.BatchNorm1d(out_feats)\n",
        "    #     self.drop = nn.Dropout(dropout)\n",
        "\n",
        "    # def forward(self, g: dgl.graph, input):\n",
        "    #     g.ndata['h'] = input\n",
        "\n",
        "    #     if network_type == \"gae_mean\":\n",
        "    #         # broadcast all messages and aggregate them according to the mean rule\n",
        "    #         g.update_all(gcn_message, gcn_mean_reduce)\n",
        "    #     else:\n",
        "    #         # broadcast all messages and aggregate them according to the sum rule\n",
        "    #         g.update_all(gcn_message, gcn_sum_reduce)\n",
        "\n",
        "    #     h = g.ndata.pop('h')\n",
        "    #     h = self.linear(h)\n",
        "    #     h = self.activation(h)\n",
        "    #     h = self.norm(h)\n",
        "    #     h = self.drop(h)\n",
        "    #     return h\n",
        "\n",
        "class DecoderLayer(nn.Module):\n",
        "    def __init__(self, in_feats, out_feats):\n",
        "        super(DecoderLayer, self).__init__()\n",
        "        self.layersList = nn.ModuleList()\n",
        "        self.layersList.append(SAGEConv(in_feats, out_feats, 'gcn'))\n",
        "        self.layersList.append(SAGEConv(out_feats, out_feats, 'gcn'))\n",
        "        # self.layersList.append(GraphConv(out_feats,out_feats))\n",
        "        # self.fc = nn.Linear(in_feats, out_feats)\n",
        "        self.relu = nn.ReLU()\n",
        "\n",
        "    def forward(self, g, feats):\n",
        "        temp = feats\n",
        "        for L in self.layersList:\n",
        "            temp = L(g,temp)\n",
        "            temp = self.relu(temp)\n",
        "        # print(\"3\")\n",
        "        # temp = self.fc(temp)\n",
        "        # print(\"4\")\n",
        "        return temp\n",
        "\n",
        "    # def __init__(self, activation, num_features, dropout):\n",
        "    #     super(DecoderLayer, self).__init__()\n",
        "    #     self.activation = activation\n",
        "    #     self.var = torch.var\n",
        "    #     self.norm = nn.BatchNorm1d(num_features)\n",
        "    #     self.drop = nn.Dropout(dropout)\n",
        "\n",
        "    # def forward(self, z):\n",
        "    #     # the decoder reconstructs the adjacency by multiplying\n",
        "    #     # the output of the encoder with its transpose\n",
        "    #     h = torch.mm(z, z.t())\n",
        "    #     h = self.activation(h)\n",
        "    #     h = self.norm(h)\n",
        "    #     h = self.drop(h)\n",
        "    #     return h\n",
        "\n",
        "class AutoEncoder(nn.Module):\n",
        "    def __init__(self, in_feats, out_feats):\n",
        "        super(AutoEncoder, self).__init__()\n",
        "        self.encoderLayer = EncoderLayer(in_feats, out_feats)\n",
        "        self.decoderLayer = DecoderLayer(out_feats, in_feats)\n",
        "        self.batchNormLayer = nn.BatchNorm1d(out_feats)\n",
        "        # self.dropoutLayer = nn.Dropout(dropout)\n",
        "    def forward(self, g, inputs):\n",
        "        temp = self.encoderLayer(g, inputs)\n",
        "        temp = self.batchNormLayer(temp)\n",
        "        # temp = self.dropoutLayer(temp)\n",
        "        temp = self.decoderLayer(g, temp)\n",
        "        return temp"
      ],
      "execution_count": null,
      "outputs": []
    },
    {
      "cell_type": "code",
      "metadata": {
        "id": "NFtsgKX8VSAD"
      },
      "source": [
        "# help(nn.KLDivLoss)"
      ],
      "execution_count": null,
      "outputs": []
    },
    {
      "cell_type": "code",
      "metadata": {
        "id": "cO0S9tCqLLdf"
      },
      "source": [
        "g = smiles2graph(smiles[0])\n",
        "g = dgl.add_self_loop(g)\n",
        "# 155*9 --> 155*3 -> 100\n",
        "model = AutoEncoder(g.ndata['node_feat'].shape[1], 3)\n",
        "\n",
        "optimizer = torch.optim.Adam(model.parameters(), lr=0.01)\n",
        "\n",
        "loss_fn = nn.KLDivLoss()\n",
        "\n",
        "all_logits = []\n",
        "for e in range(1000):\n",
        "    pred = model(g, g.ndata['node_feat'])\n",
        "    pred = F.log_softmax(pred, 1)\n",
        "    loss = loss_fn(pred, g.ndata['node_feat'])\n",
        "\n",
        "    optimizer.zero_grad()\n",
        "    loss.backward()\n",
        "    optimizer.step()\n",
        "\n",
        "    if e % 50 == 0:\n",
        "        print('In epoch {}, loss: {}'.format(e, loss))\n"
      ],
      "execution_count": null,
      "outputs": []
    },
    {
      "cell_type": "code",
      "metadata": {
        "id": "5jbSDUObLLmM"
      },
      "source": [
        "# # help(nn.CrossEntropyLoss)\n",
        "# nn.CrossEntropyLoss?\n",
        "# nn.KLDivLoss?\n",
        "# nn.LogSoftmax?"
      ],
      "execution_count": null,
      "outputs": []
    },
    {
      "cell_type": "code",
      "metadata": {
        "id": "rKpdtHHeLLu2"
      },
      "source": [
        ""
      ],
      "execution_count": null,
      "outputs": []
    },
    {
      "cell_type": "code",
      "metadata": {
        "id": "wGOS8OTSDJ0J"
      },
      "source": [
        ""
      ],
      "execution_count": null,
      "outputs": []
    },
    {
      "cell_type": "code",
      "metadata": {
        "id": "v9NlV9CGMcH5"
      },
      "source": [
        ""
      ],
      "execution_count": null,
      "outputs": []
    },
    {
      "cell_type": "code",
      "metadata": {
        "id": "1RfpIbdWMcMw"
      },
      "source": [
        ""
      ],
      "execution_count": null,
      "outputs": []
    },
    {
      "cell_type": "code",
      "metadata": {
        "id": "3fNqylfTMcRY"
      },
      "source": [
        ""
      ],
      "execution_count": null,
      "outputs": []
    }
  ]
}